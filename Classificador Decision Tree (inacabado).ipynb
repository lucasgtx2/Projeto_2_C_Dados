{
 "cells": [
  {
   "cell_type": "markdown",
   "metadata": {},
   "source": [
    "# Projeto 2 - Ciência dos Dados"
   ]
  },
  {
   "cell_type": "markdown",
   "metadata": {},
   "source": [
    "Grupo: Guilherme Ricchetti Carvalho, Keiya Nishio, Lucas Gabriel Mocellin Teixeira e Matheus Marques Venturi.\n",
    "\n",
    "\n",
    "Turma: C"
   ]
  },
  {
   "cell_type": "markdown",
   "metadata": {},
   "source": [
    "### Importando bibliotecas"
   ]
  },
  {
   "cell_type": "code",
   "execution_count": 100,
   "metadata": {},
   "outputs": [],
   "source": [
    "%matplotlib inline\n",
    "import pandas as pd\n",
    "import matplotlib.pyplot as plt\n",
    "import numpy as np\n",
    "import os\n",
    "from sklearn.model_selection import train_test_split"
   ]
  },
  {
   "cell_type": "markdown",
   "metadata": {},
   "source": [
    "# Proposta\n",
    "\n",
    "Classificar a comestibilidade (comestível ou venenoso) de um cogumelo com base em características morfológicas e ecológicas.\n",
    "\n",
    "Dataset disponível no seguinte link: https://www.kaggle.com/uciml/mushroom-classification"
   ]
  },
  {
   "cell_type": "markdown",
   "metadata": {},
   "source": [
    "# Carregando Dados"
   ]
  },
  {
   "cell_type": "code",
   "execution_count": 101,
   "metadata": {},
   "outputs": [
    {
     "name": "stdout",
     "output_type": "stream",
     "text": [
      "Encontrei o arquivo mushrooms.csv, tudo certo para prosseguir com o projeto!\n"
     ]
    }
   ],
   "source": [
    "import os\n",
    "\n",
    "filename = 'mushrooms.csv'\n",
    "if filename in os.listdir():\n",
    "    print(f'Encontrei o arquivo {filename}, tudo certo para prosseguir com o projeto!')\n",
    "else:\n",
    "    print(f'Não encontrei o arquivo {filename} aqui no diretório {os.getcwd()}, será que você não baixou o arquivo?')"
   ]
  },
  {
   "cell_type": "code",
   "execution_count": 102,
   "metadata": {
    "scrolled": true
   },
   "outputs": [
    {
     "data": {
      "text/html": [
       "<div>\n",
       "<style scoped>\n",
       "    .dataframe tbody tr th:only-of-type {\n",
       "        vertical-align: middle;\n",
       "    }\n",
       "\n",
       "    .dataframe tbody tr th {\n",
       "        vertical-align: top;\n",
       "    }\n",
       "\n",
       "    .dataframe thead th {\n",
       "        text-align: right;\n",
       "    }\n",
       "</style>\n",
       "<table border=\"1\" class=\"dataframe\">\n",
       "  <thead>\n",
       "    <tr style=\"text-align: right;\">\n",
       "      <th></th>\n",
       "      <th>class</th>\n",
       "      <th>cap-shape</th>\n",
       "      <th>cap-surface</th>\n",
       "      <th>cap-color</th>\n",
       "      <th>bruises</th>\n",
       "      <th>odor</th>\n",
       "      <th>gill-attachment</th>\n",
       "      <th>gill-spacing</th>\n",
       "      <th>gill-size</th>\n",
       "      <th>gill-color</th>\n",
       "      <th>...</th>\n",
       "      <th>stalk-surface-below-ring</th>\n",
       "      <th>stalk-color-above-ring</th>\n",
       "      <th>stalk-color-below-ring</th>\n",
       "      <th>veil-type</th>\n",
       "      <th>veil-color</th>\n",
       "      <th>ring-number</th>\n",
       "      <th>ring-type</th>\n",
       "      <th>spore-print-color</th>\n",
       "      <th>population</th>\n",
       "      <th>habitat</th>\n",
       "    </tr>\n",
       "  </thead>\n",
       "  <tbody>\n",
       "    <tr>\n",
       "      <th>0</th>\n",
       "      <td>p</td>\n",
       "      <td>x</td>\n",
       "      <td>s</td>\n",
       "      <td>n</td>\n",
       "      <td>t</td>\n",
       "      <td>p</td>\n",
       "      <td>f</td>\n",
       "      <td>c</td>\n",
       "      <td>n</td>\n",
       "      <td>k</td>\n",
       "      <td>...</td>\n",
       "      <td>s</td>\n",
       "      <td>w</td>\n",
       "      <td>w</td>\n",
       "      <td>p</td>\n",
       "      <td>w</td>\n",
       "      <td>o</td>\n",
       "      <td>p</td>\n",
       "      <td>k</td>\n",
       "      <td>s</td>\n",
       "      <td>u</td>\n",
       "    </tr>\n",
       "    <tr>\n",
       "      <th>1</th>\n",
       "      <td>e</td>\n",
       "      <td>x</td>\n",
       "      <td>s</td>\n",
       "      <td>y</td>\n",
       "      <td>t</td>\n",
       "      <td>a</td>\n",
       "      <td>f</td>\n",
       "      <td>c</td>\n",
       "      <td>b</td>\n",
       "      <td>k</td>\n",
       "      <td>...</td>\n",
       "      <td>s</td>\n",
       "      <td>w</td>\n",
       "      <td>w</td>\n",
       "      <td>p</td>\n",
       "      <td>w</td>\n",
       "      <td>o</td>\n",
       "      <td>p</td>\n",
       "      <td>n</td>\n",
       "      <td>n</td>\n",
       "      <td>g</td>\n",
       "    </tr>\n",
       "    <tr>\n",
       "      <th>2</th>\n",
       "      <td>e</td>\n",
       "      <td>b</td>\n",
       "      <td>s</td>\n",
       "      <td>w</td>\n",
       "      <td>t</td>\n",
       "      <td>l</td>\n",
       "      <td>f</td>\n",
       "      <td>c</td>\n",
       "      <td>b</td>\n",
       "      <td>n</td>\n",
       "      <td>...</td>\n",
       "      <td>s</td>\n",
       "      <td>w</td>\n",
       "      <td>w</td>\n",
       "      <td>p</td>\n",
       "      <td>w</td>\n",
       "      <td>o</td>\n",
       "      <td>p</td>\n",
       "      <td>n</td>\n",
       "      <td>n</td>\n",
       "      <td>m</td>\n",
       "    </tr>\n",
       "    <tr>\n",
       "      <th>3</th>\n",
       "      <td>p</td>\n",
       "      <td>x</td>\n",
       "      <td>y</td>\n",
       "      <td>w</td>\n",
       "      <td>t</td>\n",
       "      <td>p</td>\n",
       "      <td>f</td>\n",
       "      <td>c</td>\n",
       "      <td>n</td>\n",
       "      <td>n</td>\n",
       "      <td>...</td>\n",
       "      <td>s</td>\n",
       "      <td>w</td>\n",
       "      <td>w</td>\n",
       "      <td>p</td>\n",
       "      <td>w</td>\n",
       "      <td>o</td>\n",
       "      <td>p</td>\n",
       "      <td>k</td>\n",
       "      <td>s</td>\n",
       "      <td>u</td>\n",
       "    </tr>\n",
       "    <tr>\n",
       "      <th>4</th>\n",
       "      <td>e</td>\n",
       "      <td>x</td>\n",
       "      <td>s</td>\n",
       "      <td>g</td>\n",
       "      <td>f</td>\n",
       "      <td>n</td>\n",
       "      <td>f</td>\n",
       "      <td>w</td>\n",
       "      <td>b</td>\n",
       "      <td>k</td>\n",
       "      <td>...</td>\n",
       "      <td>s</td>\n",
       "      <td>w</td>\n",
       "      <td>w</td>\n",
       "      <td>p</td>\n",
       "      <td>w</td>\n",
       "      <td>o</td>\n",
       "      <td>e</td>\n",
       "      <td>n</td>\n",
       "      <td>a</td>\n",
       "      <td>g</td>\n",
       "    </tr>\n",
       "  </tbody>\n",
       "</table>\n",
       "<p>5 rows × 23 columns</p>\n",
       "</div>"
      ],
      "text/plain": [
       "  class cap-shape cap-surface cap-color bruises odor gill-attachment  \\\n",
       "0     p         x           s         n       t    p               f   \n",
       "1     e         x           s         y       t    a               f   \n",
       "2     e         b           s         w       t    l               f   \n",
       "3     p         x           y         w       t    p               f   \n",
       "4     e         x           s         g       f    n               f   \n",
       "\n",
       "  gill-spacing gill-size gill-color  ... stalk-surface-below-ring  \\\n",
       "0            c         n          k  ...                        s   \n",
       "1            c         b          k  ...                        s   \n",
       "2            c         b          n  ...                        s   \n",
       "3            c         n          n  ...                        s   \n",
       "4            w         b          k  ...                        s   \n",
       "\n",
       "  stalk-color-above-ring stalk-color-below-ring veil-type veil-color  \\\n",
       "0                      w                      w         p          w   \n",
       "1                      w                      w         p          w   \n",
       "2                      w                      w         p          w   \n",
       "3                      w                      w         p          w   \n",
       "4                      w                      w         p          w   \n",
       "\n",
       "  ring-number ring-type spore-print-color population habitat  \n",
       "0           o         p                 k          s       u  \n",
       "1           o         p                 n          n       g  \n",
       "2           o         p                 n          n       m  \n",
       "3           o         p                 k          s       u  \n",
       "4           o         e                 n          a       g  \n",
       "\n",
       "[5 rows x 23 columns]"
      ]
     },
     "execution_count": 102,
     "metadata": {},
     "output_type": "execute_result"
    }
   ],
   "source": [
    "dataset=pd.read_csv(filename)\n",
    "dataset.head(5)"
   ]
  },
  {
   "cell_type": "code",
   "execution_count": 103,
   "metadata": {},
   "outputs": [],
   "source": [
    "#dataset=dataset.dropna()  # Remover linhas com colunas vazias (NaN)  -- não precisou"
   ]
  },
  {
   "cell_type": "markdown",
   "metadata": {},
   "source": [
    "### Tradução do dataset para português"
   ]
  },
  {
   "cell_type": "markdown",
   "metadata": {},
   "source": [
    "Nas próximas duas células, foi feita uma adaptação do dataset para a língua portuguesa, de modo a permitir uma melhor interpretação dos dados."
   ]
  },
  {
   "cell_type": "code",
   "execution_count": 104,
   "metadata": {},
   "outputs": [],
   "source": [
    "dataset = dataset.rename(columns = \n",
    "                     {'class': 'classe',\n",
    "                      'cap-shape': 'formato-chapéu', \n",
    "                      'cap-surface': 'superfície-chapéu',\n",
    "                      'cap-color': 'cor-chapéu',\n",
    "                      'bruises': 'hematomas',\n",
    "                      'odor': 'odor',\n",
    "                      'gill-attachment': 'ligação-lamela',\n",
    "                      'gill-spacing': 'espaçamento-lamela',\n",
    "                      'gill-size': 'tamanho-lamela',\n",
    "                      'gill-color': 'cor-lamela',\n",
    "                      'stalk-shape': 'formato-estipe',\n",
    "                      'stalk-root': 'raiz-estipe',\n",
    "                      'stalk-surface-above-ring': 'superfície-estipe-sobre-anel',\n",
    "                      'stalk-surface-below-ring': 'superfície-estipe-sob-anel',\n",
    "                      'stalk-color-above-ring': 'cor-estipe-sobre-anel',\n",
    "                      'stalk-color-below-ring': 'cor-estipe-sob-anel',\n",
    "                      'veil-type': 'tipo-volva',\n",
    "                      'veil-color': 'cor-volva',\n",
    "                      'ring-number': 'quantidade-anéis',\n",
    "                      'ring-type': 'tipo-anel',\n",
    "                      'spore-print-color': 'cor-impressão-esporo',\n",
    "                      'population': 'população',\n",
    "                      'habitat': 'habitat'}, inplace = False)"
   ]
  },
  {
   "cell_type": "code",
   "execution_count": 105,
   "metadata": {},
   "outputs": [],
   "source": [
    "dataset['classe']=dataset['classe'].astype('category')\n",
    "dataset['classe'].cat.categories = ['comestível', 'venenoso']\n",
    "\n",
    "dataset['formato-chapéu']=dataset['formato-chapéu'].astype('category')\n",
    "dataset['formato-chapéu'].cat.categories = ['sino', 'cone', 'reto', 'nodoso', 'afundado', 'convexo']\n",
    "\n",
    "dataset['superfície-chapéu']=dataset['superfície-chapéu'].astype('category')\n",
    "dataset['superfície-chapéu'].cat.categories = ['fibroso', 'ranhuras', 'liso', 'escamoso']\n",
    " \n",
    "dataset['cor-chapéu']=dataset['cor-chapéu'].astype('category')\n",
    "dataset['cor-chapéu'].cat.categories = ['couro', 'canela', 'vermelho', 'cinza', 'marrom', 'rosa', 'verde', 'roxo', 'branco', 'amarelo']\n",
    "\n",
    "dataset['hematomas']=dataset['hematomas'].astype('category')\n",
    "dataset['hematomas'].cat.categories = ['não tem' , 'tem']\n",
    "\n",
    "dataset['odor']=dataset['odor'].astype('category')\n",
    "dataset['odor'].cat.categories = ['amêndoa', 'creosote', 'podre', 'anis', 'mofado', 'nenhum', 'pungente', 'picante', 'peixe']\n",
    "\n",
    "dataset['ligação-lamela']=dataset['ligação-lamela'].astype('category')\n",
    "dataset['ligação-lamela'].cat.categories = ['conectada', 'solta']\n",
    "\n",
    "dataset['espaçamento-lamela']=dataset['espaçamento-lamela'].astype('category')\n",
    "dataset['espaçamento-lamela'].cat.categories = ['perto', 'lotado']\n",
    "\n",
    "dataset['tamanho-lamela']=dataset['tamanho-lamela'].astype('category')\n",
    "dataset['tamanho-lamela'].cat.categories = ['ampla', 'estreita']\n",
    "\n",
    "dataset['cor-lamela']=dataset['cor-lamela'].astype('category')\n",
    "dataset['cor-lamela'].cat.categories = ['couro', 'vermelha', 'cinza', 'chocolate', 'preta', 'marrom', 'laranja', 'rosa', 'verde', 'roxa', 'branca', 'amarelo']\n",
    "\n",
    "dataset['formato-estipe']=dataset['formato-estipe'].astype('category')\n",
    "dataset['formato-estipe'].cat.categories = ['alargando', 'afunilando']\n",
    "    \n",
    "dataset['raiz-estipe']=dataset['raiz-estipe'].astype('category')\n",
    "dataset['raiz-estipe'].cat.categories = ['não tem', 'bulboso', 'clava', 'reto', 'enraizado']\n",
    "\n",
    "dataset['superfície-estipe-sobre-anel']=dataset['superfície-estipe-sobre-anel'].astype('category')\n",
    "dataset['superfície-estipe-sobre-anel'].cat.categories = ['fibroso', 'sedoso', 'liso', 'escamoso']\n",
    "\n",
    "dataset['superfície-estipe-sob-anel']=dataset['superfície-estipe-sob-anel'].astype('category')\n",
    "dataset['superfície-estipe-sob-anel'].cat.categories = ['fibroso', 'sedoso', 'liso', 'escamoso']\n",
    "\n",
    "dataset['cor-estipe-sobre-anel']=dataset['cor-estipe-sobre-anel'].astype('category')\n",
    "dataset['cor-estipe-sobre-anel'].cat.categories = ['couro', 'canela', 'vermelho', 'cinza', 'marrom', 'laranja', 'rosa', 'branco', 'amarelo']\n",
    "\n",
    "dataset['cor-estipe-sob-anel']=dataset['cor-estipe-sob-anel'].astype('category')\n",
    "dataset['cor-estipe-sob-anel']. cat.categories = ['couro', 'canela', 'vermelho', 'cinza', 'marrom', 'laranja', 'rosa', 'branco', 'amarelo']\n",
    "\n",
    "dataset['tipo-volva']=dataset['tipo-volva'].astype('category')\n",
    "dataset['tipo-volva'].cat.categories = ['parcial']\n",
    "\n",
    "dataset['cor-volva']=dataset['cor-volva'].astype('category')\n",
    "dataset['cor-volva'].cat.categories = ['marrom' , 'laranja', 'branco', 'amarelo']\n",
    "\n",
    "dataset['quantidade-anéis']=dataset['quantidade-anéis'].astype('category')\n",
    "dataset['quantidade-anéis'].cat.categories = ['nenhum' , 'um', 'dois']\n",
    "\n",
    "dataset['tipo-anel']=dataset['tipo-anel'].astype('category')\n",
    "dataset['tipo-anel'].cat.categories = ['evanescente', 'deslumbrante', 'grande', 'nenhum', 'pingente']\n",
    "\n",
    "dataset['cor-impressão-esporo']=dataset['cor-impressão-esporo'].astype('category')\n",
    "dataset['cor-impressão-esporo'].cat.categories = ['couro', 'chocolate', 'preto', 'marrom', 'laranja', 'verde', 'roxo', 'branco', 'amarelo']\n",
    "\n",
    "dataset['população']=dataset['população'].astype('category')\n",
    "dataset['população'].cat.categories=['abundante', 'aglomerado', 'numeroso', 'espalhado', 'diverso', 'solitário']\n",
    "\n",
    "dataset['habitat']=dataset['habitat'].astype('category')\n",
    "dataset['habitat'].cat.categories=['madeira', 'gramínea', 'folha', 'pradaria', 'trilha', 'urbano', 'lixo']"
   ]
  },
  {
   "cell_type": "code",
   "execution_count": 106,
   "metadata": {},
   "outputs": [],
   "source": [
    "train, test = train_test_split(dataset, test_size=0.25, random_state=1)  # separar dataset em treinamento e teste"
   ]
  },
  {
   "cell_type": "markdown",
   "metadata": {},
   "source": [
    "Separando a base de treinamento em duas (cogumelos venenosos e cogumelos comestíveis):"
   ]
  },
  {
   "cell_type": "code",
   "execution_count": 107,
   "metadata": {},
   "outputs": [],
   "source": [
    "venenoso=train.loc[train['classe']=='venenoso', :]\n",
    "comestível=train.loc[train['classe']=='comestível', :]"
   ]
  },
  {
   "cell_type": "markdown",
   "metadata": {},
   "source": [
    "# Classificador Decision Tree"
   ]
  },
  {
   "cell_type": "markdown",
   "metadata": {},
   "source": [
    "Esta seção é destinada à aplicação do modelo de classificação Decision Tree. Esse modelo utiliza a base treinamento (separada a partir do dataset) para prever a classe de um dado cogumelo."
   ]
  },
  {
   "cell_type": "markdown",
   "metadata": {},
   "source": [
    "### Funcionamento do Classificador"
   ]
  },
  {
   "cell_type": "code",
   "execution_count": null,
   "metadata": {},
   "outputs": [],
   "source": []
  },
  {
   "cell_type": "markdown",
   "metadata": {},
   "source": [
    "### Aplicação do Classificador"
   ]
  },
  {
   "cell_type": "code",
   "execution_count": 108,
   "metadata": {},
   "outputs": [],
   "source": [
    "colunas_feature = list(train.columns)\n",
    "colunas_feature.remove('classe')"
   ]
  },
  {
   "cell_type": "code",
   "execution_count": 109,
   "metadata": {},
   "outputs": [
    {
     "data": {
      "text/html": [
       "<div>\n",
       "<style scoped>\n",
       "    .dataframe tbody tr th:only-of-type {\n",
       "        vertical-align: middle;\n",
       "    }\n",
       "\n",
       "    .dataframe tbody tr th {\n",
       "        vertical-align: top;\n",
       "    }\n",
       "\n",
       "    .dataframe thead th {\n",
       "        text-align: right;\n",
       "    }\n",
       "</style>\n",
       "<table border=\"1\" class=\"dataframe\">\n",
       "  <thead>\n",
       "    <tr style=\"text-align: right;\">\n",
       "      <th></th>\n",
       "      <th>formato-chapéu_sino</th>\n",
       "      <th>formato-chapéu_cone</th>\n",
       "      <th>formato-chapéu_reto</th>\n",
       "      <th>formato-chapéu_nodoso</th>\n",
       "      <th>formato-chapéu_afundado</th>\n",
       "      <th>formato-chapéu_convexo</th>\n",
       "      <th>superfície-chapéu_fibroso</th>\n",
       "      <th>superfície-chapéu_ranhuras</th>\n",
       "      <th>superfície-chapéu_liso</th>\n",
       "      <th>superfície-chapéu_escamoso</th>\n",
       "      <th>...</th>\n",
       "      <th>população_espalhado</th>\n",
       "      <th>população_diverso</th>\n",
       "      <th>população_solitário</th>\n",
       "      <th>habitat_madeira</th>\n",
       "      <th>habitat_gramínea</th>\n",
       "      <th>habitat_folha</th>\n",
       "      <th>habitat_pradaria</th>\n",
       "      <th>habitat_trilha</th>\n",
       "      <th>habitat_urbano</th>\n",
       "      <th>habitat_lixo</th>\n",
       "    </tr>\n",
       "  </thead>\n",
       "  <tbody>\n",
       "    <tr>\n",
       "      <th>6253</th>\n",
       "      <td>0</td>\n",
       "      <td>0</td>\n",
       "      <td>0</td>\n",
       "      <td>0</td>\n",
       "      <td>0</td>\n",
       "      <td>1</td>\n",
       "      <td>0</td>\n",
       "      <td>0</td>\n",
       "      <td>0</td>\n",
       "      <td>1</td>\n",
       "      <td>...</td>\n",
       "      <td>0</td>\n",
       "      <td>1</td>\n",
       "      <td>0</td>\n",
       "      <td>0</td>\n",
       "      <td>0</td>\n",
       "      <td>0</td>\n",
       "      <td>0</td>\n",
       "      <td>1</td>\n",
       "      <td>0</td>\n",
       "      <td>0</td>\n",
       "    </tr>\n",
       "    <tr>\n",
       "      <th>2739</th>\n",
       "      <td>0</td>\n",
       "      <td>0</td>\n",
       "      <td>0</td>\n",
       "      <td>0</td>\n",
       "      <td>0</td>\n",
       "      <td>1</td>\n",
       "      <td>0</td>\n",
       "      <td>0</td>\n",
       "      <td>0</td>\n",
       "      <td>1</td>\n",
       "      <td>...</td>\n",
       "      <td>0</td>\n",
       "      <td>0</td>\n",
       "      <td>1</td>\n",
       "      <td>1</td>\n",
       "      <td>0</td>\n",
       "      <td>0</td>\n",
       "      <td>0</td>\n",
       "      <td>0</td>\n",
       "      <td>0</td>\n",
       "      <td>0</td>\n",
       "    </tr>\n",
       "    <tr>\n",
       "      <th>7436</th>\n",
       "      <td>0</td>\n",
       "      <td>0</td>\n",
       "      <td>0</td>\n",
       "      <td>1</td>\n",
       "      <td>0</td>\n",
       "      <td>0</td>\n",
       "      <td>0</td>\n",
       "      <td>0</td>\n",
       "      <td>1</td>\n",
       "      <td>0</td>\n",
       "      <td>...</td>\n",
       "      <td>0</td>\n",
       "      <td>1</td>\n",
       "      <td>0</td>\n",
       "      <td>0</td>\n",
       "      <td>0</td>\n",
       "      <td>1</td>\n",
       "      <td>0</td>\n",
       "      <td>0</td>\n",
       "      <td>0</td>\n",
       "      <td>0</td>\n",
       "    </tr>\n",
       "    <tr>\n",
       "      <th>6339</th>\n",
       "      <td>0</td>\n",
       "      <td>0</td>\n",
       "      <td>0</td>\n",
       "      <td>0</td>\n",
       "      <td>0</td>\n",
       "      <td>1</td>\n",
       "      <td>0</td>\n",
       "      <td>0</td>\n",
       "      <td>1</td>\n",
       "      <td>0</td>\n",
       "      <td>...</td>\n",
       "      <td>0</td>\n",
       "      <td>1</td>\n",
       "      <td>0</td>\n",
       "      <td>0</td>\n",
       "      <td>0</td>\n",
       "      <td>1</td>\n",
       "      <td>0</td>\n",
       "      <td>0</td>\n",
       "      <td>0</td>\n",
       "      <td>0</td>\n",
       "    </tr>\n",
       "    <tr>\n",
       "      <th>4654</th>\n",
       "      <td>0</td>\n",
       "      <td>0</td>\n",
       "      <td>1</td>\n",
       "      <td>0</td>\n",
       "      <td>0</td>\n",
       "      <td>0</td>\n",
       "      <td>1</td>\n",
       "      <td>0</td>\n",
       "      <td>0</td>\n",
       "      <td>0</td>\n",
       "      <td>...</td>\n",
       "      <td>0</td>\n",
       "      <td>0</td>\n",
       "      <td>1</td>\n",
       "      <td>1</td>\n",
       "      <td>0</td>\n",
       "      <td>0</td>\n",
       "      <td>0</td>\n",
       "      <td>0</td>\n",
       "      <td>0</td>\n",
       "      <td>0</td>\n",
       "    </tr>\n",
       "  </tbody>\n",
       "</table>\n",
       "<p>5 rows × 117 columns</p>\n",
       "</div>"
      ],
      "text/plain": [
       "      formato-chapéu_sino  formato-chapéu_cone  formato-chapéu_reto  \\\n",
       "6253                    0                    0                    0   \n",
       "2739                    0                    0                    0   \n",
       "7436                    0                    0                    0   \n",
       "6339                    0                    0                    0   \n",
       "4654                    0                    0                    1   \n",
       "\n",
       "      formato-chapéu_nodoso  formato-chapéu_afundado  formato-chapéu_convexo  \\\n",
       "6253                      0                        0                       1   \n",
       "2739                      0                        0                       1   \n",
       "7436                      1                        0                       0   \n",
       "6339                      0                        0                       1   \n",
       "4654                      0                        0                       0   \n",
       "\n",
       "      superfície-chapéu_fibroso  superfície-chapéu_ranhuras  \\\n",
       "6253                          0                           0   \n",
       "2739                          0                           0   \n",
       "7436                          0                           0   \n",
       "6339                          0                           0   \n",
       "4654                          1                           0   \n",
       "\n",
       "      superfície-chapéu_liso  superfície-chapéu_escamoso  ...  \\\n",
       "6253                       0                           1  ...   \n",
       "2739                       0                           1  ...   \n",
       "7436                       1                           0  ...   \n",
       "6339                       1                           0  ...   \n",
       "4654                       0                           0  ...   \n",
       "\n",
       "      população_espalhado  população_diverso  população_solitário  \\\n",
       "6253                    0                  1                    0   \n",
       "2739                    0                  0                    1   \n",
       "7436                    0                  1                    0   \n",
       "6339                    0                  1                    0   \n",
       "4654                    0                  0                    1   \n",
       "\n",
       "      habitat_madeira  habitat_gramínea  habitat_folha  habitat_pradaria  \\\n",
       "6253                0                 0              0                 0   \n",
       "2739                1                 0              0                 0   \n",
       "7436                0                 0              1                 0   \n",
       "6339                0                 0              1                 0   \n",
       "4654                1                 0              0                 0   \n",
       "\n",
       "      habitat_trilha  habitat_urbano  habitat_lixo  \n",
       "6253               1               0             0  \n",
       "2739               0               0             0  \n",
       "7436               0               0             0  \n",
       "6339               0               0             0  \n",
       "4654               0               0             0  \n",
       "\n",
       "[5 rows x 117 columns]"
      ]
     },
     "execution_count": 109,
     "metadata": {},
     "output_type": "execute_result"
    }
   ],
   "source": [
    "X = train.loc[:, colunas_feature]\n",
    "X = pd.get_dummies(X)\n",
    "X.head()"
   ]
  },
  {
   "cell_type": "code",
   "execution_count": 110,
   "metadata": {},
   "outputs": [
    {
     "name": "stderr",
     "output_type": "stream",
     "text": [
      "C:\\ProgramData\\Anaconda3\\lib\\site-packages\\pandas\\core\\indexing.py:845: SettingWithCopyWarning: \n",
      "A value is trying to be set on a copy of a slice from a DataFrame.\n",
      "Try using .loc[row_indexer,col_indexer] = value instead\n",
      "\n",
      "See the caveats in the documentation: https://pandas.pydata.org/pandas-docs/stable/user_guide/indexing.html#returning-a-view-versus-a-copy\n",
      "  self.obj[key] = _infer_fill_value(value)\n",
      "C:\\ProgramData\\Anaconda3\\lib\\site-packages\\pandas\\core\\indexing.py:966: SettingWithCopyWarning: \n",
      "A value is trying to be set on a copy of a slice from a DataFrame.\n",
      "Try using .loc[row_indexer,col_indexer] = value instead\n",
      "\n",
      "See the caveats in the documentation: https://pandas.pydata.org/pandas-docs/stable/user_guide/indexing.html#returning-a-view-versus-a-copy\n",
      "  self.obj[item] = s\n"
     ]
    }
   ],
   "source": [
    "train.loc[train['classe']=='venenoso', 'y'] = 1\n",
    "train.loc[train['classe']=='comestível', 'y'] = 0\n",
    "y=train.loc[:, 'y']"
   ]
  },
  {
   "cell_type": "code",
   "execution_count": 111,
   "metadata": {},
   "outputs": [
    {
     "data": {
      "text/plain": [
       "DecisionTreeClassifier(random_state=10)"
      ]
     },
     "execution_count": 111,
     "metadata": {},
     "output_type": "execute_result"
    }
   ],
   "source": [
    "from sklearn import datasets\n",
    "from sklearn.tree import DecisionTreeClassifier \n",
    "from sklearn import tree\n",
    "\n",
    "clf = DecisionTreeClassifier(random_state=10)\n",
    "clf.fit(X, y)"
   ]
  },
  {
   "cell_type": "markdown",
   "metadata": {},
   "source": [
    "### Testando precisão do modelo:"
   ]
  },
  {
   "cell_type": "code",
   "execution_count": 112,
   "metadata": {},
   "outputs": [
    {
     "data": {
      "text/html": [
       "<div>\n",
       "<style scoped>\n",
       "    .dataframe tbody tr th:only-of-type {\n",
       "        vertical-align: middle;\n",
       "    }\n",
       "\n",
       "    .dataframe tbody tr th {\n",
       "        vertical-align: top;\n",
       "    }\n",
       "\n",
       "    .dataframe thead th {\n",
       "        text-align: right;\n",
       "    }\n",
       "</style>\n",
       "<table border=\"1\" class=\"dataframe\">\n",
       "  <thead>\n",
       "    <tr style=\"text-align: right;\">\n",
       "      <th></th>\n",
       "      <th>formato-chapéu_sino</th>\n",
       "      <th>formato-chapéu_cone</th>\n",
       "      <th>formato-chapéu_reto</th>\n",
       "      <th>formato-chapéu_nodoso</th>\n",
       "      <th>formato-chapéu_afundado</th>\n",
       "      <th>formato-chapéu_convexo</th>\n",
       "      <th>superfície-chapéu_fibroso</th>\n",
       "      <th>superfície-chapéu_ranhuras</th>\n",
       "      <th>superfície-chapéu_liso</th>\n",
       "      <th>superfície-chapéu_escamoso</th>\n",
       "      <th>...</th>\n",
       "      <th>população_espalhado</th>\n",
       "      <th>população_diverso</th>\n",
       "      <th>população_solitário</th>\n",
       "      <th>habitat_madeira</th>\n",
       "      <th>habitat_gramínea</th>\n",
       "      <th>habitat_folha</th>\n",
       "      <th>habitat_pradaria</th>\n",
       "      <th>habitat_trilha</th>\n",
       "      <th>habitat_urbano</th>\n",
       "      <th>habitat_lixo</th>\n",
       "    </tr>\n",
       "  </thead>\n",
       "  <tbody>\n",
       "    <tr>\n",
       "      <th>1392</th>\n",
       "      <td>0</td>\n",
       "      <td>0</td>\n",
       "      <td>1</td>\n",
       "      <td>0</td>\n",
       "      <td>0</td>\n",
       "      <td>0</td>\n",
       "      <td>0</td>\n",
       "      <td>0</td>\n",
       "      <td>1</td>\n",
       "      <td>0</td>\n",
       "      <td>...</td>\n",
       "      <td>0</td>\n",
       "      <td>0</td>\n",
       "      <td>0</td>\n",
       "      <td>0</td>\n",
       "      <td>1</td>\n",
       "      <td>0</td>\n",
       "      <td>0</td>\n",
       "      <td>0</td>\n",
       "      <td>0</td>\n",
       "      <td>0</td>\n",
       "    </tr>\n",
       "    <tr>\n",
       "      <th>4051</th>\n",
       "      <td>0</td>\n",
       "      <td>0</td>\n",
       "      <td>0</td>\n",
       "      <td>0</td>\n",
       "      <td>0</td>\n",
       "      <td>1</td>\n",
       "      <td>1</td>\n",
       "      <td>0</td>\n",
       "      <td>0</td>\n",
       "      <td>0</td>\n",
       "      <td>...</td>\n",
       "      <td>0</td>\n",
       "      <td>1</td>\n",
       "      <td>0</td>\n",
       "      <td>1</td>\n",
       "      <td>0</td>\n",
       "      <td>0</td>\n",
       "      <td>0</td>\n",
       "      <td>0</td>\n",
       "      <td>0</td>\n",
       "      <td>0</td>\n",
       "    </tr>\n",
       "    <tr>\n",
       "      <th>3725</th>\n",
       "      <td>0</td>\n",
       "      <td>0</td>\n",
       "      <td>0</td>\n",
       "      <td>0</td>\n",
       "      <td>0</td>\n",
       "      <td>1</td>\n",
       "      <td>0</td>\n",
       "      <td>0</td>\n",
       "      <td>1</td>\n",
       "      <td>0</td>\n",
       "      <td>...</td>\n",
       "      <td>0</td>\n",
       "      <td>1</td>\n",
       "      <td>0</td>\n",
       "      <td>1</td>\n",
       "      <td>0</td>\n",
       "      <td>0</td>\n",
       "      <td>0</td>\n",
       "      <td>0</td>\n",
       "      <td>0</td>\n",
       "      <td>0</td>\n",
       "    </tr>\n",
       "  </tbody>\n",
       "</table>\n",
       "<p>3 rows × 117 columns</p>\n",
       "</div>"
      ],
      "text/plain": [
       "      formato-chapéu_sino  formato-chapéu_cone  formato-chapéu_reto  \\\n",
       "1392                    0                    0                    1   \n",
       "4051                    0                    0                    0   \n",
       "3725                    0                    0                    0   \n",
       "\n",
       "      formato-chapéu_nodoso  formato-chapéu_afundado  formato-chapéu_convexo  \\\n",
       "1392                      0                        0                       0   \n",
       "4051                      0                        0                       1   \n",
       "3725                      0                        0                       1   \n",
       "\n",
       "      superfície-chapéu_fibroso  superfície-chapéu_ranhuras  \\\n",
       "1392                          0                           0   \n",
       "4051                          1                           0   \n",
       "3725                          0                           0   \n",
       "\n",
       "      superfície-chapéu_liso  superfície-chapéu_escamoso  ...  \\\n",
       "1392                       1                           0  ...   \n",
       "4051                       0                           0  ...   \n",
       "3725                       1                           0  ...   \n",
       "\n",
       "      população_espalhado  população_diverso  população_solitário  \\\n",
       "1392                    0                  0                    0   \n",
       "4051                    0                  1                    0   \n",
       "3725                    0                  1                    0   \n",
       "\n",
       "      habitat_madeira  habitat_gramínea  habitat_folha  habitat_pradaria  \\\n",
       "1392                0                 1              0                 0   \n",
       "4051                1                 0              0                 0   \n",
       "3725                1                 0              0                 0   \n",
       "\n",
       "      habitat_trilha  habitat_urbano  habitat_lixo  \n",
       "1392               0               0             0  \n",
       "4051               0               0             0  \n",
       "3725               0               0             0  \n",
       "\n",
       "[3 rows x 117 columns]"
      ]
     },
     "execution_count": 112,
     "metadata": {},
     "output_type": "execute_result"
    }
   ],
   "source": [
    "X_test = test.loc[:, colunas_feature]\n",
    "X_test = pd.get_dummies(X_test)\n",
    "X_test.head(3)"
   ]
  },
  {
   "cell_type": "code",
   "execution_count": 113,
   "metadata": {},
   "outputs": [
    {
     "name": "stderr",
     "output_type": "stream",
     "text": [
      "C:\\ProgramData\\Anaconda3\\lib\\site-packages\\pandas\\core\\indexing.py:845: SettingWithCopyWarning: \n",
      "A value is trying to be set on a copy of a slice from a DataFrame.\n",
      "Try using .loc[row_indexer,col_indexer] = value instead\n",
      "\n",
      "See the caveats in the documentation: https://pandas.pydata.org/pandas-docs/stable/user_guide/indexing.html#returning-a-view-versus-a-copy\n",
      "  self.obj[key] = _infer_fill_value(value)\n",
      "C:\\ProgramData\\Anaconda3\\lib\\site-packages\\pandas\\core\\indexing.py:966: SettingWithCopyWarning: \n",
      "A value is trying to be set on a copy of a slice from a DataFrame.\n",
      "Try using .loc[row_indexer,col_indexer] = value instead\n",
      "\n",
      "See the caveats in the documentation: https://pandas.pydata.org/pandas-docs/stable/user_guide/indexing.html#returning-a-view-versus-a-copy\n",
      "  self.obj[item] = s\n"
     ]
    },
    {
     "data": {
      "text/plain": [
       "1392    0.0\n",
       "4051    1.0\n",
       "3725    1.0\n",
       "7177    1.0\n",
       "103     0.0\n",
       "       ... \n",
       "6133    1.0\n",
       "57      0.0\n",
       "1989    1.0\n",
       "7322    1.0\n",
       "6821    1.0\n",
       "Name: y_test, Length: 2031, dtype: float64"
      ]
     },
     "execution_count": 113,
     "metadata": {},
     "output_type": "execute_result"
    }
   ],
   "source": [
    "test.loc[test['classe']=='venenoso', 'y_test']=1\n",
    "test.loc[test['classe']=='comestível', 'y_test']=0\n",
    "y_test=test.loc[:, 'y_test']\n",
    "y_test"
   ]
  },
  {
   "cell_type": "code",
   "execution_count": 114,
   "metadata": {},
   "outputs": [
    {
     "data": {
      "text/plain": [
       "<2031x27 sparse matrix of type '<class 'numpy.int64'>'\n",
       "\twith 11642 stored elements in Compressed Sparse Row format>"
      ]
     },
     "execution_count": 114,
     "metadata": {},
     "output_type": "execute_result"
    }
   ],
   "source": [
    "clf.decision_path(X_test, True)"
   ]
  },
  {
   "cell_type": "markdown",
   "metadata": {},
   "source": [
    "### Score do Classificador Decison Tree"
   ]
  },
  {
   "cell_type": "code",
   "execution_count": 115,
   "metadata": {},
   "outputs": [
    {
     "data": {
      "text/plain": [
       "1.0"
      ]
     },
     "execution_count": 115,
     "metadata": {},
     "output_type": "execute_result"
    }
   ],
   "source": [
    "score_dec_tree=clf.score(X_test, y_test)\n",
    "score_dec_tree"
   ]
  },
  {
   "cell_type": "markdown",
   "metadata": {},
   "source": [
    "### Árvore Gerada pelo Classificador"
   ]
  },
  {
   "cell_type": "code",
   "execution_count": 122,
   "metadata": {},
   "outputs": [
    {
     "data": {
      "image/png": "[encoded data removed]",
      "text/plain": [
       "<Figure size 1800x1440 with 1 Axes>"
      ]
     },
     "metadata": {
      "needs_background": "light"
     },
     "output_type": "display_data"
    }
   ],
   "source": [
    "fig = plt.figure(figsize=(25,20))\n",
    "_ = tree.plot_tree(clf, impurity=False, filled = True, feature_names=X.columns)"
   ]
  },
  {
   "cell_type": "markdown",
   "metadata": {},
   "source": [
    "### Validação Cruzada"
   ]
  },
  {
   "cell_type": "code",
   "execution_count": 117,
   "metadata": {},
   "outputs": [
    {
     "data": {
      "text/plain": [
       "array([0.68511685, 1.        , 1.        , 1.        , 0.99753695,\n",
       "       1.        , 1.        , 1.        , 0.8817734 , 1.        ])"
      ]
     },
     "execution_count": 117,
     "metadata": {},
     "output_type": "execute_result"
    }
   ],
   "source": [
    "from sklearn.model_selection import cross_val_score\n",
    "\n",
    "X_cross = dataset.loc[:, colunas_feature]\n",
    "X_cross = pd.get_dummies(X_cross)\n",
    "\n",
    "dataset.loc[dataset['classe']=='venenoso', 'y_cross'] = 1\n",
    "dataset.loc[dataset['classe']=='comestível', 'y_cross'] = 0\n",
    "y_cross=dataset.loc[:, 'y_cross']\n",
    "\n",
    "clf.fit(X_cross, y_cross)\n",
    "\n",
    "cross_val_score(clf, X_cross, y_cross, cv=10)"
   ]
  },
  {
   "cell_type": "code",
   "execution_count": 121,
   "metadata": {},
   "outputs": [
    {
     "data": {
      "text/plain": [
       "['odor_amêndoa',\n",
       " 'odor_anis',\n",
       " 'odor_nenhum',\n",
       " 'raiz-estipe_clava',\n",
       " 'raiz-estipe_enraizado',\n",
       " 'tipo-anel_pingente',\n",
       " 'cor-impressão-esporo_verde']"
      ]
     },
     "execution_count": 121,
     "metadata": {},
     "output_type": "execute_result"
    }
   ],
   "source": [
    "importancias = clf.feature_importances_\n",
    "mais_imp = []\n",
    "i=0\n",
    "for imp in importancias:\n",
    "    if imp>=0.015:\n",
    "        mais_imp.append(X.columns[i])\n",
    "    i+=1\n",
    "\n",
    "mais_imp"
   ]
  }
 ],
 "metadata": {
  "kernelspec": {
   "display_name": "Python 3",
   "language": "python",
   "name": "python3"
  },
  "language_info": {
   "codemirror_mode": {
    "name": "ipython",
    "version": 3
   },
   "file_extension": ".py",
   "mimetype": "text/x-python",
   "name": "python",
   "nbconvert_exporter": "python",
   "pygments_lexer": "ipython3",
   "version": "3.8.3"
  }
 },
 "nbformat": 4,
 "nbformat_minor": 4
}
