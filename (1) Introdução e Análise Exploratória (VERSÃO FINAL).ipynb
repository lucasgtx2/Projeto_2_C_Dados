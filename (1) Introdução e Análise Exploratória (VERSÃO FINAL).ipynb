{
 "cells": [
  {
   "cell_type": "markdown",
   "metadata": {},
   "source": [
    "# Projeto 2 - Ciência dos Dados"
   ]
  },
  {
   "cell_type": "markdown",
   "metadata": {},
   "source": [
    "Grupo: Guilherme Ricchetti Carvalho, Keiya Nishio, Lucas Gabriel Mocellin Teixeira e Matheus Marques Venturi.\n",
    "\n",
    "\n",
    "Turma: C"
   ]
  },
  {
   "cell_type": "markdown",
   "metadata": {},
   "source": [
    "### Importando bibliotecas"
   ]
  },
  {
   "cell_type": "code",
   "execution_count": 118,
   "metadata": {},
   "outputs": [],
   "source": [
    "%matplotlib inline\n",
    "import pandas as pd\n",
    "import matplotlib.pyplot as plt\n",
    "import numpy as np"
   ]
  },
  {
   "cell_type": "markdown",
   "metadata": {},
   "source": [
    "# Introdução\n",
    "\n",
    "A intoxicação por cogumelos é um problema crescente na sociedade. A diversidade de cogumelos é um dos obstáculos para o controle desse fonômeno. Por isso, esse projeto visa construir um classificador de cogumelos com base em diversas características morfológicas e ecológicas. Acredita-se que, além do aprendizado dos conceitos básicos de machine learning e estatística, esse projeto sirva como um auxílio ao ferramental epidemiológico, contribuindo para o controle de doenças causadas por cogumelos.\n",
    "\n",
    "A fim de garantir certa organização e promover uma melhor interpretação dos dados, o projeto foi separado em 4 notebooks: este contém a análise exploratória dos dados, e os 3 seguintes contém a aplicação de 3 classificadores diferentes e a conclusão. Ao longo dos notebooks, será relatado o processo de construção, visualização e otimização dos dados e dos classificadores, referências utilizadas em cada etapa e comentários extras. Serão apresentados todos os códigos, bem como as explicações teóricas e motivacionais por trás de cada implementação."
   ]
  },
  {
   "cell_type": "markdown",
   "metadata": {},
   "source": [
    "<img src=img/cogumelos-intro.jpg width=40%>"
   ]
  },
  {
   "cell_type": "markdown",
   "metadata": {},
   "source": [
    "# Carregando Dados"
   ]
  },
  {
   "cell_type": "markdown",
   "metadata": {},
   "source": [
    "A base de dados utilizada para o projeto foi obtida da plataforma Kaggle, a partir do seguinte link: Dataset disponível no seguinte link: https://www.kaggle.com/uciml/mushroom-classification.\n",
    "\n",
    "A célula abaixo carrega os dados da planilha mushrooms.csv. A célula seguinte transforma o arquivo csv em um dataframe da biblioteca Pandas."
   ]
  },
  {
   "cell_type": "code",
   "execution_count": 119,
   "metadata": {},
   "outputs": [
    {
     "name": "stdout",
     "output_type": "stream",
     "text": [
      "Encontrei o arquivo mushrooms.csv, tudo certo para prosseguir com o projeto!\n"
     ]
    }
   ],
   "source": [
    "import os\n",
    "\n",
    "filename = 'mushrooms.csv'\n",
    "if filename in os.listdir():\n",
    "    print(f'Encontrei o arquivo {filename}, tudo certo para prosseguir com o projeto!')\n",
    "else:\n",
    "    print(f'Não encontrei o arquivo {filename} aqui no diretório {os.getcwd()}, será que você não baixou o arquivo?')"
   ]
  },
  {
   "cell_type": "code",
   "execution_count": 120,
   "metadata": {
    "scrolled": true
   },
   "outputs": [
    {
     "data": {
      "text/html": [
       "<div>\n",
       "<style scoped>\n",
       "    .dataframe tbody tr th:only-of-type {\n",
       "        vertical-align: middle;\n",
       "    }\n",
       "\n",
       "    .dataframe tbody tr th {\n",
       "        vertical-align: top;\n",
       "    }\n",
       "\n",
       "    .dataframe thead th {\n",
       "        text-align: right;\n",
       "    }\n",
       "</style>\n",
       "<table border=\"1\" class=\"dataframe\">\n",
       "  <thead>\n",
       "    <tr style=\"text-align: right;\">\n",
       "      <th></th>\n",
       "      <th>class</th>\n",
       "      <th>cap-shape</th>\n",
       "      <th>cap-surface</th>\n",
       "      <th>cap-color</th>\n",
       "      <th>bruises</th>\n",
       "      <th>odor</th>\n",
       "      <th>gill-attachment</th>\n",
       "      <th>gill-spacing</th>\n",
       "      <th>gill-size</th>\n",
       "      <th>gill-color</th>\n",
       "      <th>...</th>\n",
       "      <th>stalk-surface-below-ring</th>\n",
       "      <th>stalk-color-above-ring</th>\n",
       "      <th>stalk-color-below-ring</th>\n",
       "      <th>veil-type</th>\n",
       "      <th>veil-color</th>\n",
       "      <th>ring-number</th>\n",
       "      <th>ring-type</th>\n",
       "      <th>spore-print-color</th>\n",
       "      <th>population</th>\n",
       "      <th>habitat</th>\n",
       "    </tr>\n",
       "  </thead>\n",
       "  <tbody>\n",
       "    <tr>\n",
       "      <th>0</th>\n",
       "      <td>p</td>\n",
       "      <td>x</td>\n",
       "      <td>s</td>\n",
       "      <td>n</td>\n",
       "      <td>t</td>\n",
       "      <td>p</td>\n",
       "      <td>f</td>\n",
       "      <td>c</td>\n",
       "      <td>n</td>\n",
       "      <td>k</td>\n",
       "      <td>...</td>\n",
       "      <td>s</td>\n",
       "      <td>w</td>\n",
       "      <td>w</td>\n",
       "      <td>p</td>\n",
       "      <td>w</td>\n",
       "      <td>o</td>\n",
       "      <td>p</td>\n",
       "      <td>k</td>\n",
       "      <td>s</td>\n",
       "      <td>u</td>\n",
       "    </tr>\n",
       "    <tr>\n",
       "      <th>1</th>\n",
       "      <td>e</td>\n",
       "      <td>x</td>\n",
       "      <td>s</td>\n",
       "      <td>y</td>\n",
       "      <td>t</td>\n",
       "      <td>a</td>\n",
       "      <td>f</td>\n",
       "      <td>c</td>\n",
       "      <td>b</td>\n",
       "      <td>k</td>\n",
       "      <td>...</td>\n",
       "      <td>s</td>\n",
       "      <td>w</td>\n",
       "      <td>w</td>\n",
       "      <td>p</td>\n",
       "      <td>w</td>\n",
       "      <td>o</td>\n",
       "      <td>p</td>\n",
       "      <td>n</td>\n",
       "      <td>n</td>\n",
       "      <td>g</td>\n",
       "    </tr>\n",
       "    <tr>\n",
       "      <th>2</th>\n",
       "      <td>e</td>\n",
       "      <td>b</td>\n",
       "      <td>s</td>\n",
       "      <td>w</td>\n",
       "      <td>t</td>\n",
       "      <td>l</td>\n",
       "      <td>f</td>\n",
       "      <td>c</td>\n",
       "      <td>b</td>\n",
       "      <td>n</td>\n",
       "      <td>...</td>\n",
       "      <td>s</td>\n",
       "      <td>w</td>\n",
       "      <td>w</td>\n",
       "      <td>p</td>\n",
       "      <td>w</td>\n",
       "      <td>o</td>\n",
       "      <td>p</td>\n",
       "      <td>n</td>\n",
       "      <td>n</td>\n",
       "      <td>m</td>\n",
       "    </tr>\n",
       "    <tr>\n",
       "      <th>3</th>\n",
       "      <td>p</td>\n",
       "      <td>x</td>\n",
       "      <td>y</td>\n",
       "      <td>w</td>\n",
       "      <td>t</td>\n",
       "      <td>p</td>\n",
       "      <td>f</td>\n",
       "      <td>c</td>\n",
       "      <td>n</td>\n",
       "      <td>n</td>\n",
       "      <td>...</td>\n",
       "      <td>s</td>\n",
       "      <td>w</td>\n",
       "      <td>w</td>\n",
       "      <td>p</td>\n",
       "      <td>w</td>\n",
       "      <td>o</td>\n",
       "      <td>p</td>\n",
       "      <td>k</td>\n",
       "      <td>s</td>\n",
       "      <td>u</td>\n",
       "    </tr>\n",
       "    <tr>\n",
       "      <th>4</th>\n",
       "      <td>e</td>\n",
       "      <td>x</td>\n",
       "      <td>s</td>\n",
       "      <td>g</td>\n",
       "      <td>f</td>\n",
       "      <td>n</td>\n",
       "      <td>f</td>\n",
       "      <td>w</td>\n",
       "      <td>b</td>\n",
       "      <td>k</td>\n",
       "      <td>...</td>\n",
       "      <td>s</td>\n",
       "      <td>w</td>\n",
       "      <td>w</td>\n",
       "      <td>p</td>\n",
       "      <td>w</td>\n",
       "      <td>o</td>\n",
       "      <td>e</td>\n",
       "      <td>n</td>\n",
       "      <td>a</td>\n",
       "      <td>g</td>\n",
       "    </tr>\n",
       "  </tbody>\n",
       "</table>\n",
       "<p>5 rows × 23 columns</p>\n",
       "</div>"
      ],
      "text/plain": [
       "  class cap-shape cap-surface cap-color bruises odor gill-attachment  \\\n",
       "0     p         x           s         n       t    p               f   \n",
       "1     e         x           s         y       t    a               f   \n",
       "2     e         b           s         w       t    l               f   \n",
       "3     p         x           y         w       t    p               f   \n",
       "4     e         x           s         g       f    n               f   \n",
       "\n",
       "  gill-spacing gill-size gill-color  ... stalk-surface-below-ring  \\\n",
       "0            c         n          k  ...                        s   \n",
       "1            c         b          k  ...                        s   \n",
       "2            c         b          n  ...                        s   \n",
       "3            c         n          n  ...                        s   \n",
       "4            w         b          k  ...                        s   \n",
       "\n",
       "  stalk-color-above-ring stalk-color-below-ring veil-type veil-color  \\\n",
       "0                      w                      w         p          w   \n",
       "1                      w                      w         p          w   \n",
       "2                      w                      w         p          w   \n",
       "3                      w                      w         p          w   \n",
       "4                      w                      w         p          w   \n",
       "\n",
       "  ring-number ring-type spore-print-color population habitat  \n",
       "0           o         p                 k          s       u  \n",
       "1           o         p                 n          n       g  \n",
       "2           o         p                 n          n       m  \n",
       "3           o         p                 k          s       u  \n",
       "4           o         e                 n          a       g  \n",
       "\n",
       "[5 rows x 23 columns]"
      ]
     },
     "execution_count": 120,
     "metadata": {},
     "output_type": "execute_result"
    }
   ],
   "source": [
    "dataset=pd.read_csv(filename)\n",
    "dataset.head(5)"
   ]
  },
  {
   "cell_type": "markdown",
   "metadata": {},
   "source": [
    "Abaixo, aplicou-se um código que remove as linhas que contém células vazias (NaN). Porém, isso não foi necessário para esse dataset, por isso o código foi comentado."
   ]
  },
  {
   "cell_type": "code",
   "execution_count": 121,
   "metadata": {},
   "outputs": [],
   "source": [
    "#dataset=dataset.dropna()  # Remover linhas com colunas vazias (NaN)  -- não precisou"
   ]
  },
  {
   "cell_type": "markdown",
   "metadata": {},
   "source": [
    "### Tradução do dataset para português"
   ]
  },
  {
   "cell_type": "markdown",
   "metadata": {},
   "source": [
    "Como pode-se observar no dataset acima, os nomes das colunas estão todos em inglês e as características estão indicadas por letras. Na plataforma Kaggle, onde este dataset foi encontrado, está disponível uma legenda bastante extensa para essas letras. Essa legenda foi utilizada para fazer a tradução do dataset inteiro, conforme as duas células abaixo:"
   ]
  },
  {
   "cell_type": "markdown",
   "metadata": {},
   "source": [
    "Esta primeira célula renomeia as colunas:"
   ]
  },
  {
   "cell_type": "code",
   "execution_count": 122,
   "metadata": {},
   "outputs": [],
   "source": [
    "dataset = dataset.rename(columns = \n",
    "                     {'class': 'classe',\n",
    "                      'cap-shape': 'formato-chapéu', \n",
    "                      'cap-surface': 'superfície-chapéu',\n",
    "                      'cap-color': 'cor-chapéu',\n",
    "                      'bruises': 'hematomas',\n",
    "                      'odor': 'odor',\n",
    "                      'gill-attachment': 'ligação-lamela',\n",
    "                      'gill-spacing': 'espaçamento-lamela',\n",
    "                      'gill-size': 'tamanho-lamela',\n",
    "                      'gill-color': 'cor-lamela',\n",
    "                      'stalk-shape': 'formato-estipe',\n",
    "                      'stalk-root': 'raiz-estipe',\n",
    "                      'stalk-surface-above-ring': 'superfície-estipe-sobre-anel',\n",
    "                      'stalk-surface-below-ring': 'superfície-estipe-sob-anel',\n",
    "                      'stalk-color-above-ring': 'cor-estipe-sobre-anel',\n",
    "                      'stalk-color-below-ring': 'cor-estipe-sob-anel',\n",
    "                      'veil-type': 'tipo-volva',\n",
    "                      'veil-color': 'cor-volva',\n",
    "                      'ring-number': 'quantidade-anéis',\n",
    "                      'ring-type': 'tipo-anel',\n",
    "                      'spore-print-color': 'cor-impressão-esporo',\n",
    "                      'population': 'população',\n",
    "                      'habitat': 'habitat'}, inplace = False)"
   ]
  },
  {
   "cell_type": "markdown",
   "metadata": {},
   "source": [
    "Esta segunda célula renomeia as categorias de cada coluna para o equivalente em português:"
   ]
  },
  {
   "cell_type": "code",
   "execution_count": 123,
   "metadata": {},
   "outputs": [],
   "source": [
    "dataset['classe']=dataset['classe'].astype('category')\n",
    "dataset['classe'].cat.categories = ['comestível', 'venenoso']\n",
    "\n",
    "dataset['formato-chapéu']=dataset['formato-chapéu'].astype('category')\n",
    "dataset['formato-chapéu'].cat.categories = ['sino', 'cone', 'reto', 'nodoso', 'afundado', 'convexo']\n",
    "\n",
    "dataset['superfície-chapéu']=dataset['superfície-chapéu'].astype('category')\n",
    "dataset['superfície-chapéu'].cat.categories = ['fibroso', 'ranhuras', 'liso', 'escamoso']\n",
    " \n",
    "dataset['cor-chapéu']=dataset['cor-chapéu'].astype('category')\n",
    "dataset['cor-chapéu'].cat.categories = ['couro', 'canela', 'vermelho', 'cinza', 'marrom', 'rosa', 'verde', 'roxo', 'branco', 'amarelo']\n",
    "\n",
    "dataset['hematomas']=dataset['hematomas'].astype('category')\n",
    "dataset['hematomas'].cat.categories = ['não tem' , 'tem']\n",
    "\n",
    "dataset['odor']=dataset['odor'].astype('category')\n",
    "dataset['odor'].cat.categories = ['amêndoa', 'creosote', 'podre', 'anis', 'mofado', 'nenhum', 'pungente', 'picante', 'peixe']\n",
    "\n",
    "dataset['ligação-lamela']=dataset['ligação-lamela'].astype('category')\n",
    "dataset['ligação-lamela'].cat.categories = ['conectada', 'solta']\n",
    "\n",
    "dataset['espaçamento-lamela']=dataset['espaçamento-lamela'].astype('category')\n",
    "dataset['espaçamento-lamela'].cat.categories = ['perto', 'lotado']\n",
    "\n",
    "dataset['tamanho-lamela']=dataset['tamanho-lamela'].astype('category')\n",
    "dataset['tamanho-lamela'].cat.categories = ['ampla', 'estreita']\n",
    "\n",
    "dataset['cor-lamela']=dataset['cor-lamela'].astype('category')\n",
    "dataset['cor-lamela'].cat.categories = ['couro', 'vermelha', 'cinza', 'chocolate', 'preta', 'marrom', 'laranja', 'rosa', 'verde', 'roxa', 'branca', 'amarelo']\n",
    "\n",
    "dataset['formato-estipe']=dataset['formato-estipe'].astype('category')\n",
    "dataset['formato-estipe'].cat.categories = ['alargando', 'afunilando']\n",
    "    \n",
    "dataset['raiz-estipe']=dataset['raiz-estipe'].astype('category')\n",
    "dataset['raiz-estipe'].cat.categories = ['não tem', 'bulboso', 'clava', 'reto', 'enraizado']\n",
    "\n",
    "dataset['superfície-estipe-sobre-anel']=dataset['superfície-estipe-sobre-anel'].astype('category')\n",
    "dataset['superfície-estipe-sobre-anel'].cat.categories = ['fibroso', 'sedoso', 'liso', 'escamoso']\n",
    "\n",
    "dataset['superfície-estipe-sob-anel']=dataset['superfície-estipe-sob-anel'].astype('category')\n",
    "dataset['superfície-estipe-sob-anel'].cat.categories = ['fibroso', 'sedoso', 'liso', 'escamoso']\n",
    "\n",
    "dataset['cor-estipe-sobre-anel']=dataset['cor-estipe-sobre-anel'].astype('category')\n",
    "dataset['cor-estipe-sobre-anel'].cat.categories = ['couro', 'canela', 'vermelho', 'cinza', 'marrom', 'laranja', 'rosa', 'branco', 'amarelo']\n",
    "\n",
    "dataset['cor-estipe-sob-anel']=dataset['cor-estipe-sob-anel'].astype('category')\n",
    "dataset['cor-estipe-sob-anel']. cat.categories = ['couro', 'canela', 'vermelho', 'cinza', 'marrom', 'laranja', 'rosa', 'branco', 'amarelo']\n",
    "\n",
    "dataset['tipo-volva']=dataset['tipo-volva'].astype('category')\n",
    "dataset['tipo-volva'].cat.categories = ['parcial']\n",
    "\n",
    "dataset['cor-volva']=dataset['cor-volva'].astype('category')\n",
    "dataset['cor-volva'].cat.categories = ['marrom' , 'laranja', 'branco', 'amarelo']\n",
    "\n",
    "dataset['quantidade-anéis']=dataset['quantidade-anéis'].astype('category')\n",
    "dataset['quantidade-anéis'].cat.categories = ['nenhum' , 'um', 'dois']\n",
    "\n",
    "dataset['tipo-anel']=dataset['tipo-anel'].astype('category')\n",
    "dataset['tipo-anel'].cat.categories = ['evanescente', 'deslumbrante', 'grande', 'nenhum', 'pingente']\n",
    "\n",
    "dataset['cor-impressão-esporo']=dataset['cor-impressão-esporo'].astype('category')\n",
    "dataset['cor-impressão-esporo'].cat.categories = ['couro', 'chocolate', 'preto', 'marrom', 'laranja', 'verde', 'roxo', 'branco', 'amarelo']\n",
    "\n",
    "dataset['população']=dataset['população'].astype('category')\n",
    "dataset['população'].cat.categories=['abundante', 'aglomerado', 'numeroso', 'espalhado', 'diverso', 'solitário']\n",
    "\n",
    "dataset['habitat']=dataset['habitat'].astype('category')\n",
    "dataset['habitat'].cat.categories=['madeira', 'gramínea', 'folha', 'pradaria', 'trilha', 'urbano', 'lixo']"
   ]
  },
  {
   "cell_type": "markdown",
   "metadata": {},
   "source": [
    "#### Visualizando dataset transformado"
   ]
  },
  {
   "cell_type": "code",
   "execution_count": 124,
   "metadata": {},
   "outputs": [
    {
     "data": {
      "text/html": [
       "<div>\n",
       "<style scoped>\n",
       "    .dataframe tbody tr th:only-of-type {\n",
       "        vertical-align: middle;\n",
       "    }\n",
       "\n",
       "    .dataframe tbody tr th {\n",
       "        vertical-align: top;\n",
       "    }\n",
       "\n",
       "    .dataframe thead th {\n",
       "        text-align: right;\n",
       "    }\n",
       "</style>\n",
       "<table border=\"1\" class=\"dataframe\">\n",
       "  <thead>\n",
       "    <tr style=\"text-align: right;\">\n",
       "      <th></th>\n",
       "      <th>classe</th>\n",
       "      <th>formato-chapéu</th>\n",
       "      <th>superfície-chapéu</th>\n",
       "      <th>cor-chapéu</th>\n",
       "      <th>hematomas</th>\n",
       "      <th>odor</th>\n",
       "      <th>ligação-lamela</th>\n",
       "      <th>espaçamento-lamela</th>\n",
       "      <th>tamanho-lamela</th>\n",
       "      <th>cor-lamela</th>\n",
       "      <th>...</th>\n",
       "      <th>superfície-estipe-sob-anel</th>\n",
       "      <th>cor-estipe-sobre-anel</th>\n",
       "      <th>cor-estipe-sob-anel</th>\n",
       "      <th>tipo-volva</th>\n",
       "      <th>cor-volva</th>\n",
       "      <th>quantidade-anéis</th>\n",
       "      <th>tipo-anel</th>\n",
       "      <th>cor-impressão-esporo</th>\n",
       "      <th>população</th>\n",
       "      <th>habitat</th>\n",
       "    </tr>\n",
       "  </thead>\n",
       "  <tbody>\n",
       "    <tr>\n",
       "      <th>0</th>\n",
       "      <td>venenoso</td>\n",
       "      <td>convexo</td>\n",
       "      <td>liso</td>\n",
       "      <td>marrom</td>\n",
       "      <td>tem</td>\n",
       "      <td>pungente</td>\n",
       "      <td>solta</td>\n",
       "      <td>perto</td>\n",
       "      <td>estreita</td>\n",
       "      <td>preta</td>\n",
       "      <td>...</td>\n",
       "      <td>liso</td>\n",
       "      <td>branco</td>\n",
       "      <td>branco</td>\n",
       "      <td>parcial</td>\n",
       "      <td>branco</td>\n",
       "      <td>um</td>\n",
       "      <td>pingente</td>\n",
       "      <td>preto</td>\n",
       "      <td>espalhado</td>\n",
       "      <td>urbano</td>\n",
       "    </tr>\n",
       "    <tr>\n",
       "      <th>1</th>\n",
       "      <td>comestível</td>\n",
       "      <td>convexo</td>\n",
       "      <td>liso</td>\n",
       "      <td>amarelo</td>\n",
       "      <td>tem</td>\n",
       "      <td>amêndoa</td>\n",
       "      <td>solta</td>\n",
       "      <td>perto</td>\n",
       "      <td>ampla</td>\n",
       "      <td>preta</td>\n",
       "      <td>...</td>\n",
       "      <td>liso</td>\n",
       "      <td>branco</td>\n",
       "      <td>branco</td>\n",
       "      <td>parcial</td>\n",
       "      <td>branco</td>\n",
       "      <td>um</td>\n",
       "      <td>pingente</td>\n",
       "      <td>marrom</td>\n",
       "      <td>numeroso</td>\n",
       "      <td>gramínea</td>\n",
       "    </tr>\n",
       "    <tr>\n",
       "      <th>2</th>\n",
       "      <td>comestível</td>\n",
       "      <td>sino</td>\n",
       "      <td>liso</td>\n",
       "      <td>branco</td>\n",
       "      <td>tem</td>\n",
       "      <td>anis</td>\n",
       "      <td>solta</td>\n",
       "      <td>perto</td>\n",
       "      <td>ampla</td>\n",
       "      <td>marrom</td>\n",
       "      <td>...</td>\n",
       "      <td>liso</td>\n",
       "      <td>branco</td>\n",
       "      <td>branco</td>\n",
       "      <td>parcial</td>\n",
       "      <td>branco</td>\n",
       "      <td>um</td>\n",
       "      <td>pingente</td>\n",
       "      <td>marrom</td>\n",
       "      <td>numeroso</td>\n",
       "      <td>pradaria</td>\n",
       "    </tr>\n",
       "    <tr>\n",
       "      <th>3</th>\n",
       "      <td>venenoso</td>\n",
       "      <td>convexo</td>\n",
       "      <td>escamoso</td>\n",
       "      <td>branco</td>\n",
       "      <td>tem</td>\n",
       "      <td>pungente</td>\n",
       "      <td>solta</td>\n",
       "      <td>perto</td>\n",
       "      <td>estreita</td>\n",
       "      <td>marrom</td>\n",
       "      <td>...</td>\n",
       "      <td>liso</td>\n",
       "      <td>branco</td>\n",
       "      <td>branco</td>\n",
       "      <td>parcial</td>\n",
       "      <td>branco</td>\n",
       "      <td>um</td>\n",
       "      <td>pingente</td>\n",
       "      <td>preto</td>\n",
       "      <td>espalhado</td>\n",
       "      <td>urbano</td>\n",
       "    </tr>\n",
       "    <tr>\n",
       "      <th>4</th>\n",
       "      <td>comestível</td>\n",
       "      <td>convexo</td>\n",
       "      <td>liso</td>\n",
       "      <td>cinza</td>\n",
       "      <td>não tem</td>\n",
       "      <td>nenhum</td>\n",
       "      <td>solta</td>\n",
       "      <td>lotado</td>\n",
       "      <td>ampla</td>\n",
       "      <td>preta</td>\n",
       "      <td>...</td>\n",
       "      <td>liso</td>\n",
       "      <td>branco</td>\n",
       "      <td>branco</td>\n",
       "      <td>parcial</td>\n",
       "      <td>branco</td>\n",
       "      <td>um</td>\n",
       "      <td>evanescente</td>\n",
       "      <td>marrom</td>\n",
       "      <td>abundante</td>\n",
       "      <td>gramínea</td>\n",
       "    </tr>\n",
       "  </tbody>\n",
       "</table>\n",
       "<p>5 rows × 23 columns</p>\n",
       "</div>"
      ],
      "text/plain": [
       "       classe formato-chapéu superfície-chapéu cor-chapéu hematomas      odor  \\\n",
       "0    venenoso        convexo              liso     marrom       tem  pungente   \n",
       "1  comestível        convexo              liso    amarelo       tem   amêndoa   \n",
       "2  comestível           sino              liso     branco       tem      anis   \n",
       "3    venenoso        convexo          escamoso     branco       tem  pungente   \n",
       "4  comestível        convexo              liso      cinza   não tem    nenhum   \n",
       "\n",
       "  ligação-lamela espaçamento-lamela tamanho-lamela cor-lamela  ...  \\\n",
       "0          solta              perto       estreita      preta  ...   \n",
       "1          solta              perto          ampla      preta  ...   \n",
       "2          solta              perto          ampla     marrom  ...   \n",
       "3          solta              perto       estreita     marrom  ...   \n",
       "4          solta             lotado          ampla      preta  ...   \n",
       "\n",
       "  superfície-estipe-sob-anel cor-estipe-sobre-anel cor-estipe-sob-anel  \\\n",
       "0                       liso                branco              branco   \n",
       "1                       liso                branco              branco   \n",
       "2                       liso                branco              branco   \n",
       "3                       liso                branco              branco   \n",
       "4                       liso                branco              branco   \n",
       "\n",
       "  tipo-volva cor-volva quantidade-anéis    tipo-anel cor-impressão-esporo  \\\n",
       "0    parcial    branco               um     pingente                preto   \n",
       "1    parcial    branco               um     pingente               marrom   \n",
       "2    parcial    branco               um     pingente               marrom   \n",
       "3    parcial    branco               um     pingente                preto   \n",
       "4    parcial    branco               um  evanescente               marrom   \n",
       "\n",
       "   população   habitat  \n",
       "0  espalhado    urbano  \n",
       "1   numeroso  gramínea  \n",
       "2   numeroso  pradaria  \n",
       "3  espalhado    urbano  \n",
       "4  abundante  gramínea  \n",
       "\n",
       "[5 rows x 23 columns]"
      ]
     },
     "execution_count": 124,
     "metadata": {},
     "output_type": "execute_result"
    }
   ],
   "source": [
    "dataset.head(5)"
   ]
  },
  {
   "cell_type": "markdown",
   "metadata": {},
   "source": [
    "Obs.: o processo de mineração dos dados feito nas células acima será feito em todos os notebooks da mesma forma."
   ]
  },
  {
   "cell_type": "markdown",
   "metadata": {},
   "source": [
    "### Características da Base de Dados"
   ]
  },
  {
   "cell_type": "markdown",
   "metadata": {},
   "source": [
    "A visualização das 5 primeiras linhas acima permite concluir que há 23 colunas, das quais a primeira é a classe do cogumelo, podendo ser venenoso ou comestível, e as 22 restantes são características morfológicas ou ecológicas dos cogumelos. Cada linha representa um registro, ou seja, as características referentes a um cogumelo. \n",
    "\n",
    "Visualizando tamanho da amostra:"
   ]
  },
  {
   "cell_type": "code",
   "execution_count": 125,
   "metadata": {},
   "outputs": [
    {
     "name": "stdout",
     "output_type": "stream",
     "text": [
      "Base de dados reúne uma amostra de 8124 registros com 23 colunas.\n"
     ]
    }
   ],
   "source": [
    "shape=dataset.shape\n",
    "\n",
    "print('Base de dados reúne uma amostra de {0} registros com {1} colunas.'.format(shape[0], shape[1]))"
   ]
  },
  {
   "cell_type": "markdown",
   "metadata": {},
   "source": [
    "Nota-se, também, que todas as variáveis do dataset são qualitativas, e não quantitativas. Então, define-se a variável classe como target (variável resposta e dependente) e as demais 22 como features (variáveis explicativas e independentes). Pode-se dizer, assim, que 22 features serão utilizadas para determinar a variável target estipulada."
   ]
  },
  {
   "cell_type": "markdown",
   "metadata": {},
   "source": [
    "#### Visualizando quantidade de cogumelos por classe"
   ]
  },
  {
   "cell_type": "markdown",
   "metadata": {},
   "source": [
    "Tabela de frequências absolutas:"
   ]
  },
  {
   "cell_type": "code",
   "execution_count": 126,
   "metadata": {},
   "outputs": [
    {
     "data": {
      "text/plain": [
       "comestível    4208\n",
       "venenoso      3916\n",
       "Name: classe, dtype: int64"
      ]
     },
     "execution_count": 126,
     "metadata": {},
     "output_type": "execute_result"
    }
   ],
   "source": [
    "dataset['classe'].value_counts()"
   ]
  },
  {
   "cell_type": "markdown",
   "metadata": {},
   "source": [
    "Tabela de frequências relativas (proporção de cada classe em relação ao total de registros):"
   ]
  },
  {
   "cell_type": "code",
   "execution_count": 127,
   "metadata": {},
   "outputs": [
    {
     "data": {
      "text/plain": [
       "comestível    51.797144\n",
       "venenoso      48.202856\n",
       "Name: classe, dtype: float64"
      ]
     },
     "execution_count": 127,
     "metadata": {},
     "output_type": "execute_result"
    }
   ],
   "source": [
    "dataset['classe'].value_counts(normalize=True)*100  # resultado em porcentagem (%)"
   ]
  },
  {
   "cell_type": "markdown",
   "metadata": {},
   "source": [
    "# Análise Exploratória dos Dados"
   ]
  },
  {
   "cell_type": "markdown",
   "metadata": {},
   "source": [
    "Esta seção é destinada à produção de gráficos e tabelas que comparam as features (variáveis independentes) com a target (variável dependente = comestibilidade).\n",
    "\n",
    "Os gráficos e as tabelas permitirão um vislumbre de quais features são mais relevantes para realizar a classificação. Porém, quem fará a determinação oficial serão classificadores, implementados nos notebooks 2, 3 e 4.\n",
    "\n",
    "Vale ressaltar desde já que o a base de dados representa uma amostra, e não a população toda. Assim, o projeto de classificação baseia-se em técninas de inferência estatística."
   ]
  },
  {
   "cell_type": "markdown",
   "metadata": {},
   "source": [
    "Para permitir uma interpretação mais visual e realista dos dados, fazendo uma interseção com a biologia, serão apresentadas algumas imagens que indicam o que cada característica representa nos cogumelos."
   ]
  },
  {
   "cell_type": "markdown",
   "metadata": {},
   "source": [
    "<img src=img/cogumelo-partes.png width=40%>"
   ]
  },
  {
   "cell_type": "markdown",
   "metadata": {},
   "source": [
    "Obs: himênio e lamelas são dois nomes para a mesma característica."
   ]
  },
  {
   "cell_type": "markdown",
   "metadata": {},
   "source": [
    "### Feature \"Formato Chapéu\""
   ]
  },
  {
   "cell_type": "markdown",
   "metadata": {},
   "source": [
    "<img src=img/cap-formats.jpg width=40%>"
   ]
  },
  {
   "cell_type": "markdown",
   "metadata": {},
   "source": [
    "#### Tabela de Frequências Relativas"
   ]
  },
  {
   "cell_type": "code",
   "execution_count": 66,
   "metadata": {},
   "outputs": [
    {
     "data": {
      "text/html": [
       "<div>\n",
       "<style scoped>\n",
       "    .dataframe tbody tr th:only-of-type {\n",
       "        vertical-align: middle;\n",
       "    }\n",
       "\n",
       "    .dataframe tbody tr th {\n",
       "        vertical-align: top;\n",
       "    }\n",
       "\n",
       "    .dataframe thead th {\n",
       "        text-align: right;\n",
       "    }\n",
       "</style>\n",
       "<table border=\"1\" class=\"dataframe\">\n",
       "  <thead>\n",
       "    <tr style=\"text-align: right;\">\n",
       "      <th>formato-chapéu</th>\n",
       "      <th>sino</th>\n",
       "      <th>cone</th>\n",
       "      <th>reto</th>\n",
       "      <th>nodoso</th>\n",
       "      <th>afundado</th>\n",
       "      <th>convexo</th>\n",
       "    </tr>\n",
       "    <tr>\n",
       "      <th>classe</th>\n",
       "      <th></th>\n",
       "      <th></th>\n",
       "      <th></th>\n",
       "      <th></th>\n",
       "      <th></th>\n",
       "      <th></th>\n",
       "    </tr>\n",
       "  </thead>\n",
       "  <tbody>\n",
       "    <tr>\n",
       "      <th>comestível</th>\n",
       "      <td>89.425982</td>\n",
       "      <td>0.0</td>\n",
       "      <td>51.552013</td>\n",
       "      <td>27.950311</td>\n",
       "      <td>100.0</td>\n",
       "      <td>53.962403</td>\n",
       "    </tr>\n",
       "    <tr>\n",
       "      <th>venenoso</th>\n",
       "      <td>10.574018</td>\n",
       "      <td>100.0</td>\n",
       "      <td>48.447987</td>\n",
       "      <td>72.049689</td>\n",
       "      <td>0.0</td>\n",
       "      <td>46.037597</td>\n",
       "    </tr>\n",
       "  </tbody>\n",
       "</table>\n",
       "</div>"
      ],
      "text/plain": [
       "formato-chapéu       sino   cone       reto     nodoso  afundado    convexo\n",
       "classe                                                                     \n",
       "comestível      89.425982    0.0  51.552013  27.950311     100.0  53.962403\n",
       "venenoso        10.574018  100.0  48.447987  72.049689       0.0  46.037597"
      ]
     },
     "execution_count": 66,
     "metadata": {},
     "output_type": "execute_result"
    }
   ],
   "source": [
    "tabela_formato_chapéu=pd.crosstab(train['classe'], train['formato-chapéu'], normalize='columns')\n",
    "tabela_formato_chapéu*100"
   ]
  },
  {
   "cell_type": "markdown",
   "metadata": {},
   "source": [
    "#### Gráfico de Empilhamento"
   ]
  },
  {
   "cell_type": "code",
   "execution_count": 70,
   "metadata": {},
   "outputs": [
    {
     "data": {
      "image/png": "[encoded data removed]",
      "text/plain": [
       "<Figure size 432x288 with 1 Axes>"
      ]
     },
     "metadata": {
      "needs_background": "light"
     },
     "output_type": "display_data"
    }
   ],
   "source": [
    "plot = (100*tabela_formato_chapéu).T.plot(kind='bar', stacked=True, color='green' 'red', title='Classe de Cogumelo por Formato do Chapéu')\n",
    "plot.set_ylim([0, 100])\n",
    "plt.ylabel('Freq.Relativa (em%)')\n",
    "plt.legend(loc='center left', bbox_to_anchor=(1, 0.5))\n",
    "\n",
    "plt.show()"
   ]
  },
  {
   "cell_type": "markdown",
   "metadata": {},
   "source": [
    "#### Comentários"
   ]
  },
  {
   "cell_type": "markdown",
   "metadata": {},
   "source": [
    "O formato do chapéu pode ser uma característica relevante na classificação de um cogumelo, especialmente quando o chapéu for em forma de sino e nodoso. Se o chapéu for convexo ou reto, essa característica não auxilia tanto na análise porque as probabilidades estão bem equilibradas. Os formatos cônico e afundado não são relevantes oara a classificação porque as porcentagens são 100 %, o que definiria a classificação com apenas uma pergunta. As probabilidades 100% não devem ser consideradas porque esse dataset não é a população inteira, é apenas uma amostra. Assim, se os exemplos do dataset cujo chapéu é de formato cônico são todos venenosos, isso não quer dizer que todos cogumelos cujo formato do chapéu é cônico existentes são venenosos. "
   ]
  },
  {
   "cell_type": "markdown",
   "metadata": {},
   "source": [
    "### Feature \"Odor\""
   ]
  },
  {
   "cell_type": "markdown",
   "metadata": {},
   "source": [
    "#### Tabela de Frequências Relativas"
   ]
  },
  {
   "cell_type": "code",
   "execution_count": 72,
   "metadata": {},
   "outputs": [
    {
     "data": {
      "text/html": [
       "<div>\n",
       "<style scoped>\n",
       "    .dataframe tbody tr th:only-of-type {\n",
       "        vertical-align: middle;\n",
       "    }\n",
       "\n",
       "    .dataframe tbody tr th {\n",
       "        vertical-align: top;\n",
       "    }\n",
       "\n",
       "    .dataframe thead th {\n",
       "        text-align: right;\n",
       "    }\n",
       "</style>\n",
       "<table border=\"1\" class=\"dataframe\">\n",
       "  <thead>\n",
       "    <tr style=\"text-align: right;\">\n",
       "      <th>odor</th>\n",
       "      <th>amêndoa</th>\n",
       "      <th>creosote</th>\n",
       "      <th>podre</th>\n",
       "      <th>anis</th>\n",
       "      <th>mofado</th>\n",
       "      <th>nenhum</th>\n",
       "      <th>pungente</th>\n",
       "      <th>picante</th>\n",
       "      <th>peixe</th>\n",
       "    </tr>\n",
       "    <tr>\n",
       "      <th>classe</th>\n",
       "      <th></th>\n",
       "      <th></th>\n",
       "      <th></th>\n",
       "      <th></th>\n",
       "      <th></th>\n",
       "      <th></th>\n",
       "      <th></th>\n",
       "      <th></th>\n",
       "      <th></th>\n",
       "    </tr>\n",
       "  </thead>\n",
       "  <tbody>\n",
       "    <tr>\n",
       "      <th>comestível</th>\n",
       "      <td>100.0</td>\n",
       "      <td>0.0</td>\n",
       "      <td>0.0</td>\n",
       "      <td>100.0</td>\n",
       "      <td>0.0</td>\n",
       "      <td>96.85511</td>\n",
       "      <td>0.0</td>\n",
       "      <td>0.0</td>\n",
       "      <td>0.0</td>\n",
       "    </tr>\n",
       "    <tr>\n",
       "      <th>venenoso</th>\n",
       "      <td>0.0</td>\n",
       "      <td>100.0</td>\n",
       "      <td>100.0</td>\n",
       "      <td>0.0</td>\n",
       "      <td>100.0</td>\n",
       "      <td>3.14489</td>\n",
       "      <td>100.0</td>\n",
       "      <td>100.0</td>\n",
       "      <td>100.0</td>\n",
       "    </tr>\n",
       "  </tbody>\n",
       "</table>\n",
       "</div>"
      ],
      "text/plain": [
       "odor        amêndoa  creosote  podre   anis  mofado    nenhum  pungente  \\\n",
       "classe                                                                    \n",
       "comestível    100.0       0.0    0.0  100.0     0.0  96.85511       0.0   \n",
       "venenoso        0.0     100.0  100.0    0.0   100.0   3.14489     100.0   \n",
       "\n",
       "odor        picante  peixe  \n",
       "classe                      \n",
       "comestível      0.0    0.0  \n",
       "venenoso      100.0  100.0  "
      ]
     },
     "execution_count": 72,
     "metadata": {},
     "output_type": "execute_result"
    }
   ],
   "source": [
    "tabela_odor=pd.crosstab(train['classe'], train['odor'], normalize='columns')\n",
    "tabela_odor*100"
   ]
  },
  {
   "cell_type": "markdown",
   "metadata": {},
   "source": [
    "#### Gráfico de Empilhamento"
   ]
  },
  {
   "cell_type": "code",
   "execution_count": 73,
   "metadata": {},
   "outputs": [
    {
     "data": {
      "image/png": "[encoded data removed]",
      "text/plain": [
       "<Figure size 432x288 with 1 Axes>"
      ]
     },
     "metadata": {
      "needs_background": "light"
     },
     "output_type": "display_data"
    }
   ],
   "source": [
    "plot = (100*tabela_odor).T.plot(kind='bar', stacked=True,color='green' 'red',title='Classe de Cogumelo por Odor')\n",
    "plot.set_ylim([0, 100])\n",
    "plt.ylabel('Freq.Relativa (em%)')\n",
    "plt.legend(loc='center left', bbox_to_anchor=(1, 0.5))\n",
    "\n",
    "plt.show()"
   ]
  },
  {
   "cell_type": "markdown",
   "metadata": {},
   "source": [
    "#### Comentários"
   ]
  },
  {
   "cell_type": "markdown",
   "metadata": {},
   "source": [
    "O odor do cogumelo é uma característica um pouco duvidosa para ser utilizada na classificação, visto que quase todas os odores são específicos de uma classe de cogumelos. O problema da probabilidade 100% foi explicada no item anterior. A única característica que pode ser bastante relevante para a análise é a do \"odor nenhum\"."
   ]
  },
  {
   "cell_type": "markdown",
   "metadata": {},
   "source": [
    "### Feature \"Superfície do Chapéu\""
   ]
  },
  {
   "cell_type": "markdown",
   "metadata": {},
   "source": [
    "<img src=img/cap-surface.jpg width=40%>"
   ]
  },
  {
   "cell_type": "markdown",
   "metadata": {},
   "source": [
    "#### Tabela de Frequências"
   ]
  },
  {
   "cell_type": "code",
   "execution_count": 74,
   "metadata": {},
   "outputs": [
    {
     "data": {
      "text/html": [
       "<div>\n",
       "<style scoped>\n",
       "    .dataframe tbody tr th:only-of-type {\n",
       "        vertical-align: middle;\n",
       "    }\n",
       "\n",
       "    .dataframe tbody tr th {\n",
       "        vertical-align: top;\n",
       "    }\n",
       "\n",
       "    .dataframe thead th {\n",
       "        text-align: right;\n",
       "    }\n",
       "</style>\n",
       "<table border=\"1\" class=\"dataframe\">\n",
       "  <thead>\n",
       "    <tr style=\"text-align: right;\">\n",
       "      <th>superfície-chapéu</th>\n",
       "      <th>fibroso</th>\n",
       "      <th>ranhuras</th>\n",
       "      <th>liso</th>\n",
       "      <th>escamoso</th>\n",
       "    </tr>\n",
       "    <tr>\n",
       "      <th>classe</th>\n",
       "      <th></th>\n",
       "      <th></th>\n",
       "      <th></th>\n",
       "      <th></th>\n",
       "    </tr>\n",
       "  </thead>\n",
       "  <tbody>\n",
       "    <tr>\n",
       "      <th>comestível</th>\n",
       "      <td>68.025258</td>\n",
       "      <td>0.0</td>\n",
       "      <td>45.263158</td>\n",
       "      <td>46.653061</td>\n",
       "    </tr>\n",
       "    <tr>\n",
       "      <th>venenoso</th>\n",
       "      <td>31.974742</td>\n",
       "      <td>100.0</td>\n",
       "      <td>54.736842</td>\n",
       "      <td>53.346939</td>\n",
       "    </tr>\n",
       "  </tbody>\n",
       "</table>\n",
       "</div>"
      ],
      "text/plain": [
       "superfície-chapéu    fibroso  ranhuras       liso   escamoso\n",
       "classe                                                      \n",
       "comestível         68.025258       0.0  45.263158  46.653061\n",
       "venenoso           31.974742     100.0  54.736842  53.346939"
      ]
     },
     "execution_count": 74,
     "metadata": {},
     "output_type": "execute_result"
    }
   ],
   "source": [
    "tabela_superficie_chapeu=pd.crosstab(train['classe'], train['superfície-chapéu'], normalize='columns')\n",
    "tabela_superficie_chapeu*100"
   ]
  },
  {
   "cell_type": "markdown",
   "metadata": {},
   "source": [
    "#### Gráfico de Empilhamento"
   ]
  },
  {
   "cell_type": "code",
   "execution_count": 75,
   "metadata": {},
   "outputs": [
    {
     "data": {
      "image/png": "[encoded data removed]",
      "text/plain": [
       "<Figure size 432x288 with 1 Axes>"
      ]
     },
     "metadata": {
      "needs_background": "light"
     },
     "output_type": "display_data"
    }
   ],
   "source": [
    "plot = (100*tabela_superficie_chapeu).T.plot(kind='bar', stacked=True,color='green' 'red',title='Classe de Cogumelo por Superfície do Chapéu')\n",
    "plot.set_ylim([0, 100])\n",
    "plt.ylabel('Freq.Relativa (em%)')\n",
    "plt.legend(loc='center left', bbox_to_anchor=(1, 0.5))\n",
    "\n",
    "plt.show()"
   ]
  },
  {
   "cell_type": "markdown",
   "metadata": {},
   "source": [
    "#### Comentários"
   ]
  },
  {
   "cell_type": "markdown",
   "metadata": {},
   "source": [
    "A superfície do chapéu somente não é relevante na classificação se o chapéu apresentar ranhuras, já que, nos dados observados, apenas cogumelos venenosos apresentam esse tipo de superfície (já explicado antes o problema da probabilidade 100%). As superfícies lisa e escamosa provavelmente não terão alto grau de relevância na classificação devido às probabilidades bem divididas entre as duas classes de cogumelo (venenoso e comestível), o que não permite uma tomada de decisão clara. "
   ]
  },
  {
   "cell_type": "markdown",
   "metadata": {},
   "source": [
    "### Feature \"Cor do Chapéu\""
   ]
  },
  {
   "cell_type": "markdown",
   "metadata": {},
   "source": [
    "<img src=img/cogumelo_cores.png width=40%>"
   ]
  },
  {
   "cell_type": "markdown",
   "metadata": {},
   "source": [
    "#### Tabela de Frequências Relativas"
   ]
  },
  {
   "cell_type": "code",
   "execution_count": 76,
   "metadata": {},
   "outputs": [
    {
     "data": {
      "text/html": [
       "<div>\n",
       "<style scoped>\n",
       "    .dataframe tbody tr th:only-of-type {\n",
       "        vertical-align: middle;\n",
       "    }\n",
       "\n",
       "    .dataframe tbody tr th {\n",
       "        vertical-align: top;\n",
       "    }\n",
       "\n",
       "    .dataframe thead th {\n",
       "        text-align: right;\n",
       "    }\n",
       "</style>\n",
       "<table border=\"1\" class=\"dataframe\">\n",
       "  <thead>\n",
       "    <tr style=\"text-align: right;\">\n",
       "      <th>cor-chapéu</th>\n",
       "      <th>couro</th>\n",
       "      <th>canela</th>\n",
       "      <th>vermelho</th>\n",
       "      <th>cinza</th>\n",
       "      <th>marrom</th>\n",
       "      <th>rosa</th>\n",
       "      <th>verde</th>\n",
       "      <th>roxo</th>\n",
       "      <th>branco</th>\n",
       "      <th>amarelo</th>\n",
       "    </tr>\n",
       "    <tr>\n",
       "      <th>classe</th>\n",
       "      <th></th>\n",
       "      <th></th>\n",
       "      <th></th>\n",
       "      <th></th>\n",
       "      <th></th>\n",
       "      <th></th>\n",
       "      <th></th>\n",
       "      <th></th>\n",
       "      <th></th>\n",
       "      <th></th>\n",
       "    </tr>\n",
       "  </thead>\n",
       "  <tbody>\n",
       "    <tr>\n",
       "      <th>comestível</th>\n",
       "      <td>25.619835</td>\n",
       "      <td>80.0</td>\n",
       "      <td>41.239892</td>\n",
       "      <td>56.200717</td>\n",
       "      <td>56.079116</td>\n",
       "      <td>37.614679</td>\n",
       "      <td>100.0</td>\n",
       "      <td>100.0</td>\n",
       "      <td>70.988447</td>\n",
       "      <td>38.095238</td>\n",
       "    </tr>\n",
       "    <tr>\n",
       "      <th>venenoso</th>\n",
       "      <td>74.380165</td>\n",
       "      <td>20.0</td>\n",
       "      <td>58.760108</td>\n",
       "      <td>43.799283</td>\n",
       "      <td>43.920884</td>\n",
       "      <td>62.385321</td>\n",
       "      <td>0.0</td>\n",
       "      <td>0.0</td>\n",
       "      <td>29.011553</td>\n",
       "      <td>61.904762</td>\n",
       "    </tr>\n",
       "  </tbody>\n",
       "</table>\n",
       "</div>"
      ],
      "text/plain": [
       "cor-chapéu      couro  canela   vermelho      cinza     marrom       rosa  \\\n",
       "classe                                                                      \n",
       "comestível  25.619835    80.0  41.239892  56.200717  56.079116  37.614679   \n",
       "venenoso    74.380165    20.0  58.760108  43.799283  43.920884  62.385321   \n",
       "\n",
       "cor-chapéu  verde   roxo     branco    amarelo  \n",
       "classe                                          \n",
       "comestível  100.0  100.0  70.988447  38.095238  \n",
       "venenoso      0.0    0.0  29.011553  61.904762  "
      ]
     },
     "execution_count": 76,
     "metadata": {},
     "output_type": "execute_result"
    }
   ],
   "source": [
    "tabela_cor_chapeu=pd.crosstab(train['classe'], train['cor-chapéu'], normalize='columns')\n",
    "tabela_cor_chapeu*100"
   ]
  },
  {
   "cell_type": "markdown",
   "metadata": {},
   "source": [
    "#### Gráfico de Empilhamento"
   ]
  },
  {
   "cell_type": "code",
   "execution_count": 77,
   "metadata": {},
   "outputs": [
    {
     "data": {
      "image/png": "[encoded data removed]",
      "text/plain": [
       "<Figure size 432x288 with 1 Axes>"
      ]
     },
     "metadata": {
      "needs_background": "light"
     },
     "output_type": "display_data"
    }
   ],
   "source": [
    "plot = (100*tabela_cor_chapeu).T.plot(kind='bar', stacked=True,color='green' 'red',title='Classe de Cogumelo por Cor do Chapéu')\n",
    "plot.set_ylim([0, 100])\n",
    "plt.ylabel('Freq.Relativa (em%)')\n",
    "plt.legend(loc='center left', bbox_to_anchor=(1, 0.5))\n",
    "\n",
    "plt.show()"
   ]
  },
  {
   "cell_type": "markdown",
   "metadata": {},
   "source": [
    "#### Comentários"
   ]
  },
  {
   "cell_type": "markdown",
   "metadata": {},
   "source": [
    "A cor do chapéu é popularmente considerada uma característica que define se um cogumelo é venenoso ou não. No entanto, de acordo com os dados do dataset, não são todas as cores que definem bem. Por exemplo o vermelho e o amarelo que são normalmente vistas como cores de advertência/perigo e por isso determinam o cogumelo como venenoso; porém, as observações aqui indicam que isso não é bem verdade. \n",
    "\n",
    "A cor do chapéu pode ser uma característica relevante na classificação, pois as probabilidades estão bem divididas entre as classes de cogumelos, com exceção das cores branco e roxo, que apresentam o problema da probabilidade 100%."
   ]
  },
  {
   "cell_type": "markdown",
   "metadata": {},
   "source": [
    "### Feature \"Hematomas\""
   ]
  },
  {
   "cell_type": "markdown",
   "metadata": {},
   "source": [
    "<img src=img/hematomas.jpg width=20%>"
   ]
  },
  {
   "cell_type": "markdown",
   "metadata": {},
   "source": [
    "#### Tabela de Frequências Relativas"
   ]
  },
  {
   "cell_type": "code",
   "execution_count": 78,
   "metadata": {},
   "outputs": [
    {
     "data": {
      "text/html": [
       "<div>\n",
       "<style scoped>\n",
       "    .dataframe tbody tr th:only-of-type {\n",
       "        vertical-align: middle;\n",
       "    }\n",
       "\n",
       "    .dataframe tbody tr th {\n",
       "        vertical-align: top;\n",
       "    }\n",
       "\n",
       "    .dataframe thead th {\n",
       "        text-align: right;\n",
       "    }\n",
       "</style>\n",
       "<table border=\"1\" class=\"dataframe\">\n",
       "  <thead>\n",
       "    <tr style=\"text-align: right;\">\n",
       "      <th>hematomas</th>\n",
       "      <th>não tem</th>\n",
       "      <th>tem</th>\n",
       "    </tr>\n",
       "    <tr>\n",
       "      <th>classe</th>\n",
       "      <th></th>\n",
       "      <th></th>\n",
       "    </tr>\n",
       "  </thead>\n",
       "  <tbody>\n",
       "    <tr>\n",
       "      <th>comestível</th>\n",
       "      <td>31.302876</td>\n",
       "      <td>81.58618</td>\n",
       "    </tr>\n",
       "    <tr>\n",
       "      <th>venenoso</th>\n",
       "      <td>68.697124</td>\n",
       "      <td>18.41382</td>\n",
       "    </tr>\n",
       "  </tbody>\n",
       "</table>\n",
       "</div>"
      ],
      "text/plain": [
       "hematomas     não tem       tem\n",
       "classe                         \n",
       "comestível  31.302876  81.58618\n",
       "venenoso    68.697124  18.41382"
      ]
     },
     "execution_count": 78,
     "metadata": {},
     "output_type": "execute_result"
    }
   ],
   "source": [
    "tabela_hematomas=pd.crosstab(train['classe'], train['hematomas'], normalize='columns')\n",
    "tabela_hematomas*100"
   ]
  },
  {
   "cell_type": "markdown",
   "metadata": {},
   "source": [
    "#### Gráfico de Empilhamento"
   ]
  },
  {
   "cell_type": "code",
   "execution_count": 79,
   "metadata": {},
   "outputs": [
    {
     "data": {
      "image/png": "[encoded data removed]",
      "text/plain": [
       "<Figure size 432x288 with 1 Axes>"
      ]
     },
     "metadata": {
      "needs_background": "light"
     },
     "output_type": "display_data"
    }
   ],
   "source": [
    "plot = (100*tabela_hematomas).T.plot(kind='bar', stacked=True,color='green' 'red',title='Classe de Cogumelo por Presença de Hematomas')\n",
    "plot.set_ylim([0, 100])\n",
    "plt.ylabel('Freq.Relativa (em%)')\n",
    "plt.legend(loc='center left', bbox_to_anchor=(1, 0.5))\n",
    "\n",
    "plt.show()"
   ]
  },
  {
   "cell_type": "markdown",
   "metadata": {},
   "source": [
    "#### Comentários"
   ]
  },
  {
   "cell_type": "markdown",
   "metadata": {},
   "source": [
    "A presença de hematomas no cogumelo provavelmente é uma característica relevante para a análise, dado que, se um cogumelo possuir hematomas, a probabilidade observada de ele ser comestível é de 81,6 %, o que é relativamente alto, considerando que essa característica será analisada junto a outras."
   ]
  },
  {
   "cell_type": "markdown",
   "metadata": {},
   "source": [
    "### Feature \"Ligação entre Lamelas\""
   ]
  },
  {
   "cell_type": "markdown",
   "metadata": {},
   "source": [
    "#### Tabela de Frequências"
   ]
  },
  {
   "cell_type": "code",
   "execution_count": 80,
   "metadata": {},
   "outputs": [
    {
     "data": {
      "text/html": [
       "<div>\n",
       "<style scoped>\n",
       "    .dataframe tbody tr th:only-of-type {\n",
       "        vertical-align: middle;\n",
       "    }\n",
       "\n",
       "    .dataframe tbody tr th {\n",
       "        vertical-align: top;\n",
       "    }\n",
       "\n",
       "    .dataframe thead th {\n",
       "        text-align: right;\n",
       "    }\n",
       "</style>\n",
       "<table border=\"1\" class=\"dataframe\">\n",
       "  <thead>\n",
       "    <tr style=\"text-align: right;\">\n",
       "      <th>ligação-lamela</th>\n",
       "      <th>conectada</th>\n",
       "      <th>solta</th>\n",
       "    </tr>\n",
       "    <tr>\n",
       "      <th>classe</th>\n",
       "      <th></th>\n",
       "      <th></th>\n",
       "    </tr>\n",
       "  </thead>\n",
       "  <tbody>\n",
       "    <tr>\n",
       "      <th>comestível</th>\n",
       "      <td>90.789474</td>\n",
       "      <td>51.338159</td>\n",
       "    </tr>\n",
       "    <tr>\n",
       "      <th>venenoso</th>\n",
       "      <td>9.210526</td>\n",
       "      <td>48.661841</td>\n",
       "    </tr>\n",
       "  </tbody>\n",
       "</table>\n",
       "</div>"
      ],
      "text/plain": [
       "ligação-lamela  conectada      solta\n",
       "classe                              \n",
       "comestível      90.789474  51.338159\n",
       "venenoso         9.210526  48.661841"
      ]
     },
     "execution_count": 80,
     "metadata": {},
     "output_type": "execute_result"
    }
   ],
   "source": [
    "tabela_ligacao_lamela=pd.crosstab(train['classe'], train['ligação-lamela'], normalize='columns')\n",
    "tabela_ligacao_lamela*100"
   ]
  },
  {
   "cell_type": "markdown",
   "metadata": {},
   "source": [
    "#### Gráfico de Empilhamento"
   ]
  },
  {
   "cell_type": "code",
   "execution_count": 81,
   "metadata": {},
   "outputs": [
    {
     "data": {
      "image/png": "[encoded data removed]",
      "text/plain": [
       "<Figure size 432x288 with 1 Axes>"
      ]
     },
     "metadata": {
      "needs_background": "light"
     },
     "output_type": "display_data"
    }
   ],
   "source": [
    "plot = (100*tabela_ligacao_lamela).T.plot(kind='bar', stacked=True,color='green' 'red',title='Classe de Cogumelo por Ligação entre Lamelas')\n",
    "plot.set_ylim([0, 100])\n",
    "plt.ylabel('Freq.Relativa (em%)')\n",
    "plt.legend(loc='center left', bbox_to_anchor=(1, 0.5))\n",
    "\n",
    "plt.show()"
   ]
  },
  {
   "cell_type": "markdown",
   "metadata": {},
   "source": [
    "#### Comentários"
   ]
  },
  {
   "cell_type": "markdown",
   "metadata": {},
   "source": [
    "Se as lamelas forem conectadas, há 90,8% de probabilidade do cogumelo ser comestível. Logo, a ligação entre as lamelas pode ser uma característica interessante para a classificação se as lamelas forem conectadas. Porém, se forem soltas, essa característica não é tão relevante, devido às probabilidades divididias quase meio a meio entre as classes de cogumelo."
   ]
  },
  {
   "cell_type": "markdown",
   "metadata": {},
   "source": [
    "### Feature \"Espaçamento-Lamela\""
   ]
  },
  {
   "cell_type": "markdown",
   "metadata": {},
   "source": [
    "<img src=img/lamela_espacada.jpg width=40%>"
   ]
  },
  {
   "cell_type": "code",
   "execution_count": 82,
   "metadata": {},
   "outputs": [
    {
     "data": {
      "text/html": [
       "<div>\n",
       "<style scoped>\n",
       "    .dataframe tbody tr th:only-of-type {\n",
       "        vertical-align: middle;\n",
       "    }\n",
       "\n",
       "    .dataframe tbody tr th {\n",
       "        vertical-align: top;\n",
       "    }\n",
       "\n",
       "    .dataframe thead th {\n",
       "        text-align: right;\n",
       "    }\n",
       "</style>\n",
       "<table border=\"1\" class=\"dataframe\">\n",
       "  <thead>\n",
       "    <tr style=\"text-align: right;\">\n",
       "      <th>espaçamento-lamela</th>\n",
       "      <th>perto</th>\n",
       "      <th>lotado</th>\n",
       "    </tr>\n",
       "    <tr>\n",
       "      <th>classe</th>\n",
       "      <th></th>\n",
       "      <th></th>\n",
       "    </tr>\n",
       "  </thead>\n",
       "  <tbody>\n",
       "    <tr>\n",
       "      <th>comestível</th>\n",
       "      <td>44.381027</td>\n",
       "      <td>92.193676</td>\n",
       "    </tr>\n",
       "    <tr>\n",
       "      <th>venenoso</th>\n",
       "      <td>55.618973</td>\n",
       "      <td>7.806324</td>\n",
       "    </tr>\n",
       "  </tbody>\n",
       "</table>\n",
       "</div>"
      ],
      "text/plain": [
       "espaçamento-lamela      perto     lotado\n",
       "classe                                  \n",
       "comestível          44.381027  92.193676\n",
       "venenoso            55.618973   7.806324"
      ]
     },
     "execution_count": 82,
     "metadata": {},
     "output_type": "execute_result"
    }
   ],
   "source": [
    "tabela_espacamento_lamela=pd.crosstab(train['classe'], train['espaçamento-lamela'], normalize='columns')\n",
    "tabela_espacamento_lamela*100"
   ]
  },
  {
   "cell_type": "code",
   "execution_count": 84,
   "metadata": {},
   "outputs": [
    {
     "data": {
      "image/png": "[encoded data removed]",
      "text/plain": [
       "<Figure size 432x288 with 1 Axes>"
      ]
     },
     "metadata": {
      "needs_background": "light"
     },
     "output_type": "display_data"
    }
   ],
   "source": [
    "plot = (100*tabela_espacamento_lamela).T.plot(kind='bar', stacked=True,color='green' 'red',title='Classe de Cogumelo por Espaçamento entre Lamelas')\n",
    "plot.set_ylim([0, 100])\n",
    "plt.ylabel('Freq.Relativa (em%)')\n",
    "plt.legend(loc='center left', bbox_to_anchor=(1, 0.5))\n",
    "\n",
    "plt.show()"
   ]
  },
  {
   "cell_type": "markdown",
   "metadata": {},
   "source": [
    "#### Comentários"
   ]
  },
  {
   "cell_type": "markdown",
   "metadata": {},
   "source": [
    "Essa característica pode ser bem relevante se as lamelas forem abundantes/lotadas, pois, nesse caso, há uma probabilidade de 92% de o cogumelo ser comestível. Se as lamelas estiverem perto umas das outras, mas não lotadas, essa característica é menos relevante, pois as probabilidades estão divididas de modo bastante parecido entre as duas classes de cogumelo."
   ]
  },
  {
   "cell_type": "markdown",
   "metadata": {},
   "source": [
    "### Feature \"Tamanho-Lamela\""
   ]
  },
  {
   "cell_type": "markdown",
   "metadata": {},
   "source": [
    "<img src=img/lamelas.jpg width=20%>"
   ]
  },
  {
   "cell_type": "markdown",
   "metadata": {},
   "source": [
    "#### Tabela de Frequência"
   ]
  },
  {
   "cell_type": "code",
   "execution_count": 85,
   "metadata": {},
   "outputs": [
    {
     "data": {
      "text/html": [
       "<div>\n",
       "<style scoped>\n",
       "    .dataframe tbody tr th:only-of-type {\n",
       "        vertical-align: middle;\n",
       "    }\n",
       "\n",
       "    .dataframe tbody tr th {\n",
       "        vertical-align: top;\n",
       "    }\n",
       "\n",
       "    .dataframe thead th {\n",
       "        text-align: right;\n",
       "    }\n",
       "</style>\n",
       "<table border=\"1\" class=\"dataframe\">\n",
       "  <thead>\n",
       "    <tr style=\"text-align: right;\">\n",
       "      <th>tamanho-lamela</th>\n",
       "      <th>ampla</th>\n",
       "      <th>estreita</th>\n",
       "    </tr>\n",
       "    <tr>\n",
       "      <th>classe</th>\n",
       "      <th></th>\n",
       "      <th></th>\n",
       "    </tr>\n",
       "  </thead>\n",
       "  <tbody>\n",
       "    <tr>\n",
       "      <th>comestível</th>\n",
       "      <td>70.135424</td>\n",
       "      <td>12.526539</td>\n",
       "    </tr>\n",
       "    <tr>\n",
       "      <th>venenoso</th>\n",
       "      <td>29.864576</td>\n",
       "      <td>87.473461</td>\n",
       "    </tr>\n",
       "  </tbody>\n",
       "</table>\n",
       "</div>"
      ],
      "text/plain": [
       "tamanho-lamela      ampla   estreita\n",
       "classe                              \n",
       "comestível      70.135424  12.526539\n",
       "venenoso        29.864576  87.473461"
      ]
     },
     "execution_count": 85,
     "metadata": {},
     "output_type": "execute_result"
    }
   ],
   "source": [
    "tabela_tamanho_lamela=pd.crosstab(train['classe'], train['tamanho-lamela'], normalize='columns')\n",
    "tabela_tamanho_lamela*100"
   ]
  },
  {
   "cell_type": "markdown",
   "metadata": {},
   "source": [
    "#### Gráfico de Empilhamento"
   ]
  },
  {
   "cell_type": "code",
   "execution_count": 87,
   "metadata": {},
   "outputs": [
    {
     "data": {
      "image/png": "[encoded data removed]",
      "text/plain": [
       "<Figure size 432x288 with 1 Axes>"
      ]
     },
     "metadata": {
      "needs_background": "light"
     },
     "output_type": "display_data"
    }
   ],
   "source": [
    "plot = (100*tabela_tamanho_lamela).T.plot(kind='bar', stacked=True,color='green' 'red',title='Classe de Cogumelo por Tamanho das Lamelas')\n",
    "plot.set_ylim([0, 100])\n",
    "plt.ylabel('Freq.Relativa (em%)')\n",
    "plt.legend(loc='center left', bbox_to_anchor=(1, 0.5))\n",
    "\n",
    "plt.show()"
   ]
  },
  {
   "cell_type": "markdown",
   "metadata": {},
   "source": [
    "#### Comentários"
   ]
  },
  {
   "cell_type": "markdown",
   "metadata": {},
   "source": [
    "O tamanho das lamelas, pela análise das probabilidades e do gráfico, provavelmente é uma característica relevante para a classificação, pois as probabilidades são bem diferentes quando as lamelas são estreitas e suficientemente diferentes quando as lamelas são amplas."
   ]
  },
  {
   "cell_type": "markdown",
   "metadata": {},
   "source": [
    "### Feature \"Cor-Lamela\""
   ]
  },
  {
   "cell_type": "markdown",
   "metadata": {},
   "source": [
    "<img src=img/lamela_colorida.jpg width=20%>"
   ]
  },
  {
   "cell_type": "markdown",
   "metadata": {},
   "source": [
    "#### Tabela de Frequência"
   ]
  },
  {
   "cell_type": "code",
   "execution_count": 88,
   "metadata": {},
   "outputs": [
    {
     "data": {
      "text/html": [
       "<div>\n",
       "<style scoped>\n",
       "    .dataframe tbody tr th:only-of-type {\n",
       "        vertical-align: middle;\n",
       "    }\n",
       "\n",
       "    .dataframe tbody tr th {\n",
       "        vertical-align: top;\n",
       "    }\n",
       "\n",
       "    .dataframe thead th {\n",
       "        text-align: right;\n",
       "    }\n",
       "</style>\n",
       "<table border=\"1\" class=\"dataframe\">\n",
       "  <thead>\n",
       "    <tr style=\"text-align: right;\">\n",
       "      <th>cor-lamela</th>\n",
       "      <th>couro</th>\n",
       "      <th>vermelha</th>\n",
       "      <th>cinza</th>\n",
       "      <th>chocolate</th>\n",
       "      <th>preta</th>\n",
       "      <th>marrom</th>\n",
       "      <th>laranja</th>\n",
       "      <th>rosa</th>\n",
       "      <th>verde</th>\n",
       "      <th>roxa</th>\n",
       "      <th>branca</th>\n",
       "      <th>amarelo</th>\n",
       "    </tr>\n",
       "    <tr>\n",
       "      <th>classe</th>\n",
       "      <th></th>\n",
       "      <th></th>\n",
       "      <th></th>\n",
       "      <th></th>\n",
       "      <th></th>\n",
       "      <th></th>\n",
       "      <th></th>\n",
       "      <th></th>\n",
       "      <th></th>\n",
       "      <th></th>\n",
       "      <th></th>\n",
       "      <th></th>\n",
       "    </tr>\n",
       "  </thead>\n",
       "  <tbody>\n",
       "    <tr>\n",
       "      <th>comestível</th>\n",
       "      <td>0.0</td>\n",
       "      <td>100.0</td>\n",
       "      <td>32.675045</td>\n",
       "      <td>28.597786</td>\n",
       "      <td>84.161491</td>\n",
       "      <td>89.367089</td>\n",
       "      <td>100.0</td>\n",
       "      <td>57.425743</td>\n",
       "      <td>0.0</td>\n",
       "      <td>90.05102</td>\n",
       "      <td>79.646018</td>\n",
       "      <td>73.4375</td>\n",
       "    </tr>\n",
       "    <tr>\n",
       "      <th>venenoso</th>\n",
       "      <td>100.0</td>\n",
       "      <td>0.0</td>\n",
       "      <td>67.324955</td>\n",
       "      <td>71.402214</td>\n",
       "      <td>15.838509</td>\n",
       "      <td>10.632911</td>\n",
       "      <td>0.0</td>\n",
       "      <td>42.574257</td>\n",
       "      <td>100.0</td>\n",
       "      <td>9.94898</td>\n",
       "      <td>20.353982</td>\n",
       "      <td>26.5625</td>\n",
       "    </tr>\n",
       "  </tbody>\n",
       "</table>\n",
       "</div>"
      ],
      "text/plain": [
       "cor-lamela  couro  vermelha      cinza  chocolate      preta     marrom  \\\n",
       "classe                                                                    \n",
       "comestível    0.0     100.0  32.675045  28.597786  84.161491  89.367089   \n",
       "venenoso    100.0       0.0  67.324955  71.402214  15.838509  10.632911   \n",
       "\n",
       "cor-lamela  laranja       rosa  verde      roxa     branca  amarelo  \n",
       "classe                                                               \n",
       "comestível    100.0  57.425743    0.0  90.05102  79.646018  73.4375  \n",
       "venenoso        0.0  42.574257  100.0   9.94898  20.353982  26.5625  "
      ]
     },
     "execution_count": 88,
     "metadata": {},
     "output_type": "execute_result"
    }
   ],
   "source": [
    "tabela_cor_lamela=pd.crosstab(train['classe'], train['cor-lamela'], normalize='columns')\n",
    "tabela_cor_lamela*100"
   ]
  },
  {
   "cell_type": "markdown",
   "metadata": {},
   "source": [
    "#### Gráfico de Empilhamento"
   ]
  },
  {
   "cell_type": "code",
   "execution_count": 89,
   "metadata": {},
   "outputs": [
    {
     "data": {
      "image/png": "[encoded data removed]",
      "text/plain": [
       "<Figure size 432x288 with 1 Axes>"
      ]
     },
     "metadata": {
      "needs_background": "light"
     },
     "output_type": "display_data"
    }
   ],
   "source": [
    "plot = (100*tabela_cor_lamela).T.plot(kind='bar', stacked=True,color='green' 'red',title='Classe de Cogumelo por Cor das Lamelas')\n",
    "plot.set_ylim([0, 100])\n",
    "plt.ylabel('Freq.Relativa (em%)')\n",
    "plt.legend(loc='center left', bbox_to_anchor=(1, 0.5))\n",
    "\n",
    "plt.show()"
   ]
  },
  {
   "cell_type": "markdown",
   "metadata": {},
   "source": [
    "#### Comentários"
   ]
  },
  {
   "cell_type": "markdown",
   "metadata": {},
   "source": [
    "A cor das lamelas é uma característica bastante relevante para classificar o cogumelo. De acordo com a tabela cruzada, a maioria das cores possuem probabilidades distribuídas de modo desigual entre as classes. Há a exceção das cores couro e vermelha, que apresentam o problema do 100%."
   ]
  },
  {
   "cell_type": "markdown",
   "metadata": {},
   "source": [
    "### Feature \"Formato-Estipe\""
   ]
  },
  {
   "cell_type": "markdown",
   "metadata": {},
   "source": [
    "<img src=img/formato_estipe.jpg width=30%>"
   ]
  },
  {
   "cell_type": "markdown",
   "metadata": {},
   "source": [
    "#### Tabela de Frequências Relativas"
   ]
  },
  {
   "cell_type": "code",
   "execution_count": 90,
   "metadata": {},
   "outputs": [
    {
     "data": {
      "text/html": [
       "<div>\n",
       "<style scoped>\n",
       "    .dataframe tbody tr th:only-of-type {\n",
       "        vertical-align: middle;\n",
       "    }\n",
       "\n",
       "    .dataframe tbody tr th {\n",
       "        vertical-align: top;\n",
       "    }\n",
       "\n",
       "    .dataframe thead th {\n",
       "        text-align: right;\n",
       "    }\n",
       "</style>\n",
       "<table border=\"1\" class=\"dataframe\">\n",
       "  <thead>\n",
       "    <tr style=\"text-align: right;\">\n",
       "      <th>formato-estipe</th>\n",
       "      <th>alargando</th>\n",
       "      <th>afunilando</th>\n",
       "    </tr>\n",
       "    <tr>\n",
       "      <th>classe</th>\n",
       "      <th></th>\n",
       "      <th></th>\n",
       "    </tr>\n",
       "  </thead>\n",
       "  <tbody>\n",
       "    <tr>\n",
       "      <th>comestível</th>\n",
       "      <td>46.08067</td>\n",
       "      <td>57.056277</td>\n",
       "    </tr>\n",
       "    <tr>\n",
       "      <th>venenoso</th>\n",
       "      <td>53.91933</td>\n",
       "      <td>42.943723</td>\n",
       "    </tr>\n",
       "  </tbody>\n",
       "</table>\n",
       "</div>"
      ],
      "text/plain": [
       "formato-estipe  alargando  afunilando\n",
       "classe                               \n",
       "comestível       46.08067   57.056277\n",
       "venenoso         53.91933   42.943723"
      ]
     },
     "execution_count": 90,
     "metadata": {},
     "output_type": "execute_result"
    }
   ],
   "source": [
    "tabela_formato_estipe=pd.crosstab(train['classe'], train['formato-estipe'], normalize='columns')\n",
    "tabela_formato_estipe*100"
   ]
  },
  {
   "cell_type": "markdown",
   "metadata": {},
   "source": [
    "#### Gráfico de Empilhamento"
   ]
  },
  {
   "cell_type": "code",
   "execution_count": 92,
   "metadata": {},
   "outputs": [
    {
     "data": {
      "image/png": "[encoded data removed]",
      "text/plain": [
       "<Figure size 432x288 with 1 Axes>"
      ]
     },
     "metadata": {
      "needs_background": "light"
     },
     "output_type": "display_data"
    }
   ],
   "source": [
    "plot = (100*tabela_formato_estipe).T.plot(kind='bar', stacked=True,color='green' 'red',title='Classe de Cogumelo por Formato do Estipe')\n",
    "plot.set_ylim([0, 100])\n",
    "plt.ylabel('Freq.Relativa (em%)')\n",
    "plt.legend(loc='center left', bbox_to_anchor=(1, 0.5))\n",
    "\n",
    "plt.show()"
   ]
  },
  {
   "cell_type": "markdown",
   "metadata": {},
   "source": [
    "#### Comentários"
   ]
  },
  {
   "cell_type": "markdown",
   "metadata": {},
   "source": [
    "Essa característica provavelmente é pouco relevante para a classificação, visto que, por meio das probabilidades e do gráfico, não há uma relação clara entre formato do estipe e comestibilidade do cogumelo. No entanto, ela ainda pode servir para separar alguns cogumelos em alguma parte do processo de classificação."
   ]
  },
  {
   "cell_type": "markdown",
   "metadata": {},
   "source": [
    "### Feature \"Raiz-Estipe\""
   ]
  },
  {
   "cell_type": "markdown",
   "metadata": {},
   "source": [
    "<img src=img/hifas.jpg width=40%>"
   ]
  },
  {
   "cell_type": "markdown",
   "metadata": {},
   "source": [
    "#### Tabela de Frequências Relativas"
   ]
  },
  {
   "cell_type": "code",
   "execution_count": 93,
   "metadata": {},
   "outputs": [
    {
     "data": {
      "text/html": [
       "<div>\n",
       "<style scoped>\n",
       "    .dataframe tbody tr th:only-of-type {\n",
       "        vertical-align: middle;\n",
       "    }\n",
       "\n",
       "    .dataframe tbody tr th {\n",
       "        vertical-align: top;\n",
       "    }\n",
       "\n",
       "    .dataframe thead th {\n",
       "        text-align: right;\n",
       "    }\n",
       "</style>\n",
       "<table border=\"1\" class=\"dataframe\">\n",
       "  <thead>\n",
       "    <tr style=\"text-align: right;\">\n",
       "      <th>raiz-estipe</th>\n",
       "      <th>não tem</th>\n",
       "      <th>bulboso</th>\n",
       "      <th>clava</th>\n",
       "      <th>reto</th>\n",
       "      <th>enraizado</th>\n",
       "    </tr>\n",
       "    <tr>\n",
       "      <th>classe</th>\n",
       "      <th></th>\n",
       "      <th></th>\n",
       "      <th></th>\n",
       "      <th></th>\n",
       "      <th></th>\n",
       "    </tr>\n",
       "  </thead>\n",
       "  <tbody>\n",
       "    <tr>\n",
       "      <th>comestível</th>\n",
       "      <td>29.395754</td>\n",
       "      <td>51.822004</td>\n",
       "      <td>91.990291</td>\n",
       "      <td>76.498237</td>\n",
       "      <td>100.0</td>\n",
       "    </tr>\n",
       "    <tr>\n",
       "      <th>venenoso</th>\n",
       "      <td>70.604246</td>\n",
       "      <td>48.177996</td>\n",
       "      <td>8.009709</td>\n",
       "      <td>23.501763</td>\n",
       "      <td>0.0</td>\n",
       "    </tr>\n",
       "  </tbody>\n",
       "</table>\n",
       "</div>"
      ],
      "text/plain": [
       "raiz-estipe    não tem    bulboso      clava       reto  enraizado\n",
       "classe                                                            \n",
       "comestível   29.395754  51.822004  91.990291  76.498237      100.0\n",
       "venenoso     70.604246  48.177996   8.009709  23.501763        0.0"
      ]
     },
     "execution_count": 93,
     "metadata": {},
     "output_type": "execute_result"
    }
   ],
   "source": [
    "tabela_raiz_estipe=pd.crosstab(train['classe'], train['raiz-estipe'], normalize='columns')\n",
    "tabela_raiz_estipe*100"
   ]
  },
  {
   "cell_type": "markdown",
   "metadata": {},
   "source": [
    "#### Gráfico de Empilhamento"
   ]
  },
  {
   "cell_type": "code",
   "execution_count": 94,
   "metadata": {},
   "outputs": [
    {
     "data": {
      "image/png": "[encoded data removed]",
      "text/plain": [
       "<Figure size 432x288 with 1 Axes>"
      ]
     },
     "metadata": {
      "needs_background": "light"
     },
     "output_type": "display_data"
    }
   ],
   "source": [
    "plot = (100*tabela_raiz_estipe).T.plot(kind='bar', stacked=True,color='green' 'red',title='Classe de Cogumelo por Raiz da Estipe')\n",
    "plot.set_ylim([0, 100])\n",
    "plt.ylabel('Freq.Relativa (em%)')\n",
    "plt.legend(loc='center left', bbox_to_anchor=(1, 0.5))\n",
    "\n",
    "plt.show()"
   ]
  },
  {
   "cell_type": "markdown",
   "metadata": {},
   "source": [
    "#### Comentários"
   ]
  },
  {
   "cell_type": "markdown",
   "metadata": {},
   "source": [
    "O formato da raiz da estipe é uma característica relevante, dado que as probabilidades são bastante desiguais para a maioria dos tipos de raiz de estipe, come exceção da bulbosa. A característica \"enraizado\" provavelmente não é tão relevante pois apresenta o problema da probabilidade 100%."
   ]
  },
  {
   "cell_type": "markdown",
   "metadata": {},
   "source": [
    "### Feature \"Superfície Estipe Sobre Anel\""
   ]
  },
  {
   "cell_type": "markdown",
   "metadata": {},
   "source": [
    "<img src=img/sobre_anel.jpg width=40%>"
   ]
  },
  {
   "cell_type": "markdown",
   "metadata": {},
   "source": [
    "#### Tabela de Frequências Relativas"
   ]
  },
  {
   "cell_type": "code",
   "execution_count": 95,
   "metadata": {},
   "outputs": [
    {
     "data": {
      "text/html": [
       "<div>\n",
       "<style scoped>\n",
       "    .dataframe tbody tr th:only-of-type {\n",
       "        vertical-align: middle;\n",
       "    }\n",
       "\n",
       "    .dataframe tbody tr th {\n",
       "        vertical-align: top;\n",
       "    }\n",
       "\n",
       "    .dataframe thead th {\n",
       "        text-align: right;\n",
       "    }\n",
       "</style>\n",
       "<table border=\"1\" class=\"dataframe\">\n",
       "  <thead>\n",
       "    <tr style=\"text-align: right;\">\n",
       "      <th>superfície-estipe-sobre-anel</th>\n",
       "      <th>fibroso</th>\n",
       "      <th>sedoso</th>\n",
       "      <th>liso</th>\n",
       "      <th>escamoso</th>\n",
       "    </tr>\n",
       "    <tr>\n",
       "      <th>classe</th>\n",
       "      <th></th>\n",
       "      <th></th>\n",
       "      <th></th>\n",
       "      <th></th>\n",
       "    </tr>\n",
       "  </thead>\n",
       "  <tbody>\n",
       "    <tr>\n",
       "      <th>comestível</th>\n",
       "      <td>75.18797</td>\n",
       "      <td>6.38779</td>\n",
       "      <td>70.719222</td>\n",
       "      <td>66.666667</td>\n",
       "    </tr>\n",
       "    <tr>\n",
       "      <th>venenoso</th>\n",
       "      <td>24.81203</td>\n",
       "      <td>93.61221</td>\n",
       "      <td>29.280778</td>\n",
       "      <td>33.333333</td>\n",
       "    </tr>\n",
       "  </tbody>\n",
       "</table>\n",
       "</div>"
      ],
      "text/plain": [
       "superfície-estipe-sobre-anel   fibroso    sedoso       liso   escamoso\n",
       "classe                                                                \n",
       "comestível                    75.18797   6.38779  70.719222  66.666667\n",
       "venenoso                      24.81203  93.61221  29.280778  33.333333"
      ]
     },
     "execution_count": 95,
     "metadata": {},
     "output_type": "execute_result"
    }
   ],
   "source": [
    "tabela_sueperficie_estipe_sobre_anel=pd.crosstab(train['classe'], train['superfície-estipe-sobre-anel'], normalize='columns')\n",
    "tabela_sueperficie_estipe_sobre_anel*100"
   ]
  },
  {
   "cell_type": "markdown",
   "metadata": {},
   "source": [
    "#### Gráfico de Empilhamento"
   ]
  },
  {
   "cell_type": "code",
   "execution_count": 96,
   "metadata": {},
   "outputs": [
    {
     "data": {
      "image/png": "[encoded data removed]",
      "text/plain": [
       "<Figure size 432x288 with 1 Axes>"
      ]
     },
     "metadata": {
      "needs_background": "light"
     },
     "output_type": "display_data"
    }
   ],
   "source": [
    "plot = (100*tabela_sueperficie_estipe_sobre_anel).T.plot(kind='bar', stacked=True,color='green' 'red',title='Classe de Cogumelo por Superfície da Estipe Acima do Anel')\n",
    "plot.set_ylim([0, 100])\n",
    "plt.ylabel('Freq.Relativa (em%)')\n",
    "plt.legend(loc='center left', bbox_to_anchor=(1, 0.5))\n",
    "\n",
    "plt.show()"
   ]
  },
  {
   "cell_type": "markdown",
   "metadata": {},
   "source": [
    "#### Comentários"
   ]
  },
  {
   "cell_type": "markdown",
   "metadata": {},
   "source": [
    "Essa característica provavelmente é bastante relevante para a classificação, dado que, de acordo com a tabela cruzada e o gráfico de empilhamento, as probabilidades para cada tipo de superfície são suficientemente desiguais entre as duas classes de cogumelo."
   ]
  },
  {
   "cell_type": "markdown",
   "metadata": {},
   "source": [
    "### Feature \"Superfície Estipe Sob Anel\""
   ]
  },
  {
   "cell_type": "markdown",
   "metadata": {},
   "source": [
    "<img src=img/sob_anel.jpg width=40%>"
   ]
  },
  {
   "cell_type": "markdown",
   "metadata": {},
   "source": [
    "#### Tabela de Frequências Relativas"
   ]
  },
  {
   "cell_type": "code",
   "execution_count": 97,
   "metadata": {},
   "outputs": [
    {
     "data": {
      "text/html": [
       "<div>\n",
       "<style scoped>\n",
       "    .dataframe tbody tr th:only-of-type {\n",
       "        vertical-align: middle;\n",
       "    }\n",
       "\n",
       "    .dataframe tbody tr th {\n",
       "        vertical-align: top;\n",
       "    }\n",
       "\n",
       "    .dataframe thead th {\n",
       "        text-align: right;\n",
       "    }\n",
       "</style>\n",
       "<table border=\"1\" class=\"dataframe\">\n",
       "  <thead>\n",
       "    <tr style=\"text-align: right;\">\n",
       "      <th>superfície-estipe-sob-anel</th>\n",
       "      <th>fibroso</th>\n",
       "      <th>sedoso</th>\n",
       "      <th>liso</th>\n",
       "      <th>escamoso</th>\n",
       "    </tr>\n",
       "    <tr>\n",
       "      <th>classe</th>\n",
       "      <th></th>\n",
       "      <th></th>\n",
       "      <th></th>\n",
       "      <th></th>\n",
       "    </tr>\n",
       "  </thead>\n",
       "  <tbody>\n",
       "    <tr>\n",
       "      <th>comestível</th>\n",
       "      <td>77.097506</td>\n",
       "      <td>6.795548</td>\n",
       "      <td>69.029152</td>\n",
       "      <td>73.300971</td>\n",
       "    </tr>\n",
       "    <tr>\n",
       "      <th>venenoso</th>\n",
       "      <td>22.902494</td>\n",
       "      <td>93.204452</td>\n",
       "      <td>30.970848</td>\n",
       "      <td>26.699029</td>\n",
       "    </tr>\n",
       "  </tbody>\n",
       "</table>\n",
       "</div>"
      ],
      "text/plain": [
       "superfície-estipe-sob-anel    fibroso     sedoso       liso   escamoso\n",
       "classe                                                                \n",
       "comestível                  77.097506   6.795548  69.029152  73.300971\n",
       "venenoso                    22.902494  93.204452  30.970848  26.699029"
      ]
     },
     "execution_count": 97,
     "metadata": {},
     "output_type": "execute_result"
    }
   ],
   "source": [
    "tabela_sueperficie_estipe_sob_anel=pd.crosstab(train['classe'], train['superfície-estipe-sob-anel'], normalize='columns')\n",
    "tabela_sueperficie_estipe_sob_anel*100"
   ]
  },
  {
   "cell_type": "markdown",
   "metadata": {},
   "source": [
    "#### Gráfico de Empilhamento"
   ]
  },
  {
   "cell_type": "code",
   "execution_count": 98,
   "metadata": {},
   "outputs": [
    {
     "data": {
      "image/png": "[encoded data removed]",
      "text/plain": [
       "<Figure size 432x288 with 1 Axes>"
      ]
     },
     "metadata": {
      "needs_background": "light"
     },
     "output_type": "display_data"
    }
   ],
   "source": [
    "plot = (100*tabela_sueperficie_estipe_sob_anel).T.plot(kind='bar', stacked=True,color='green' 'red',title='Classe de Cogumelo por Superfície da Estipe Abaixo do Anel')\n",
    "plot.set_ylim([0, 100])\n",
    "plt.ylabel('Freq.Relativa (em%)')\n",
    "plt.legend(loc='center left', bbox_to_anchor=(1, 0.5))\n",
    "\n",
    "plt.show()"
   ]
  },
  {
   "cell_type": "markdown",
   "metadata": {},
   "source": [
    "#### Comentários"
   ]
  },
  {
   "cell_type": "markdown",
   "metadata": {},
   "source": [
    "A relevância dessa característica é semelhante à da anterior."
   ]
  },
  {
   "cell_type": "markdown",
   "metadata": {},
   "source": [
    "### Feature \"Cor Estipe Sobre Anel\""
   ]
  },
  {
   "cell_type": "markdown",
   "metadata": {},
   "source": [
    "#### Tabela de Frequências Relativas"
   ]
  },
  {
   "cell_type": "code",
   "execution_count": 99,
   "metadata": {},
   "outputs": [
    {
     "data": {
      "text/html": [
       "<div>\n",
       "<style scoped>\n",
       "    .dataframe tbody tr th:only-of-type {\n",
       "        vertical-align: middle;\n",
       "    }\n",
       "\n",
       "    .dataframe tbody tr th {\n",
       "        vertical-align: top;\n",
       "    }\n",
       "\n",
       "    .dataframe thead th {\n",
       "        text-align: right;\n",
       "    }\n",
       "</style>\n",
       "<table border=\"1\" class=\"dataframe\">\n",
       "  <thead>\n",
       "    <tr style=\"text-align: right;\">\n",
       "      <th>cor-estipe-sobre-anel</th>\n",
       "      <th>couro</th>\n",
       "      <th>canela</th>\n",
       "      <th>vermelho</th>\n",
       "      <th>cinza</th>\n",
       "      <th>marrom</th>\n",
       "      <th>laranja</th>\n",
       "      <th>rosa</th>\n",
       "      <th>branco</th>\n",
       "      <th>amarelo</th>\n",
       "    </tr>\n",
       "    <tr>\n",
       "      <th>classe</th>\n",
       "      <th></th>\n",
       "      <th></th>\n",
       "      <th></th>\n",
       "      <th></th>\n",
       "      <th></th>\n",
       "      <th></th>\n",
       "      <th></th>\n",
       "      <th></th>\n",
       "      <th></th>\n",
       "    </tr>\n",
       "  </thead>\n",
       "  <tbody>\n",
       "    <tr>\n",
       "      <th>comestível</th>\n",
       "      <td>0.0</td>\n",
       "      <td>0.0</td>\n",
       "      <td>100.0</td>\n",
       "      <td>100.0</td>\n",
       "      <td>3.571429</td>\n",
       "      <td>100.0</td>\n",
       "      <td>31.537356</td>\n",
       "      <td>62.352246</td>\n",
       "      <td>0.0</td>\n",
       "    </tr>\n",
       "    <tr>\n",
       "      <th>venenoso</th>\n",
       "      <td>100.0</td>\n",
       "      <td>100.0</td>\n",
       "      <td>0.0</td>\n",
       "      <td>0.0</td>\n",
       "      <td>96.428571</td>\n",
       "      <td>0.0</td>\n",
       "      <td>68.462644</td>\n",
       "      <td>37.647754</td>\n",
       "      <td>100.0</td>\n",
       "    </tr>\n",
       "  </tbody>\n",
       "</table>\n",
       "</div>"
      ],
      "text/plain": [
       "cor-estipe-sobre-anel  couro  canela  vermelho  cinza     marrom  laranja  \\\n",
       "classe                                                                      \n",
       "comestível               0.0     0.0     100.0  100.0   3.571429    100.0   \n",
       "venenoso               100.0   100.0       0.0    0.0  96.428571      0.0   \n",
       "\n",
       "cor-estipe-sobre-anel       rosa     branco  amarelo  \n",
       "classe                                                \n",
       "comestível             31.537356  62.352246      0.0  \n",
       "venenoso               68.462644  37.647754    100.0  "
      ]
     },
     "execution_count": 99,
     "metadata": {},
     "output_type": "execute_result"
    }
   ],
   "source": [
    "tabela_cor_estipe_sobre_anel=pd.crosstab(train['classe'], train['cor-estipe-sobre-anel'], normalize='columns')\n",
    "tabela_cor_estipe_sobre_anel*100"
   ]
  },
  {
   "cell_type": "markdown",
   "metadata": {},
   "source": [
    "#### Gráfico de Empilhamento"
   ]
  },
  {
   "cell_type": "code",
   "execution_count": 100,
   "metadata": {},
   "outputs": [
    {
     "data": {
      "image/png": "[encoded data removed]",
      "text/plain": [
       "<Figure size 432x288 with 1 Axes>"
      ]
     },
     "metadata": {
      "needs_background": "light"
     },
     "output_type": "display_data"
    }
   ],
   "source": [
    "plot = (100*tabela_cor_estipe_sobre_anel).T.plot(kind='bar', stacked=True,color='green' 'red',title='Classe de Cogumelo por Cor da Estipe Acima do Anel')\n",
    "plot.set_ylim([0, 100])\n",
    "plt.ylabel('Freq.Relativa (em%)')\n",
    "plt.legend(loc='center left', bbox_to_anchor=(1, 0.5))\n",
    "\n",
    "plt.show()"
   ]
  },
  {
   "cell_type": "markdown",
   "metadata": {},
   "source": [
    "#### Comentários"
   ]
  },
  {
   "cell_type": "markdown",
   "metadata": {},
   "source": [
    "A cor da estipe acima do anel é uma característica pouco relevante para a classificação, devido a diversas cores apresentarem o problema da probabilidade 100%. As exceções são as cores branco, rosa e marrom."
   ]
  },
  {
   "cell_type": "markdown",
   "metadata": {},
   "source": [
    "### Feature \"Cor Estipe Sob Anel\""
   ]
  },
  {
   "cell_type": "markdown",
   "metadata": {},
   "source": [
    "#### Tabela de Frequências Relativas"
   ]
  },
  {
   "cell_type": "code",
   "execution_count": 101,
   "metadata": {},
   "outputs": [
    {
     "data": {
      "text/html": [
       "<div>\n",
       "<style scoped>\n",
       "    .dataframe tbody tr th:only-of-type {\n",
       "        vertical-align: middle;\n",
       "    }\n",
       "\n",
       "    .dataframe tbody tr th {\n",
       "        vertical-align: top;\n",
       "    }\n",
       "\n",
       "    .dataframe thead th {\n",
       "        text-align: right;\n",
       "    }\n",
       "</style>\n",
       "<table border=\"1\" class=\"dataframe\">\n",
       "  <thead>\n",
       "    <tr style=\"text-align: right;\">\n",
       "      <th>cor-estipe-sob-anel</th>\n",
       "      <th>couro</th>\n",
       "      <th>canela</th>\n",
       "      <th>vermelho</th>\n",
       "      <th>cinza</th>\n",
       "      <th>marrom</th>\n",
       "      <th>laranja</th>\n",
       "      <th>rosa</th>\n",
       "      <th>branco</th>\n",
       "      <th>amarelo</th>\n",
       "    </tr>\n",
       "    <tr>\n",
       "      <th>classe</th>\n",
       "      <th></th>\n",
       "      <th></th>\n",
       "      <th></th>\n",
       "      <th></th>\n",
       "      <th></th>\n",
       "      <th></th>\n",
       "      <th></th>\n",
       "      <th></th>\n",
       "      <th></th>\n",
       "    </tr>\n",
       "  </thead>\n",
       "  <tbody>\n",
       "    <tr>\n",
       "      <th>comestível</th>\n",
       "      <td>0.0</td>\n",
       "      <td>0.0</td>\n",
       "      <td>100.0</td>\n",
       "      <td>100.0</td>\n",
       "      <td>14.322917</td>\n",
       "      <td>100.0</td>\n",
       "      <td>30.606282</td>\n",
       "      <td>62.180835</td>\n",
       "      <td>0.0</td>\n",
       "    </tr>\n",
       "    <tr>\n",
       "      <th>venenoso</th>\n",
       "      <td>100.0</td>\n",
       "      <td>100.0</td>\n",
       "      <td>0.0</td>\n",
       "      <td>0.0</td>\n",
       "      <td>85.677083</td>\n",
       "      <td>0.0</td>\n",
       "      <td>69.393718</td>\n",
       "      <td>37.819165</td>\n",
       "      <td>100.0</td>\n",
       "    </tr>\n",
       "  </tbody>\n",
       "</table>\n",
       "</div>"
      ],
      "text/plain": [
       "cor-estipe-sob-anel  couro  canela  vermelho  cinza     marrom  laranja  \\\n",
       "classe                                                                    \n",
       "comestível             0.0     0.0     100.0  100.0  14.322917    100.0   \n",
       "venenoso             100.0   100.0       0.0    0.0  85.677083      0.0   \n",
       "\n",
       "cor-estipe-sob-anel       rosa     branco  amarelo  \n",
       "classe                                              \n",
       "comestível           30.606282  62.180835      0.0  \n",
       "venenoso             69.393718  37.819165    100.0  "
      ]
     },
     "execution_count": 101,
     "metadata": {},
     "output_type": "execute_result"
    }
   ],
   "source": [
    "tabela_cor_estipe_sob_anel=pd.crosstab(train['classe'], train['cor-estipe-sob-anel'], normalize='columns')\n",
    "tabela_cor_estipe_sob_anel*100"
   ]
  },
  {
   "cell_type": "markdown",
   "metadata": {},
   "source": [
    "#### Gráfico de Empilhamento"
   ]
  },
  {
   "cell_type": "code",
   "execution_count": 102,
   "metadata": {},
   "outputs": [
    {
     "data": {
      "image/png": "[encoded data removed]",
      "text/plain": [
       "<Figure size 432x288 with 1 Axes>"
      ]
     },
     "metadata": {
      "needs_background": "light"
     },
     "output_type": "display_data"
    }
   ],
   "source": [
    "plot = (100*tabela_cor_estipe_sob_anel).T.plot(kind='bar', stacked=True,color='green' 'red',title='Classe de Cogumelo por Cor da Estipe Abaixo do Anel')\n",
    "plot.set_ylim([0, 100])\n",
    "plt.ylabel('Freq.Relativa (em%)')\n",
    "plt.legend(loc='center left', bbox_to_anchor=(1, 0.5))\n",
    "\n",
    "plt.show()"
   ]
  },
  {
   "cell_type": "markdown",
   "metadata": {},
   "source": [
    "#### Comentários"
   ]
  },
  {
   "cell_type": "markdown",
   "metadata": {},
   "source": [
    "A relevância dessa característica é semelhante à da anterior."
   ]
  },
  {
   "cell_type": "markdown",
   "metadata": {},
   "source": [
    "### Feature \"Tipo-Volva\""
   ]
  },
  {
   "cell_type": "markdown",
   "metadata": {},
   "source": [
    "#### Tabela de Frequências Relativas"
   ]
  },
  {
   "cell_type": "code",
   "execution_count": 103,
   "metadata": {},
   "outputs": [
    {
     "data": {
      "text/html": [
       "<div>\n",
       "<style scoped>\n",
       "    .dataframe tbody tr th:only-of-type {\n",
       "        vertical-align: middle;\n",
       "    }\n",
       "\n",
       "    .dataframe tbody tr th {\n",
       "        vertical-align: top;\n",
       "    }\n",
       "\n",
       "    .dataframe thead th {\n",
       "        text-align: right;\n",
       "    }\n",
       "</style>\n",
       "<table border=\"1\" class=\"dataframe\">\n",
       "  <thead>\n",
       "    <tr style=\"text-align: right;\">\n",
       "      <th>tipo-volva</th>\n",
       "      <th>parcial</th>\n",
       "    </tr>\n",
       "    <tr>\n",
       "      <th>classe</th>\n",
       "      <th></th>\n",
       "    </tr>\n",
       "  </thead>\n",
       "  <tbody>\n",
       "    <tr>\n",
       "      <th>comestível</th>\n",
       "      <td>52.322337</td>\n",
       "    </tr>\n",
       "    <tr>\n",
       "      <th>venenoso</th>\n",
       "      <td>47.677663</td>\n",
       "    </tr>\n",
       "  </tbody>\n",
       "</table>\n",
       "</div>"
      ],
      "text/plain": [
       "tipo-volva    parcial\n",
       "classe               \n",
       "comestível  52.322337\n",
       "venenoso    47.677663"
      ]
     },
     "execution_count": 103,
     "metadata": {},
     "output_type": "execute_result"
    }
   ],
   "source": [
    "tabela_tipo_volva=pd.crosstab(train['classe'], train['tipo-volva'], normalize='columns')\n",
    "tabela_tipo_volva*100"
   ]
  },
  {
   "cell_type": "markdown",
   "metadata": {},
   "source": [
    "#### Gráfico de Empilhamento"
   ]
  },
  {
   "cell_type": "code",
   "execution_count": 104,
   "metadata": {},
   "outputs": [
    {
     "data": {
      "image/png": "[encoded data removed]",
      "text/plain": [
       "<Figure size 432x288 with 1 Axes>"
      ]
     },
     "metadata": {
      "needs_background": "light"
     },
     "output_type": "display_data"
    }
   ],
   "source": [
    "plot = (100*tabela_tipo_volva).T.plot(kind='bar', stacked=True,color='green' 'red',title='Classe de Cogumelo por Tipo de Volva')\n",
    "plot.set_ylim([0, 100])\n",
    "plt.ylabel('Freq.Relativa (em%)')\n",
    "plt.legend(loc='center left', bbox_to_anchor=(1, 0.5))\n",
    "\n",
    "plt.show()"
   ]
  },
  {
   "cell_type": "markdown",
   "metadata": {},
   "source": [
    "#### Comentários"
   ]
  },
  {
   "cell_type": "markdown",
   "metadata": {},
   "source": [
    "Essa característca não é relevante para a classificação, visto que há apenas um tipo de volva na base de dados e ela não permite concluir com segurança a comestibilidade de um cogumelo."
   ]
  },
  {
   "cell_type": "markdown",
   "metadata": {},
   "source": [
    "### Feature \"Cor-Volva\""
   ]
  },
  {
   "cell_type": "markdown",
   "metadata": {},
   "source": [
    "#### Tabela de Frequências Relativas"
   ]
  },
  {
   "cell_type": "code",
   "execution_count": 105,
   "metadata": {},
   "outputs": [
    {
     "data": {
      "text/html": [
       "<div>\n",
       "<style scoped>\n",
       "    .dataframe tbody tr th:only-of-type {\n",
       "        vertical-align: middle;\n",
       "    }\n",
       "\n",
       "    .dataframe tbody tr th {\n",
       "        vertical-align: top;\n",
       "    }\n",
       "\n",
       "    .dataframe thead th {\n",
       "        text-align: right;\n",
       "    }\n",
       "</style>\n",
       "<table border=\"1\" class=\"dataframe\">\n",
       "  <thead>\n",
       "    <tr style=\"text-align: right;\">\n",
       "      <th>cor-volva</th>\n",
       "      <th>marrom</th>\n",
       "      <th>laranja</th>\n",
       "      <th>branco</th>\n",
       "      <th>amarelo</th>\n",
       "    </tr>\n",
       "    <tr>\n",
       "      <th>classe</th>\n",
       "      <th></th>\n",
       "      <th></th>\n",
       "      <th></th>\n",
       "      <th></th>\n",
       "    </tr>\n",
       "  </thead>\n",
       "  <tbody>\n",
       "    <tr>\n",
       "      <th>comestível</th>\n",
       "      <td>100.0</td>\n",
       "      <td>100.0</td>\n",
       "      <td>51.269121</td>\n",
       "      <td>0.0</td>\n",
       "    </tr>\n",
       "    <tr>\n",
       "      <th>venenoso</th>\n",
       "      <td>0.0</td>\n",
       "      <td>0.0</td>\n",
       "      <td>48.730879</td>\n",
       "      <td>100.0</td>\n",
       "    </tr>\n",
       "  </tbody>\n",
       "</table>\n",
       "</div>"
      ],
      "text/plain": [
       "cor-volva   marrom  laranja     branco  amarelo\n",
       "classe                                         \n",
       "comestível   100.0    100.0  51.269121      0.0\n",
       "venenoso       0.0      0.0  48.730879    100.0"
      ]
     },
     "execution_count": 105,
     "metadata": {},
     "output_type": "execute_result"
    }
   ],
   "source": [
    "tabela_cor_volva=pd.crosstab(train['classe'], train['cor-volva'], normalize='columns')\n",
    "tabela_cor_volva*100"
   ]
  },
  {
   "cell_type": "markdown",
   "metadata": {},
   "source": [
    "#### Gráfico de Empilhamento"
   ]
  },
  {
   "cell_type": "code",
   "execution_count": 106,
   "metadata": {},
   "outputs": [
    {
     "data": {
      "image/png": "[encoded data removed]",
      "text/plain": [
       "<Figure size 432x288 with 1 Axes>"
      ]
     },
     "metadata": {
      "needs_background": "light"
     },
     "output_type": "display_data"
    }
   ],
   "source": [
    "plot = (100*tabela_cor_volva).T.plot(kind='bar', stacked=True,color='green' 'red',title='Classe de Cogumelo por Cor da Volva')\n",
    "plot.set_ylim([0, 100])\n",
    "plt.ylabel('Freq.Relativa (em%)')\n",
    "plt.legend(loc='center left', bbox_to_anchor=(1, 0.5))\n",
    "\n",
    "plt.show()"
   ]
  },
  {
   "cell_type": "markdown",
   "metadata": {},
   "source": [
    "#### Comentários"
   ]
  },
  {
   "cell_type": "markdown",
   "metadata": {},
   "source": [
    "A cor da volva é relevante para a classificação de um cogumelo se a cor for branca. Se a cor for marrom, laranja ou amarela, há o problema da probabilidade 100%."
   ]
  },
  {
   "cell_type": "markdown",
   "metadata": {},
   "source": [
    "### Feature \"Quantidade de Anéis\""
   ]
  },
  {
   "cell_type": "markdown",
   "metadata": {},
   "source": [
    "#### Tabela de Frequências Relativas"
   ]
  },
  {
   "cell_type": "code",
   "execution_count": 107,
   "metadata": {},
   "outputs": [
    {
     "data": {
      "text/html": [
       "<div>\n",
       "<style scoped>\n",
       "    .dataframe tbody tr th:only-of-type {\n",
       "        vertical-align: middle;\n",
       "    }\n",
       "\n",
       "    .dataframe tbody tr th {\n",
       "        vertical-align: top;\n",
       "    }\n",
       "\n",
       "    .dataframe thead th {\n",
       "        text-align: right;\n",
       "    }\n",
       "</style>\n",
       "<table border=\"1\" class=\"dataframe\">\n",
       "  <thead>\n",
       "    <tr style=\"text-align: right;\">\n",
       "      <th>quantidade-anéis</th>\n",
       "      <th>nenhum</th>\n",
       "      <th>um</th>\n",
       "      <th>dois</th>\n",
       "    </tr>\n",
       "    <tr>\n",
       "      <th>classe</th>\n",
       "      <th></th>\n",
       "      <th></th>\n",
       "      <th></th>\n",
       "    </tr>\n",
       "  </thead>\n",
       "  <tbody>\n",
       "    <tr>\n",
       "      <th>comestível</th>\n",
       "      <td>0.0</td>\n",
       "      <td>49.652468</td>\n",
       "      <td>88.351648</td>\n",
       "    </tr>\n",
       "    <tr>\n",
       "      <th>venenoso</th>\n",
       "      <td>100.0</td>\n",
       "      <td>50.347532</td>\n",
       "      <td>11.648352</td>\n",
       "    </tr>\n",
       "  </tbody>\n",
       "</table>\n",
       "</div>"
      ],
      "text/plain": [
       "quantidade-anéis  nenhum         um       dois\n",
       "classe                                        \n",
       "comestível           0.0  49.652468  88.351648\n",
       "venenoso           100.0  50.347532  11.648352"
      ]
     },
     "execution_count": 107,
     "metadata": {},
     "output_type": "execute_result"
    }
   ],
   "source": [
    "tabela_quantidade_aneis=pd.crosstab(train['classe'], train['quantidade-anéis'], normalize='columns')\n",
    "tabela_quantidade_aneis*100"
   ]
  },
  {
   "cell_type": "markdown",
   "metadata": {},
   "source": [
    "#### Gráfico de Empilhamento"
   ]
  },
  {
   "cell_type": "code",
   "execution_count": 109,
   "metadata": {},
   "outputs": [
    {
     "data": {
      "image/png": "[encoded data removed]",
      "text/plain": [
       "<Figure size 432x288 with 1 Axes>"
      ]
     },
     "metadata": {
      "needs_background": "light"
     },
     "output_type": "display_data"
    }
   ],
   "source": [
    "plot = (100*tabela_quantidade_aneis).T.plot(kind='bar', stacked=True,color='green' 'red',title='Classe de Cogumelo por Número de Anéis')\n",
    "plot.set_ylim([0, 100])\n",
    "plt.ylabel('Freq.Relativa (em%)')\n",
    "plt.legend(loc='center left', bbox_to_anchor=(1, 0.5))\n",
    "\n",
    "plt.show()"
   ]
  },
  {
   "cell_type": "markdown",
   "metadata": {},
   "source": [
    "#### Comentários"
   ]
  },
  {
   "cell_type": "markdown",
   "metadata": {},
   "source": [
    "Quando um cogumelo não possuir anéis, essa característica (quantidade de anéis) é irrelevante devido ao problema da probabilidade 100%. Se o cogumelo possuir um anel, provavelmente isso não é relevante porque as probabilidades estão divididas quase 50 - 50 entre as duas classes de cogumelo."
   ]
  },
  {
   "cell_type": "markdown",
   "metadata": {},
   "source": [
    "### Feature \"Tipo de Anel\""
   ]
  },
  {
   "cell_type": "markdown",
   "metadata": {},
   "source": [
    "<img src=img/anel_diferente.jpg width=40%>"
   ]
  },
  {
   "cell_type": "markdown",
   "metadata": {},
   "source": [
    "#### Tabela de Frequências Relativas"
   ]
  },
  {
   "cell_type": "code",
   "execution_count": 110,
   "metadata": {},
   "outputs": [
    {
     "data": {
      "text/html": [
       "<div>\n",
       "<style scoped>\n",
       "    .dataframe tbody tr th:only-of-type {\n",
       "        vertical-align: middle;\n",
       "    }\n",
       "\n",
       "    .dataframe tbody tr th {\n",
       "        vertical-align: top;\n",
       "    }\n",
       "\n",
       "    .dataframe thead th {\n",
       "        text-align: right;\n",
       "    }\n",
       "</style>\n",
       "<table border=\"1\" class=\"dataframe\">\n",
       "  <thead>\n",
       "    <tr style=\"text-align: right;\">\n",
       "      <th>tipo-anel</th>\n",
       "      <th>evanescente</th>\n",
       "      <th>deslumbrante</th>\n",
       "      <th>grande</th>\n",
       "      <th>nenhum</th>\n",
       "      <th>pingente</th>\n",
       "    </tr>\n",
       "    <tr>\n",
       "      <th>classe</th>\n",
       "      <th></th>\n",
       "      <th></th>\n",
       "      <th></th>\n",
       "      <th></th>\n",
       "      <th></th>\n",
       "    </tr>\n",
       "  </thead>\n",
       "  <tbody>\n",
       "    <tr>\n",
       "      <th>comestível</th>\n",
       "      <td>36.747573</td>\n",
       "      <td>100.0</td>\n",
       "      <td>0.0</td>\n",
       "      <td>0.0</td>\n",
       "      <td>79.667221</td>\n",
       "    </tr>\n",
       "    <tr>\n",
       "      <th>venenoso</th>\n",
       "      <td>63.252427</td>\n",
       "      <td>0.0</td>\n",
       "      <td>100.0</td>\n",
       "      <td>100.0</td>\n",
       "      <td>20.332779</td>\n",
       "    </tr>\n",
       "  </tbody>\n",
       "</table>\n",
       "</div>"
      ],
      "text/plain": [
       "tipo-anel   evanescente  deslumbrante  grande  nenhum   pingente\n",
       "classe                                                          \n",
       "comestível    36.747573         100.0     0.0     0.0  79.667221\n",
       "venenoso      63.252427           0.0   100.0   100.0  20.332779"
      ]
     },
     "execution_count": 110,
     "metadata": {},
     "output_type": "execute_result"
    }
   ],
   "source": [
    "tabela_tipo_anel=pd.crosstab(train['classe'], train['tipo-anel'], normalize='columns')\n",
    "tabela_tipo_anel*100"
   ]
  },
  {
   "cell_type": "markdown",
   "metadata": {},
   "source": [
    "#### Gráfico de Empilhamento"
   ]
  },
  {
   "cell_type": "code",
   "execution_count": 111,
   "metadata": {},
   "outputs": [
    {
     "data": {
      "image/png": "[encoded data removed]",
      "text/plain": [
       "<Figure size 432x288 with 1 Axes>"
      ]
     },
     "metadata": {
      "needs_background": "light"
     },
     "output_type": "display_data"
    }
   ],
   "source": [
    "plot = (100*tabela_tipo_anel).T.plot(kind='bar', stacked=True,color='green' 'red',title='Classe de Cogumelo por Tipo de Anel')\n",
    "plot.set_ylim([0, 100])\n",
    "plt.ylabel('Freq.Relativa (em%)')\n",
    "plt.legend(loc='center left', bbox_to_anchor=(1, 0.5))\n",
    "\n",
    "plt.show()"
   ]
  },
  {
   "cell_type": "markdown",
   "metadata": {},
   "source": [
    "#### Comentários"
   ]
  },
  {
   "cell_type": "markdown",
   "metadata": {},
   "source": [
    "Essa característica é relevante para a classificação, pois as probabilidades observadas são bem desiguais para cada tipo de anel. O único tipo de anel que não oferece uma boa segurança na tomada de decisão é o evanescente."
   ]
  },
  {
   "cell_type": "markdown",
   "metadata": {},
   "source": [
    "### Feature \"Cor da Impressão de Esporo\""
   ]
  },
  {
   "cell_type": "markdown",
   "metadata": {},
   "source": [
    "#### Tabela de Frequências Relativas"
   ]
  },
  {
   "cell_type": "code",
   "execution_count": 112,
   "metadata": {},
   "outputs": [
    {
     "data": {
      "text/html": [
       "<div>\n",
       "<style scoped>\n",
       "    .dataframe tbody tr th:only-of-type {\n",
       "        vertical-align: middle;\n",
       "    }\n",
       "\n",
       "    .dataframe tbody tr th {\n",
       "        vertical-align: top;\n",
       "    }\n",
       "\n",
       "    .dataframe thead th {\n",
       "        text-align: right;\n",
       "    }\n",
       "</style>\n",
       "<table border=\"1\" class=\"dataframe\">\n",
       "  <thead>\n",
       "    <tr style=\"text-align: right;\">\n",
       "      <th>cor-impressão-esporo</th>\n",
       "      <th>couro</th>\n",
       "      <th>chocolate</th>\n",
       "      <th>preto</th>\n",
       "      <th>marrom</th>\n",
       "      <th>laranja</th>\n",
       "      <th>verde</th>\n",
       "      <th>roxo</th>\n",
       "      <th>branco</th>\n",
       "      <th>amarelo</th>\n",
       "    </tr>\n",
       "    <tr>\n",
       "      <th>classe</th>\n",
       "      <th></th>\n",
       "      <th></th>\n",
       "      <th></th>\n",
       "      <th></th>\n",
       "      <th></th>\n",
       "      <th></th>\n",
       "      <th></th>\n",
       "      <th></th>\n",
       "      <th></th>\n",
       "    </tr>\n",
       "  </thead>\n",
       "  <tbody>\n",
       "    <tr>\n",
       "      <th>comestível</th>\n",
       "      <td>100.0</td>\n",
       "      <td>3.047776</td>\n",
       "      <td>87.951807</td>\n",
       "      <td>88.47185</td>\n",
       "      <td>100.0</td>\n",
       "      <td>0.0</td>\n",
       "      <td>100.0</td>\n",
       "      <td>25.028121</td>\n",
       "      <td>100.0</td>\n",
       "    </tr>\n",
       "    <tr>\n",
       "      <th>venenoso</th>\n",
       "      <td>0.0</td>\n",
       "      <td>96.952224</td>\n",
       "      <td>12.048193</td>\n",
       "      <td>11.52815</td>\n",
       "      <td>0.0</td>\n",
       "      <td>100.0</td>\n",
       "      <td>0.0</td>\n",
       "      <td>74.971879</td>\n",
       "      <td>0.0</td>\n",
       "    </tr>\n",
       "  </tbody>\n",
       "</table>\n",
       "</div>"
      ],
      "text/plain": [
       "cor-impressão-esporo  couro  chocolate      preto    marrom  laranja  verde  \\\n",
       "classe                                                                        \n",
       "comestível            100.0   3.047776  87.951807  88.47185    100.0    0.0   \n",
       "venenoso                0.0  96.952224  12.048193  11.52815      0.0  100.0   \n",
       "\n",
       "cor-impressão-esporo   roxo     branco  amarelo  \n",
       "classe                                           \n",
       "comestível            100.0  25.028121    100.0  \n",
       "venenoso                0.0  74.971879      0.0  "
      ]
     },
     "execution_count": 112,
     "metadata": {},
     "output_type": "execute_result"
    }
   ],
   "source": [
    "tabela_cor_impressao_esporo=pd.crosstab(train['classe'], train['cor-impressão-esporo'], normalize='columns')\n",
    "tabela_cor_impressao_esporo*100"
   ]
  },
  {
   "cell_type": "markdown",
   "metadata": {},
   "source": [
    "#### Gráfico de Empilhamento"
   ]
  },
  {
   "cell_type": "code",
   "execution_count": 113,
   "metadata": {},
   "outputs": [
    {
     "data": {
      "image/png": "[encoded data removed]",
      "text/plain": [
       "<Figure size 432x288 with 1 Axes>"
      ]
     },
     "metadata": {
      "needs_background": "light"
     },
     "output_type": "display_data"
    }
   ],
   "source": [
    "plot = (100*tabela_cor_impressao_esporo).T.plot(kind='bar', stacked=True,color='green' 'red',title='Classe de Cogumelo por Cor da Impressão de Esporo')\n",
    "plot.set_ylim([0, 100])\n",
    "plt.ylabel('Freq.Relativa (em%)')\n",
    "plt.legend(loc='center left', bbox_to_anchor=(1, 0.5))\n",
    "\n",
    "plt.show()"
   ]
  },
  {
   "cell_type": "markdown",
   "metadata": {},
   "source": [
    "#### Comentários"
   ]
  },
  {
   "cell_type": "markdown",
   "metadata": {},
   "source": [
    "A cor da impressão de esporo é uma característica relevante para a classificação de um cogumelo, pois, de acordo com a tabela cruzada e o gráfico, as probabilidades estão bem desiguais para cada cor."
   ]
  },
  {
   "cell_type": "markdown",
   "metadata": {},
   "source": [
    "### Feature \"População\""
   ]
  },
  {
   "cell_type": "markdown",
   "metadata": {},
   "source": [
    "<img src=img/cogumelo_populacao.jpg width=40%>"
   ]
  },
  {
   "cell_type": "markdown",
   "metadata": {},
   "source": [
    "#### Tabela de Frequências Relativas"
   ]
  },
  {
   "cell_type": "code",
   "execution_count": 114,
   "metadata": {},
   "outputs": [
    {
     "data": {
      "text/html": [
       "<div>\n",
       "<style scoped>\n",
       "    .dataframe tbody tr th:only-of-type {\n",
       "        vertical-align: middle;\n",
       "    }\n",
       "\n",
       "    .dataframe tbody tr th {\n",
       "        vertical-align: top;\n",
       "    }\n",
       "\n",
       "    .dataframe thead th {\n",
       "        text-align: right;\n",
       "    }\n",
       "</style>\n",
       "<table border=\"1\" class=\"dataframe\">\n",
       "  <thead>\n",
       "    <tr style=\"text-align: right;\">\n",
       "      <th>população</th>\n",
       "      <th>abundante</th>\n",
       "      <th>aglomerado</th>\n",
       "      <th>numeroso</th>\n",
       "      <th>espalhado</th>\n",
       "      <th>diverso</th>\n",
       "      <th>solitário</th>\n",
       "    </tr>\n",
       "    <tr>\n",
       "      <th>classe</th>\n",
       "      <th></th>\n",
       "      <th></th>\n",
       "      <th></th>\n",
       "      <th></th>\n",
       "      <th></th>\n",
       "      <th></th>\n",
       "    </tr>\n",
       "  </thead>\n",
       "  <tbody>\n",
       "    <tr>\n",
       "      <th>comestível</th>\n",
       "      <td>100.0</td>\n",
       "      <td>84.810127</td>\n",
       "      <td>100.0</td>\n",
       "      <td>69.935345</td>\n",
       "      <td>30.971129</td>\n",
       "      <td>61.971831</td>\n",
       "    </tr>\n",
       "    <tr>\n",
       "      <th>venenoso</th>\n",
       "      <td>0.0</td>\n",
       "      <td>15.189873</td>\n",
       "      <td>0.0</td>\n",
       "      <td>30.064655</td>\n",
       "      <td>69.028871</td>\n",
       "      <td>38.028169</td>\n",
       "    </tr>\n",
       "  </tbody>\n",
       "</table>\n",
       "</div>"
      ],
      "text/plain": [
       "população   abundante  aglomerado  numeroso  espalhado    diverso  solitário\n",
       "classe                                                                      \n",
       "comestível      100.0   84.810127     100.0  69.935345  30.971129  61.971831\n",
       "venenoso          0.0   15.189873       0.0  30.064655  69.028871  38.028169"
      ]
     },
     "execution_count": 114,
     "metadata": {},
     "output_type": "execute_result"
    }
   ],
   "source": [
    "tabela_populacao=pd.crosstab(train['classe'], train['população'], normalize='columns')\n",
    "tabela_populacao*100"
   ]
  },
  {
   "cell_type": "markdown",
   "metadata": {},
   "source": [
    "#### Gráfico de Empilhamento"
   ]
  },
  {
   "cell_type": "code",
   "execution_count": 115,
   "metadata": {},
   "outputs": [
    {
     "data": {
      "image/png": "[encoded data removed]",
      "text/plain": [
       "<Figure size 432x288 with 1 Axes>"
      ]
     },
     "metadata": {
      "needs_background": "light"
     },
     "output_type": "display_data"
    }
   ],
   "source": [
    "plot = (100*tabela_populacao).T.plot(kind='bar', stacked=True,color='green' 'red',title='Classe de Cogumelo por População')\n",
    "plot.set_ylim([0, 100])\n",
    "plt.ylabel('Freq.Relativa (em%)')\n",
    "plt.legend(loc='center left', bbox_to_anchor=(1, 0.5))\n",
    "\n",
    "plt.show()"
   ]
  },
  {
   "cell_type": "markdown",
   "metadata": {},
   "source": [
    "#### Comentários"
   ]
  },
  {
   "cell_type": "markdown",
   "metadata": {},
   "source": [
    "Essa característica ecológica, além de ser mais fácil de observar na natureza, aparenta ser relevante para a classificação. No entanto, se o tipo da população do cogumelo for espalhada, diversa ou solitária, não se pode afirmar com muita segurança sobre a comestibilidade do cogumelo."
   ]
  },
  {
   "cell_type": "markdown",
   "metadata": {},
   "source": [
    "### Feature \"Habitat\""
   ]
  },
  {
   "cell_type": "markdown",
   "metadata": {},
   "source": [
    "#### Tabela de Frequências Relativas"
   ]
  },
  {
   "cell_type": "code",
   "execution_count": 116,
   "metadata": {},
   "outputs": [
    {
     "data": {
      "text/html": [
       "<div>\n",
       "<style scoped>\n",
       "    .dataframe tbody tr th:only-of-type {\n",
       "        vertical-align: middle;\n",
       "    }\n",
       "\n",
       "    .dataframe tbody tr th {\n",
       "        vertical-align: top;\n",
       "    }\n",
       "\n",
       "    .dataframe thead th {\n",
       "        text-align: right;\n",
       "    }\n",
       "</style>\n",
       "<table border=\"1\" class=\"dataframe\">\n",
       "  <thead>\n",
       "    <tr style=\"text-align: right;\">\n",
       "      <th>habitat</th>\n",
       "      <th>madeira</th>\n",
       "      <th>gramínea</th>\n",
       "      <th>folha</th>\n",
       "      <th>pradaria</th>\n",
       "      <th>trilha</th>\n",
       "      <th>urbano</th>\n",
       "      <th>lixo</th>\n",
       "    </tr>\n",
       "    <tr>\n",
       "      <th>classe</th>\n",
       "      <th></th>\n",
       "      <th></th>\n",
       "      <th></th>\n",
       "      <th></th>\n",
       "      <th></th>\n",
       "      <th></th>\n",
       "      <th></th>\n",
       "    </tr>\n",
       "  </thead>\n",
       "  <tbody>\n",
       "    <tr>\n",
       "      <th>comestível</th>\n",
       "      <td>60.801688</td>\n",
       "      <td>65.292308</td>\n",
       "      <td>29.623568</td>\n",
       "      <td>88.288288</td>\n",
       "      <td>11.695906</td>\n",
       "      <td>26.642336</td>\n",
       "      <td>100.0</td>\n",
       "    </tr>\n",
       "    <tr>\n",
       "      <th>venenoso</th>\n",
       "      <td>39.198312</td>\n",
       "      <td>34.707692</td>\n",
       "      <td>70.376432</td>\n",
       "      <td>11.711712</td>\n",
       "      <td>88.304094</td>\n",
       "      <td>73.357664</td>\n",
       "      <td>0.0</td>\n",
       "    </tr>\n",
       "  </tbody>\n",
       "</table>\n",
       "</div>"
      ],
      "text/plain": [
       "habitat       madeira   gramínea      folha   pradaria     trilha     urbano  \\\n",
       "classe                                                                         \n",
       "comestível  60.801688  65.292308  29.623568  88.288288  11.695906  26.642336   \n",
       "venenoso    39.198312  34.707692  70.376432  11.711712  88.304094  73.357664   \n",
       "\n",
       "habitat      lixo  \n",
       "classe             \n",
       "comestível  100.0  \n",
       "venenoso      0.0  "
      ]
     },
     "execution_count": 116,
     "metadata": {},
     "output_type": "execute_result"
    }
   ],
   "source": [
    "tabela_habitat=pd.crosstab(train['classe'], train['habitat'], normalize='columns')\n",
    "tabela_habitat*100"
   ]
  },
  {
   "cell_type": "markdown",
   "metadata": {},
   "source": [
    "#### Gráfico de Empilhamento"
   ]
  },
  {
   "cell_type": "code",
   "execution_count": 117,
   "metadata": {},
   "outputs": [
    {
     "data": {
      "image/png": "[encoded data removed]",
      "text/plain": [
       "<Figure size 432x288 with 1 Axes>"
      ]
     },
     "metadata": {
      "needs_background": "light"
     },
     "output_type": "display_data"
    }
   ],
   "source": [
    "plot = (100*tabela_habitat).T.plot(kind='bar', stacked=True,color='green' 'red',title='Classe de Cogumelo por Habitat')\n",
    "plot.set_ylim([0, 100])\n",
    "plt.ylabel('Freq.Relativa (em%)')\n",
    "plt.legend(loc='center left', bbox_to_anchor=(1, 0.5))\n",
    "\n",
    "plt.show()"
   ]
  },
  {
   "cell_type": "markdown",
   "metadata": {},
   "source": [
    "#### Comentários"
   ]
  },
  {
   "cell_type": "markdown",
   "metadata": {},
   "source": [
    "O habitat do cogumelo pode ser um bom indicador de sua classe, dado que a maior parte dos habitats apresentam probabilidades bem desiguais entre as duas classes. Os habitats \"madeira\" e \"gramínea\" provavelmente são menos eficazes da determinação da comestibilidade de um cogumelo, dado que as probabilidades entre as duas classes possuem uma menor divergência."
   ]
  },
  {
   "cell_type": "markdown",
   "metadata": {},
   "source": [
    "## Resumo"
   ]
  },
  {
   "cell_type": "markdown",
   "metadata": {},
   "source": [
    "A análise exploratória permite perceber que algumas features provavelmente não serão relevantes para a classificação, enquanto outras sim. Isso pode ser interessante para compreender possíveis causalidades biológicas entre características morfológicas/ecológicas e a toxicidade de um cogumelos."
   ]
  },
  {
   "cell_type": "markdown",
   "metadata": {},
   "source": [
    "## Referências"
   ]
  },
  {
   "cell_type": "markdown",
   "metadata": {},
   "source": [
    "Artigos sobre a importância de classificar cogumelos para o avanço de estudos epidemiológicos."
   ]
  },
  {
   "cell_type": "markdown",
   "metadata": {},
   "source": [
    "Artigos utilizados para contextualizar o projeto:\n",
    "\n",
    "- https://journals.lww.com/ccmjournal/Fulltext/2005/02000/Evolving_global_epidemiology,_syndromic.20.aspx?casa_token=S8wpW-UV9YQAAAAA:euwbpD0rKCztYeKlI9rQ7js_X27GAaFBHdy27hRCkE3G2P12k068dV6rtpkWoDDHzN_uEY-1L5cJsR8Xg_1ZbCrrrFQKokQh\n",
    "\n",
    "- https://www.sciencedirect.com/science/article/pii/S0041010118307281?casa_token=XYjPj28rgNoAAAAA:BmRc1OwZ-DLQw56YwCwMasmcWK6YaLeJ8GcztbnhAY8w04vwArOW77fAcpu8dGoaBvE7njI1Xdo\n",
    "\n",
    "Arquivo do GitHub utilizado para entender como gerar gráficos de empilhamento:\n",
    "\n",
    "- https://github.com/Insper/cd19/blob/master/aula01_tutorial/TUTORIAL.ipynb\n",
    "\n",
    "Documentação sobre remoção de linhas com valores vazios:\n",
    "- https://pandas.pydata.org/pandas-docs/stable/reference/api/pandas.DataFrame.dropna.html"
   ]
  }
 ],
 "metadata": {
  "kernelspec": {
   "display_name": "Python 3",
   "language": "python",
   "name": "python3"
  },
  "language_info": {
   "codemirror_mode": {
    "name": "ipython",
    "version": 3
   },
   "file_extension": ".py",
   "mimetype": "text/x-python",
   "name": "python",
   "nbconvert_exporter": "python",
   "pygments_lexer": "ipython3",
   "version": "3.8.3"
  }
 },
 "nbformat": 4,
 "nbformat_minor": 4
}
