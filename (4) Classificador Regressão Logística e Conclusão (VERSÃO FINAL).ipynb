{
 "cells": [
  {
   "cell_type": "markdown",
   "metadata": {},
   "source": [
    "# Projeto 2 - Ciência dos Dados"
   ]
  },
  {
   "cell_type": "markdown",
   "metadata": {},
   "source": [
    "Grupo: Guilherme Ricchetti Carvalho, Keiya Nishio, Lucas Gabriel Mocellin Teixeira e Matheus Marques Venturi.\n",
    "\n",
    "\n",
    "Turma: C"
   ]
  },
  {
   "cell_type": "markdown",
   "metadata": {},
   "source": [
    "### Importando bibliotecas"
   ]
  },
  {
   "cell_type": "code",
   "execution_count": 1,
   "metadata": {},
   "outputs": [],
   "source": [
    "%matplotlib inline\n",
    "import pandas as pd\n",
    "import matplotlib.pyplot as plt\n",
    "import numpy as np\n",
    "import os\n",
    "from sklearn.model_selection import train_test_split"
   ]
  },
  {
   "cell_type": "markdown",
   "metadata": {},
   "source": [
    "# Proposta\n",
    "\n",
    "Classificar a comestibilidade (comestível ou venenoso) de um cogumelo com base em características morfológicas e ecológicas.\n",
    "\n",
    "Dataset disponível no seguinte link: https://www.kaggle.com/uciml/mushroom-classification\n",
    "\n",
    "**Obs**: este é o quarto notebook do projeto, e se propõe a explicar e aplicar a Regressão Logística."
   ]
  },
  {
   "cell_type": "code",
   "execution_count": 2,
   "metadata": {},
   "outputs": [
    {
     "name": "stdout",
     "output_type": "stream",
     "text": [
      "Encontrei o arquivo mushrooms.csv, tudo certo para prosseguir com o projeto!\n"
     ]
    }
   ],
   "source": [
    "import os\n",
    "\n",
    "filename = 'mushrooms.csv'\n",
    "if filename in os.listdir():\n",
    "    print(f'Encontrei o arquivo {filename}, tudo certo para prosseguir com o projeto!')\n",
    "else:\n",
    "    print(f'Não encontrei o arquivo {filename} aqui no diretório {os.getcwd()}, será que você não baixou o arquivo?')"
   ]
  },
  {
   "cell_type": "code",
   "execution_count": 3,
   "metadata": {},
   "outputs": [
    {
     "data": {
      "text/html": [
       "<div>\n",
       "<style scoped>\n",
       "    .dataframe tbody tr th:only-of-type {\n",
       "        vertical-align: middle;\n",
       "    }\n",
       "\n",
       "    .dataframe tbody tr th {\n",
       "        vertical-align: top;\n",
       "    }\n",
       "\n",
       "    .dataframe thead th {\n",
       "        text-align: right;\n",
       "    }\n",
       "</style>\n",
       "<table border=\"1\" class=\"dataframe\">\n",
       "  <thead>\n",
       "    <tr style=\"text-align: right;\">\n",
       "      <th></th>\n",
       "      <th>class</th>\n",
       "      <th>cap-shape</th>\n",
       "      <th>cap-surface</th>\n",
       "      <th>cap-color</th>\n",
       "      <th>bruises</th>\n",
       "      <th>odor</th>\n",
       "      <th>gill-attachment</th>\n",
       "      <th>gill-spacing</th>\n",
       "      <th>gill-size</th>\n",
       "      <th>gill-color</th>\n",
       "      <th>...</th>\n",
       "      <th>stalk-surface-below-ring</th>\n",
       "      <th>stalk-color-above-ring</th>\n",
       "      <th>stalk-color-below-ring</th>\n",
       "      <th>veil-type</th>\n",
       "      <th>veil-color</th>\n",
       "      <th>ring-number</th>\n",
       "      <th>ring-type</th>\n",
       "      <th>spore-print-color</th>\n",
       "      <th>population</th>\n",
       "      <th>habitat</th>\n",
       "    </tr>\n",
       "  </thead>\n",
       "  <tbody>\n",
       "    <tr>\n",
       "      <th>0</th>\n",
       "      <td>p</td>\n",
       "      <td>x</td>\n",
       "      <td>s</td>\n",
       "      <td>n</td>\n",
       "      <td>t</td>\n",
       "      <td>p</td>\n",
       "      <td>f</td>\n",
       "      <td>c</td>\n",
       "      <td>n</td>\n",
       "      <td>k</td>\n",
       "      <td>...</td>\n",
       "      <td>s</td>\n",
       "      <td>w</td>\n",
       "      <td>w</td>\n",
       "      <td>p</td>\n",
       "      <td>w</td>\n",
       "      <td>o</td>\n",
       "      <td>p</td>\n",
       "      <td>k</td>\n",
       "      <td>s</td>\n",
       "      <td>u</td>\n",
       "    </tr>\n",
       "    <tr>\n",
       "      <th>1</th>\n",
       "      <td>e</td>\n",
       "      <td>x</td>\n",
       "      <td>s</td>\n",
       "      <td>y</td>\n",
       "      <td>t</td>\n",
       "      <td>a</td>\n",
       "      <td>f</td>\n",
       "      <td>c</td>\n",
       "      <td>b</td>\n",
       "      <td>k</td>\n",
       "      <td>...</td>\n",
       "      <td>s</td>\n",
       "      <td>w</td>\n",
       "      <td>w</td>\n",
       "      <td>p</td>\n",
       "      <td>w</td>\n",
       "      <td>o</td>\n",
       "      <td>p</td>\n",
       "      <td>n</td>\n",
       "      <td>n</td>\n",
       "      <td>g</td>\n",
       "    </tr>\n",
       "    <tr>\n",
       "      <th>2</th>\n",
       "      <td>e</td>\n",
       "      <td>b</td>\n",
       "      <td>s</td>\n",
       "      <td>w</td>\n",
       "      <td>t</td>\n",
       "      <td>l</td>\n",
       "      <td>f</td>\n",
       "      <td>c</td>\n",
       "      <td>b</td>\n",
       "      <td>n</td>\n",
       "      <td>...</td>\n",
       "      <td>s</td>\n",
       "      <td>w</td>\n",
       "      <td>w</td>\n",
       "      <td>p</td>\n",
       "      <td>w</td>\n",
       "      <td>o</td>\n",
       "      <td>p</td>\n",
       "      <td>n</td>\n",
       "      <td>n</td>\n",
       "      <td>m</td>\n",
       "    </tr>\n",
       "    <tr>\n",
       "      <th>3</th>\n",
       "      <td>p</td>\n",
       "      <td>x</td>\n",
       "      <td>y</td>\n",
       "      <td>w</td>\n",
       "      <td>t</td>\n",
       "      <td>p</td>\n",
       "      <td>f</td>\n",
       "      <td>c</td>\n",
       "      <td>n</td>\n",
       "      <td>n</td>\n",
       "      <td>...</td>\n",
       "      <td>s</td>\n",
       "      <td>w</td>\n",
       "      <td>w</td>\n",
       "      <td>p</td>\n",
       "      <td>w</td>\n",
       "      <td>o</td>\n",
       "      <td>p</td>\n",
       "      <td>k</td>\n",
       "      <td>s</td>\n",
       "      <td>u</td>\n",
       "    </tr>\n",
       "    <tr>\n",
       "      <th>4</th>\n",
       "      <td>e</td>\n",
       "      <td>x</td>\n",
       "      <td>s</td>\n",
       "      <td>g</td>\n",
       "      <td>f</td>\n",
       "      <td>n</td>\n",
       "      <td>f</td>\n",
       "      <td>w</td>\n",
       "      <td>b</td>\n",
       "      <td>k</td>\n",
       "      <td>...</td>\n",
       "      <td>s</td>\n",
       "      <td>w</td>\n",
       "      <td>w</td>\n",
       "      <td>p</td>\n",
       "      <td>w</td>\n",
       "      <td>o</td>\n",
       "      <td>e</td>\n",
       "      <td>n</td>\n",
       "      <td>a</td>\n",
       "      <td>g</td>\n",
       "    </tr>\n",
       "  </tbody>\n",
       "</table>\n",
       "<p>5 rows × 23 columns</p>\n",
       "</div>"
      ],
      "text/plain": [
       "  class cap-shape cap-surface cap-color bruises odor gill-attachment  \\\n",
       "0     p         x           s         n       t    p               f   \n",
       "1     e         x           s         y       t    a               f   \n",
       "2     e         b           s         w       t    l               f   \n",
       "3     p         x           y         w       t    p               f   \n",
       "4     e         x           s         g       f    n               f   \n",
       "\n",
       "  gill-spacing gill-size gill-color  ... stalk-surface-below-ring  \\\n",
       "0            c         n          k  ...                        s   \n",
       "1            c         b          k  ...                        s   \n",
       "2            c         b          n  ...                        s   \n",
       "3            c         n          n  ...                        s   \n",
       "4            w         b          k  ...                        s   \n",
       "\n",
       "  stalk-color-above-ring stalk-color-below-ring veil-type veil-color  \\\n",
       "0                      w                      w         p          w   \n",
       "1                      w                      w         p          w   \n",
       "2                      w                      w         p          w   \n",
       "3                      w                      w         p          w   \n",
       "4                      w                      w         p          w   \n",
       "\n",
       "  ring-number ring-type spore-print-color population habitat  \n",
       "0           o         p                 k          s       u  \n",
       "1           o         p                 n          n       g  \n",
       "2           o         p                 n          n       m  \n",
       "3           o         p                 k          s       u  \n",
       "4           o         e                 n          a       g  \n",
       "\n",
       "[5 rows x 23 columns]"
      ]
     },
     "execution_count": 3,
     "metadata": {},
     "output_type": "execute_result"
    }
   ],
   "source": [
    "dataset=pd.read_csv(filename)\n",
    "dataset.head(5)"
   ]
  },
  {
   "cell_type": "code",
   "execution_count": 4,
   "metadata": {},
   "outputs": [],
   "source": [
    "#dataset=dataset.dropna()  # Remover linhas com colunas vazias (NaN)  -- não precisou"
   ]
  },
  {
   "cell_type": "markdown",
   "metadata": {},
   "source": [
    "### Tradução do dataset para português"
   ]
  },
  {
   "cell_type": "markdown",
   "metadata": {},
   "source": [
    "Nas próximas duas células, foi feita uma adaptação do dataset para a língua portuguesa, de modo a permitir uma melhor interpretação dos dados."
   ]
  },
  {
   "cell_type": "code",
   "execution_count": 5,
   "metadata": {},
   "outputs": [],
   "source": [
    "dataset = dataset.rename(columns = \n",
    "                     {'class': 'classe',\n",
    "                      'cap-shape': 'formato-chapéu', \n",
    "                      'cap-surface': 'superfície-chapéu',\n",
    "                      'cap-color': 'cor-chapéu',\n",
    "                      'bruises': 'hematomas',\n",
    "                      'odor': 'odor',\n",
    "                      'gill-attachment': 'ligação-lamela',\n",
    "                      'gill-spacing': 'espaçamento-lamela',\n",
    "                      'gill-size': 'tamanho-lamela',\n",
    "                      'gill-color': 'cor-lamela',\n",
    "                      'stalk-shape': 'formato-estipe',\n",
    "                      'stalk-root': 'raiz-estipe',\n",
    "                      'stalk-surface-above-ring': 'superfície-estipe-sobre-anel',\n",
    "                      'stalk-surface-below-ring': 'superfície-estipe-sob-anel',\n",
    "                      'stalk-color-above-ring': 'cor-estipe-sobre-anel',\n",
    "                      'stalk-color-below-ring': 'cor-estipe-sob-anel',\n",
    "                      'veil-type': 'tipo-volva',\n",
    "                      'veil-color': 'cor-volva',\n",
    "                      'ring-number': 'quantidade-anéis',\n",
    "                      'ring-type': 'tipo-anel',\n",
    "                      'spore-print-color': 'cor-impressão-esporo',\n",
    "                      'population': 'população',\n",
    "                      'habitat': 'habitat'}, inplace = False)"
   ]
  },
  {
   "cell_type": "code",
   "execution_count": 6,
   "metadata": {},
   "outputs": [],
   "source": [
    "dataset['classe']=dataset['classe'].astype('category')\n",
    "dataset['classe'].cat.categories = ['comestível', 'venenoso']\n",
    "\n",
    "dataset['formato-chapéu']=dataset['formato-chapéu'].astype('category')\n",
    "dataset['formato-chapéu'].cat.categories = ['sino', 'cone', 'reto', 'nodoso', 'afundado', 'convexo']\n",
    "\n",
    "dataset['superfície-chapéu']=dataset['superfície-chapéu'].astype('category')\n",
    "dataset['superfície-chapéu'].cat.categories = ['fibroso', 'ranhuras', 'liso', 'escamoso']\n",
    " \n",
    "dataset['cor-chapéu']=dataset['cor-chapéu'].astype('category')\n",
    "dataset['cor-chapéu'].cat.categories = ['couro', 'canela', 'vermelho', 'cinza', 'marrom', 'rosa', 'verde', 'roxo', 'branco', 'amarelo']\n",
    "\n",
    "dataset['hematomas']=dataset['hematomas'].astype('category')\n",
    "dataset['hematomas'].cat.categories = ['não tem' , 'tem']\n",
    "\n",
    "dataset['odor']=dataset['odor'].astype('category')\n",
    "dataset['odor'].cat.categories = ['amêndoa', 'creosote', 'podre', 'anis', 'mofado', 'nenhum', 'pungente', 'picante', 'peixe']\n",
    "\n",
    "dataset['ligação-lamela']=dataset['ligação-lamela'].astype('category')\n",
    "dataset['ligação-lamela'].cat.categories = ['conectada', 'solta']\n",
    "\n",
    "dataset['espaçamento-lamela']=dataset['espaçamento-lamela'].astype('category')\n",
    "dataset['espaçamento-lamela'].cat.categories = ['perto', 'lotado']\n",
    "\n",
    "dataset['tamanho-lamela']=dataset['tamanho-lamela'].astype('category')\n",
    "dataset['tamanho-lamela'].cat.categories = ['ampla', 'estreita']\n",
    "\n",
    "dataset['cor-lamela']=dataset['cor-lamela'].astype('category')\n",
    "dataset['cor-lamela'].cat.categories = ['couro', 'vermelha', 'cinza', 'chocolate', 'preta', 'marrom', 'laranja', 'rosa', 'verde', 'roxa', 'branca', 'amarelo']\n",
    "\n",
    "dataset['formato-estipe']=dataset['formato-estipe'].astype('category')\n",
    "dataset['formato-estipe'].cat.categories = ['alargando', 'afunilando']\n",
    "    \n",
    "dataset['raiz-estipe']=dataset['raiz-estipe'].astype('category')\n",
    "dataset['raiz-estipe'].cat.categories = ['não tem', 'bulboso', 'clava', 'reto', 'enraizado']\n",
    "\n",
    "dataset['superfície-estipe-sobre-anel']=dataset['superfície-estipe-sobre-anel'].astype('category')\n",
    "dataset['superfície-estipe-sobre-anel'].cat.categories = ['fibroso', 'sedoso', 'liso', 'escamoso']\n",
    "\n",
    "dataset['superfície-estipe-sob-anel']=dataset['superfície-estipe-sob-anel'].astype('category')\n",
    "dataset['superfície-estipe-sob-anel'].cat.categories = ['fibroso', 'sedoso', 'liso', 'escamoso']\n",
    "\n",
    "dataset['cor-estipe-sobre-anel']=dataset['cor-estipe-sobre-anel'].astype('category')\n",
    "dataset['cor-estipe-sobre-anel'].cat.categories = ['couro', 'canela', 'vermelho', 'cinza', 'marrom', 'laranja', 'rosa', 'branco', 'amarelo']\n",
    "\n",
    "dataset['cor-estipe-sob-anel']=dataset['cor-estipe-sob-anel'].astype('category')\n",
    "dataset['cor-estipe-sob-anel']. cat.categories = ['couro', 'canela', 'vermelho', 'cinza', 'marrom', 'laranja', 'rosa', 'branco', 'amarelo']\n",
    "\n",
    "dataset['tipo-volva']=dataset['tipo-volva'].astype('category')\n",
    "dataset['tipo-volva'].cat.categories = ['parcial']\n",
    "\n",
    "dataset['cor-volva']=dataset['cor-volva'].astype('category')\n",
    "dataset['cor-volva'].cat.categories = ['marrom' , 'laranja', 'branco', 'amarelo']\n",
    "\n",
    "dataset['quantidade-anéis']=dataset['quantidade-anéis'].astype('category')\n",
    "dataset['quantidade-anéis'].cat.categories = ['nenhum' , 'um', 'dois']\n",
    "\n",
    "dataset['tipo-anel']=dataset['tipo-anel'].astype('category')\n",
    "dataset['tipo-anel'].cat.categories = ['evanescente', 'deslumbrante', 'grande', 'nenhum', 'pingente']\n",
    "\n",
    "dataset['cor-impressão-esporo']=dataset['cor-impressão-esporo'].astype('category')\n",
    "dataset['cor-impressão-esporo'].cat.categories = ['couro', 'chocolate', 'preto', 'marrom', 'laranja', 'verde', 'roxo', 'branco', 'amarelo']\n",
    "\n",
    "dataset['população']=dataset['população'].astype('category')\n",
    "dataset['população'].cat.categories=['abundante', 'aglomerado', 'numeroso', 'espalhado', 'diverso', 'solitário']\n",
    "\n",
    "dataset['habitat']=dataset['habitat'].astype('category')\n",
    "dataset['habitat'].cat.categories=['madeira', 'gramínea', 'folha', 'pradaria', 'trilha', 'urbano', 'lixo']"
   ]
  },
  {
   "cell_type": "markdown",
   "metadata": {},
   "source": [
    "Para poder aferir a performance do classificador, é necessário separar a base de dados em duas: treinamento e teste. Essa separação foi feita numa proporção de 3:1, ou seja, 25% Teste e 75% Treinamento.\n",
    "\n",
    "Obs.: o atributo random_state deve ser igualado a 1 para impedir que, a cada vez que o código é rodado, seja feita uma divisão entre Treinamento e Teste diferente. Isso garante que o classificador também seja sempre o mesmo."
   ]
  },
  {
   "cell_type": "code",
   "execution_count": 7,
   "metadata": {},
   "outputs": [],
   "source": [
    "train, test = train_test_split(dataset, test_size=0.25, random_state=1)  # separar dataset em treinamento e teste"
   ]
  },
  {
   "cell_type": "markdown",
   "metadata": {},
   "source": [
    "# Classificador Regressão Logística"
   ]
  },
  {
   "cell_type": "markdown",
   "metadata": {},
   "source": [
    "Esta seção é destinada à aplicação do modelo de classificação Regressao Logistica.\n",
    "Esse modelo utiliza a base treinamento (separada a partir do dataset) para prever a classe de um dado cogumelo.\n",
    "\n",
    "**Motivação**: esse modelo de regressão será utilizado para variar um pouco os métodos de classificação. Diferentemente das árvores de decisão, a regressão log;istica se baseia em métodos bastante diferentes, tendo uma interseção maior com inferência estatística e possibilitando uma melhor análise de sua performance."
   ]
  },
  {
   "cell_type": "markdown",
   "metadata": {},
   "source": [
    "### Funcionamento do Classificador"
   ]
  },
  {
   "cell_type": "markdown",
   "metadata": {},
   "source": [
    "Como os outros classificadores, a regressão logística serve para classificar dados observados com base em algumas características (features). Esse método de classificação utiliza apenas as features relevantes, a quais também devem ser independentes entre si.\n",
    "\n",
    "A regressão logística, dfierente da linear, faz uma classificação binária (0 e 1), o que se encaixa na proposta de classificação dos cogumelos. O confinamento das previsões em 0 e 1 é possível pois o gráfico da classificação em função da probabilidade é em formato de S, conforme a figura abaixo: \n",
    "\n",
    "<img src=img/grafico_S_1.png width=40%>\n",
    "\n",
    "Diferente de uma regressão linear, que prevê um valor de saída para o modelo, a regressão logística prevê os \"log-odds\" do nosso Y. Os \"log-odds\" são calculados por meio da divisão da probabilidade de um evento (chamado de \"p\") por seu complemento (1 - p). Por fim, retira-se o logaritmo natural (\"ln\") dessa divisão. O que tornam os \"log-odds\" diferentes é que, dissemelhante a probabilidades e valores discretos de uma variável dicotômica, eles são medidos em uma escala contínua.\n",
    " \n",
    "<img src=img/formula_p.jpeg width=20%>\n",
    "\n",
    "Na fórmula acima, está sendo feita a conversão de \"log-odds\" para uma probabilidade. Onde o número de euler está elevado ao resultado de nossos \"log-odds\" (alpha representa o intercepto, e beta, o peso da regressão). Assim, ao plotar o gráfico, consegue-se a linha curva (em formato de \"S\") que fica parcialmente confinada aos valores 1 e 0.\n",
    "\n",
    "<img src=img/grafico_S.jpeg width=40%>\n",
    "\n",
    "Neste gráfico, pode-se notar que, para valores de X maiores que 1.95, a probabilidade prevista para Y é maior que 0.5, e assim, classificados como 1 (e menores que 1,95 serão classificados 0).\n",
    "\n",
    "A divisão do gráfico em 4 setores serve para representar as previsões corretas (verdadeiros positivos e verdadeiros negativos) e as incorretas (falsos positivos e falsos negativos). Essa divisião é feita com base na probabilidade de P(Y=1) = 0.5, que é o pico de indecisão. Traça-se, então, uma linha horizontal cruzando o 0.5 e uma vertical que cruze a curva S."
   ]
  },
  {
   "cell_type": "markdown",
   "metadata": {},
   "source": [
    "### Vantagens e Desvantagens"
   ]
  },
  {
   "cell_type": "markdown",
   "metadata": {},
   "source": [
    "**Vantagens**: a regressão logística permite uma previsão com base em probabilidades obtidas por meio da análise de diversas variáveis. Ela também permite uma análise estatística mais completa, com teste de hipóteses por coeficientes e valor-p e análise de relevância de cada variável.\n",
    "\n",
    "**Desvantagens**: é uma técnica mais complexa e com bastante detalhes, sendo um potencial empecilho para a compreensão aprodundada da classificação."
   ]
  },
  {
   "cell_type": "markdown",
   "metadata": {},
   "source": [
    "### Aplicação da Regressão com SciKit Learn"
   ]
  },
  {
   "cell_type": "markdown",
   "metadata": {},
   "source": [
    "Nesta seção, será devidamente aplicada a Regressão Logística. Ao longo da aplicação, serão explicadas as razões por trás de cada código, bem como o funcionamento da biblioteca sklearn.tree, utilizada para fazer o modelo."
   ]
  },
  {
   "cell_type": "markdown",
   "metadata": {},
   "source": [
    "### Preparando os dados de treinamento:"
   ]
  },
  {
   "cell_type": "markdown",
   "metadata": {},
   "source": [
    "Assim como nos Notebooks anteriores, é preciso preparar os dados, transformando-os em dummies e separando a base de treinamento de target (Y) e features (X). O processo é igual ao realizado nos notebook 2 e 3."
   ]
  },
  {
   "cell_type": "code",
   "execution_count": 8,
   "metadata": {},
   "outputs": [],
   "source": [
    "colunas_feature = list(train.columns)\n",
    "colunas_feature.remove('classe')"
   ]
  },
  {
   "cell_type": "code",
   "execution_count": 9,
   "metadata": {},
   "outputs": [
    {
     "data": {
      "text/html": [
       "<div>\n",
       "<style scoped>\n",
       "    .dataframe tbody tr th:only-of-type {\n",
       "        vertical-align: middle;\n",
       "    }\n",
       "\n",
       "    .dataframe tbody tr th {\n",
       "        vertical-align: top;\n",
       "    }\n",
       "\n",
       "    .dataframe thead th {\n",
       "        text-align: right;\n",
       "    }\n",
       "</style>\n",
       "<table border=\"1\" class=\"dataframe\">\n",
       "  <thead>\n",
       "    <tr style=\"text-align: right;\">\n",
       "      <th></th>\n",
       "      <th>formato-chapéu_sino</th>\n",
       "      <th>formato-chapéu_cone</th>\n",
       "      <th>formato-chapéu_reto</th>\n",
       "      <th>formato-chapéu_nodoso</th>\n",
       "      <th>formato-chapéu_afundado</th>\n",
       "      <th>formato-chapéu_convexo</th>\n",
       "      <th>superfície-chapéu_fibroso</th>\n",
       "      <th>superfície-chapéu_ranhuras</th>\n",
       "      <th>superfície-chapéu_liso</th>\n",
       "      <th>superfície-chapéu_escamoso</th>\n",
       "      <th>...</th>\n",
       "      <th>população_espalhado</th>\n",
       "      <th>população_diverso</th>\n",
       "      <th>população_solitário</th>\n",
       "      <th>habitat_madeira</th>\n",
       "      <th>habitat_gramínea</th>\n",
       "      <th>habitat_folha</th>\n",
       "      <th>habitat_pradaria</th>\n",
       "      <th>habitat_trilha</th>\n",
       "      <th>habitat_urbano</th>\n",
       "      <th>habitat_lixo</th>\n",
       "    </tr>\n",
       "  </thead>\n",
       "  <tbody>\n",
       "    <tr>\n",
       "      <th>6253</th>\n",
       "      <td>0</td>\n",
       "      <td>0</td>\n",
       "      <td>0</td>\n",
       "      <td>0</td>\n",
       "      <td>0</td>\n",
       "      <td>1</td>\n",
       "      <td>0</td>\n",
       "      <td>0</td>\n",
       "      <td>0</td>\n",
       "      <td>1</td>\n",
       "      <td>...</td>\n",
       "      <td>0</td>\n",
       "      <td>1</td>\n",
       "      <td>0</td>\n",
       "      <td>0</td>\n",
       "      <td>0</td>\n",
       "      <td>0</td>\n",
       "      <td>0</td>\n",
       "      <td>1</td>\n",
       "      <td>0</td>\n",
       "      <td>0</td>\n",
       "    </tr>\n",
       "    <tr>\n",
       "      <th>2739</th>\n",
       "      <td>0</td>\n",
       "      <td>0</td>\n",
       "      <td>0</td>\n",
       "      <td>0</td>\n",
       "      <td>0</td>\n",
       "      <td>1</td>\n",
       "      <td>0</td>\n",
       "      <td>0</td>\n",
       "      <td>0</td>\n",
       "      <td>1</td>\n",
       "      <td>...</td>\n",
       "      <td>0</td>\n",
       "      <td>0</td>\n",
       "      <td>1</td>\n",
       "      <td>1</td>\n",
       "      <td>0</td>\n",
       "      <td>0</td>\n",
       "      <td>0</td>\n",
       "      <td>0</td>\n",
       "      <td>0</td>\n",
       "      <td>0</td>\n",
       "    </tr>\n",
       "    <tr>\n",
       "      <th>7436</th>\n",
       "      <td>0</td>\n",
       "      <td>0</td>\n",
       "      <td>0</td>\n",
       "      <td>1</td>\n",
       "      <td>0</td>\n",
       "      <td>0</td>\n",
       "      <td>0</td>\n",
       "      <td>0</td>\n",
       "      <td>1</td>\n",
       "      <td>0</td>\n",
       "      <td>...</td>\n",
       "      <td>0</td>\n",
       "      <td>1</td>\n",
       "      <td>0</td>\n",
       "      <td>0</td>\n",
       "      <td>0</td>\n",
       "      <td>1</td>\n",
       "      <td>0</td>\n",
       "      <td>0</td>\n",
       "      <td>0</td>\n",
       "      <td>0</td>\n",
       "    </tr>\n",
       "  </tbody>\n",
       "</table>\n",
       "<p>3 rows × 117 columns</p>\n",
       "</div>"
      ],
      "text/plain": [
       "      formato-chapéu_sino  formato-chapéu_cone  formato-chapéu_reto  \\\n",
       "6253                    0                    0                    0   \n",
       "2739                    0                    0                    0   \n",
       "7436                    0                    0                    0   \n",
       "\n",
       "      formato-chapéu_nodoso  formato-chapéu_afundado  formato-chapéu_convexo  \\\n",
       "6253                      0                        0                       1   \n",
       "2739                      0                        0                       1   \n",
       "7436                      1                        0                       0   \n",
       "\n",
       "      superfície-chapéu_fibroso  superfície-chapéu_ranhuras  \\\n",
       "6253                          0                           0   \n",
       "2739                          0                           0   \n",
       "7436                          0                           0   \n",
       "\n",
       "      superfície-chapéu_liso  superfície-chapéu_escamoso  ...  \\\n",
       "6253                       0                           1  ...   \n",
       "2739                       0                           1  ...   \n",
       "7436                       1                           0  ...   \n",
       "\n",
       "      população_espalhado  população_diverso  população_solitário  \\\n",
       "6253                    0                  1                    0   \n",
       "2739                    0                  0                    1   \n",
       "7436                    0                  1                    0   \n",
       "\n",
       "      habitat_madeira  habitat_gramínea  habitat_folha  habitat_pradaria  \\\n",
       "6253                0                 0              0                 0   \n",
       "2739                1                 0              0                 0   \n",
       "7436                0                 0              1                 0   \n",
       "\n",
       "      habitat_trilha  habitat_urbano  habitat_lixo  \n",
       "6253               1               0             0  \n",
       "2739               0               0             0  \n",
       "7436               0               0             0  \n",
       "\n",
       "[3 rows x 117 columns]"
      ]
     },
     "execution_count": 9,
     "metadata": {},
     "output_type": "execute_result"
    }
   ],
   "source": [
    "X = train.loc[:, colunas_feature]\n",
    "X = pd.get_dummies(X)\n",
    "X.head(3)"
   ]
  },
  {
   "cell_type": "code",
   "execution_count": 10,
   "metadata": {},
   "outputs": [
    {
     "name": "stderr",
     "output_type": "stream",
     "text": [
      "C:\\ProgramData\\Anaconda3\\lib\\site-packages\\pandas\\core\\indexing.py:845: SettingWithCopyWarning: \n",
      "A value is trying to be set on a copy of a slice from a DataFrame.\n",
      "Try using .loc[row_indexer,col_indexer] = value instead\n",
      "\n",
      "See the caveats in the documentation: https://pandas.pydata.org/pandas-docs/stable/user_guide/indexing.html#returning-a-view-versus-a-copy\n",
      "  self.obj[key] = _infer_fill_value(value)\n",
      "C:\\ProgramData\\Anaconda3\\lib\\site-packages\\pandas\\core\\indexing.py:966: SettingWithCopyWarning: \n",
      "A value is trying to be set on a copy of a slice from a DataFrame.\n",
      "Try using .loc[row_indexer,col_indexer] = value instead\n",
      "\n",
      "See the caveats in the documentation: https://pandas.pydata.org/pandas-docs/stable/user_guide/indexing.html#returning-a-view-versus-a-copy\n",
      "  self.obj[item] = s\n"
     ]
    },
    {
     "data": {
      "text/plain": [
       "6253    1.0\n",
       "2739    0.0\n",
       "7436    1.0\n",
       "Name: y, dtype: float64"
      ]
     },
     "execution_count": 10,
     "metadata": {},
     "output_type": "execute_result"
    }
   ],
   "source": [
    "train.loc[train['classe']=='venenoso', 'y'] = 1\n",
    "train.loc[train['classe']=='comestível', 'y'] = 0\n",
    "y=train.loc[:, 'y']\n",
    "y.head(3)"
   ]
  },
  {
   "cell_type": "markdown",
   "metadata": {},
   "source": [
    "### Criando o modelo:\n",
    "\n",
    "Com os dados devidamente preparados, é possível aplicar a Regressão Logística. Para isso, basta importar as bibliotecas do SciKit Learn necessárias e aplicar o código \"fit\" nas variáveis X (features) e y (target) preparadas no item anterior.\n",
    "\n",
    "Vale ressaltar que, para o atributo \"random_state\" do código abaixo, foi dado o valor 1 de modo a impedir que os coeficientes das features, determinados pela regressão logística, variem cada vez que o código seja rodado."
   ]
  },
  {
   "cell_type": "code",
   "execution_count": 11,
   "metadata": {},
   "outputs": [],
   "source": [
    "from sklearn.linear_model import LogisticRegression\n",
    "\n",
    "clf = LogisticRegression(random_state=1).fit(X, y)"
   ]
  },
  {
   "cell_type": "markdown",
   "metadata": {},
   "source": [
    "## Testando a performance do modelo"
   ]
  },
  {
   "cell_type": "markdown",
   "metadata": {},
   "source": [
    "Novamente, não basta apenas o classificador funcionando, é preciso avaliar sua acurácia. Para isso, serão utilizados métodos semelhantes aos utilizados no notebook anterior e mais um adicional, específico para esse tipo de regressão."
   ]
  },
  {
   "cell_type": "markdown",
   "metadata": {},
   "source": [
    "#### Teste de Underfitting"
   ]
  },
  {
   "cell_type": "code",
   "execution_count": 12,
   "metadata": {},
   "outputs": [
    {
     "name": "stdout",
     "output_type": "stream",
     "text": [
      "O score do classificador quando aplicado à própria base de treinamento é de 99.98358772361726%. Logo, não há underfitting.\n"
     ]
    }
   ],
   "source": [
    "score_treinamento=clf.score(X, y)\n",
    "print('O score do classificador quando aplicado à própria base de treinamento é de {}%. Logo, não há underfitting.'.format(score_treinamento*100))"
   ]
  },
  {
   "cell_type": "markdown",
   "metadata": {},
   "source": [
    "#### Teste de Overfitting"
   ]
  },
  {
   "cell_type": "markdown",
   "metadata": {},
   "source": [
    "Será preciso preparar a base de testes da mesma forma que a base de treinamento, ou seja: transformar variáveis em dummies e separarar a base em X e Y."
   ]
  },
  {
   "cell_type": "code",
   "execution_count": 13,
   "metadata": {},
   "outputs": [
    {
     "data": {
      "text/html": [
       "<div>\n",
       "<style scoped>\n",
       "    .dataframe tbody tr th:only-of-type {\n",
       "        vertical-align: middle;\n",
       "    }\n",
       "\n",
       "    .dataframe tbody tr th {\n",
       "        vertical-align: top;\n",
       "    }\n",
       "\n",
       "    .dataframe thead th {\n",
       "        text-align: right;\n",
       "    }\n",
       "</style>\n",
       "<table border=\"1\" class=\"dataframe\">\n",
       "  <thead>\n",
       "    <tr style=\"text-align: right;\">\n",
       "      <th></th>\n",
       "      <th>formato-chapéu_sino</th>\n",
       "      <th>formato-chapéu_cone</th>\n",
       "      <th>formato-chapéu_reto</th>\n",
       "      <th>formato-chapéu_nodoso</th>\n",
       "      <th>formato-chapéu_afundado</th>\n",
       "      <th>formato-chapéu_convexo</th>\n",
       "      <th>superfície-chapéu_fibroso</th>\n",
       "      <th>superfície-chapéu_ranhuras</th>\n",
       "      <th>superfície-chapéu_liso</th>\n",
       "      <th>superfície-chapéu_escamoso</th>\n",
       "      <th>...</th>\n",
       "      <th>população_espalhado</th>\n",
       "      <th>população_diverso</th>\n",
       "      <th>população_solitário</th>\n",
       "      <th>habitat_madeira</th>\n",
       "      <th>habitat_gramínea</th>\n",
       "      <th>habitat_folha</th>\n",
       "      <th>habitat_pradaria</th>\n",
       "      <th>habitat_trilha</th>\n",
       "      <th>habitat_urbano</th>\n",
       "      <th>habitat_lixo</th>\n",
       "    </tr>\n",
       "  </thead>\n",
       "  <tbody>\n",
       "    <tr>\n",
       "      <th>1392</th>\n",
       "      <td>0</td>\n",
       "      <td>0</td>\n",
       "      <td>1</td>\n",
       "      <td>0</td>\n",
       "      <td>0</td>\n",
       "      <td>0</td>\n",
       "      <td>0</td>\n",
       "      <td>0</td>\n",
       "      <td>1</td>\n",
       "      <td>0</td>\n",
       "      <td>...</td>\n",
       "      <td>0</td>\n",
       "      <td>0</td>\n",
       "      <td>0</td>\n",
       "      <td>0</td>\n",
       "      <td>1</td>\n",
       "      <td>0</td>\n",
       "      <td>0</td>\n",
       "      <td>0</td>\n",
       "      <td>0</td>\n",
       "      <td>0</td>\n",
       "    </tr>\n",
       "    <tr>\n",
       "      <th>4051</th>\n",
       "      <td>0</td>\n",
       "      <td>0</td>\n",
       "      <td>0</td>\n",
       "      <td>0</td>\n",
       "      <td>0</td>\n",
       "      <td>1</td>\n",
       "      <td>1</td>\n",
       "      <td>0</td>\n",
       "      <td>0</td>\n",
       "      <td>0</td>\n",
       "      <td>...</td>\n",
       "      <td>0</td>\n",
       "      <td>1</td>\n",
       "      <td>0</td>\n",
       "      <td>1</td>\n",
       "      <td>0</td>\n",
       "      <td>0</td>\n",
       "      <td>0</td>\n",
       "      <td>0</td>\n",
       "      <td>0</td>\n",
       "      <td>0</td>\n",
       "    </tr>\n",
       "    <tr>\n",
       "      <th>3725</th>\n",
       "      <td>0</td>\n",
       "      <td>0</td>\n",
       "      <td>0</td>\n",
       "      <td>0</td>\n",
       "      <td>0</td>\n",
       "      <td>1</td>\n",
       "      <td>0</td>\n",
       "      <td>0</td>\n",
       "      <td>1</td>\n",
       "      <td>0</td>\n",
       "      <td>...</td>\n",
       "      <td>0</td>\n",
       "      <td>1</td>\n",
       "      <td>0</td>\n",
       "      <td>1</td>\n",
       "      <td>0</td>\n",
       "      <td>0</td>\n",
       "      <td>0</td>\n",
       "      <td>0</td>\n",
       "      <td>0</td>\n",
       "      <td>0</td>\n",
       "    </tr>\n",
       "  </tbody>\n",
       "</table>\n",
       "<p>3 rows × 117 columns</p>\n",
       "</div>"
      ],
      "text/plain": [
       "      formato-chapéu_sino  formato-chapéu_cone  formato-chapéu_reto  \\\n",
       "1392                    0                    0                    1   \n",
       "4051                    0                    0                    0   \n",
       "3725                    0                    0                    0   \n",
       "\n",
       "      formato-chapéu_nodoso  formato-chapéu_afundado  formato-chapéu_convexo  \\\n",
       "1392                      0                        0                       0   \n",
       "4051                      0                        0                       1   \n",
       "3725                      0                        0                       1   \n",
       "\n",
       "      superfície-chapéu_fibroso  superfície-chapéu_ranhuras  \\\n",
       "1392                          0                           0   \n",
       "4051                          1                           0   \n",
       "3725                          0                           0   \n",
       "\n",
       "      superfície-chapéu_liso  superfície-chapéu_escamoso  ...  \\\n",
       "1392                       1                           0  ...   \n",
       "4051                       0                           0  ...   \n",
       "3725                       1                           0  ...   \n",
       "\n",
       "      população_espalhado  população_diverso  população_solitário  \\\n",
       "1392                    0                  0                    0   \n",
       "4051                    0                  1                    0   \n",
       "3725                    0                  1                    0   \n",
       "\n",
       "      habitat_madeira  habitat_gramínea  habitat_folha  habitat_pradaria  \\\n",
       "1392                0                 1              0                 0   \n",
       "4051                1                 0              0                 0   \n",
       "3725                1                 0              0                 0   \n",
       "\n",
       "      habitat_trilha  habitat_urbano  habitat_lixo  \n",
       "1392               0               0             0  \n",
       "4051               0               0             0  \n",
       "3725               0               0             0  \n",
       "\n",
       "[3 rows x 117 columns]"
      ]
     },
     "execution_count": 13,
     "metadata": {},
     "output_type": "execute_result"
    }
   ],
   "source": [
    "X_test = test.loc[:, colunas_feature]\n",
    "X_test = pd.get_dummies(X_test)\n",
    "X_test.head(3)"
   ]
  },
  {
   "cell_type": "code",
   "execution_count": 14,
   "metadata": {},
   "outputs": [
    {
     "name": "stderr",
     "output_type": "stream",
     "text": [
      "C:\\ProgramData\\Anaconda3\\lib\\site-packages\\pandas\\core\\indexing.py:845: SettingWithCopyWarning: \n",
      "A value is trying to be set on a copy of a slice from a DataFrame.\n",
      "Try using .loc[row_indexer,col_indexer] = value instead\n",
      "\n",
      "See the caveats in the documentation: https://pandas.pydata.org/pandas-docs/stable/user_guide/indexing.html#returning-a-view-versus-a-copy\n",
      "  self.obj[key] = _infer_fill_value(value)\n",
      "C:\\ProgramData\\Anaconda3\\lib\\site-packages\\pandas\\core\\indexing.py:966: SettingWithCopyWarning: \n",
      "A value is trying to be set on a copy of a slice from a DataFrame.\n",
      "Try using .loc[row_indexer,col_indexer] = value instead\n",
      "\n",
      "See the caveats in the documentation: https://pandas.pydata.org/pandas-docs/stable/user_guide/indexing.html#returning-a-view-versus-a-copy\n",
      "  self.obj[item] = s\n"
     ]
    }
   ],
   "source": [
    "test.loc[test['classe']=='venenoso', 'y_test']=1\n",
    "test.loc[test['classe']=='comestível', 'y_test']=0\n",
    "y_test=test.loc[:, 'y_test']"
   ]
  },
  {
   "cell_type": "markdown",
   "metadata": {},
   "source": [
    "Na célula abaixo, obtém-se o score do modelo quando aplicado à base de testes:"
   ]
  },
  {
   "cell_type": "code",
   "execution_count": 15,
   "metadata": {},
   "outputs": [
    {
     "name": "stdout",
     "output_type": "stream",
     "text": [
      "O score do classificador quando aplicado à base de teste é de 99.85228951255539%. Logo, não há overfitting.\n"
     ]
    }
   ],
   "source": [
    "score_teste=clf.score(X_test, y_test)\n",
    "print('O score do classificador quando aplicado à base de teste é de {}%. Logo, não há overfitting.'.format(score_teste*100))"
   ]
  },
  {
   "cell_type": "markdown",
   "metadata": {},
   "source": [
    "#### Validação Cruzada"
   ]
  },
  {
   "cell_type": "markdown",
   "metadata": {},
   "source": [
    "O teste da validação cruzada é feito aqui da mesma forma que foi feito nos notebooks 2 e 3."
   ]
  },
  {
   "cell_type": "code",
   "execution_count": 16,
   "metadata": {},
   "outputs": [
    {
     "name": "stdout",
     "output_type": "stream",
     "text": [
      "O score médio da validação cruzada é 96.78%. Pode-se afirmar que a performance do classificador é alta.\n"
     ]
    }
   ],
   "source": [
    "from sklearn.model_selection import cross_val_score\n",
    "\n",
    "X_cross = dataset.loc[:, colunas_feature]\n",
    "X_cross = pd.get_dummies(X_cross)\n",
    "\n",
    "dataset.loc[dataset['classe']=='venenoso', 'y_cross'] = 1\n",
    "dataset.loc[dataset['classe']=='comestível', 'y_cross'] = 0\n",
    "y_cross=dataset.loc[:, 'y_cross']\n",
    "\n",
    "clf.fit(X_cross, y_cross)\n",
    "\n",
    "score_medio=cross_val_score(clf, X_cross, y_cross, cv=10).mean()  # rodando a validação cruzada 10 vezes (cv=10) e obtendo a média\n",
    "print('O score médio da validação cruzada é {}%. Pode-se afirmar que a performance do classificador é alta.'.format((score_medio*100).round(2)))"
   ]
  },
  {
   "cell_type": "markdown",
   "metadata": {},
   "source": [
    "#### Matriz de Confusão"
   ]
  },
  {
   "cell_type": "markdown",
   "metadata": {},
   "source": [
    "A matriz de confusão é outra forma interessante de avaliar a precisão do modelo de Regressão Logística. Essa matriz mostra lado a lado os verdadeiros positivos, verdadeiros negativos, falsos positivos e falsos negativos. Permitindo prever quantas previsões o modelo errou."
   ]
  },
  {
   "cell_type": "markdown",
   "metadata": {},
   "source": [
    "Na célula abaixo, gera-s e uma matriz de confusão simples com o metrics da biblioteca SciKit Learn:"
   ]
  },
  {
   "cell_type": "code",
   "execution_count": 17,
   "metadata": {},
   "outputs": [
    {
     "name": "stdout",
     "output_type": "stream",
     "text": [
      "[[1020    0]\n",
      " [   0 1011]]\n"
     ]
    }
   ],
   "source": [
    "from sklearn import metrics\n",
    "\n",
    "predictions = clf.predict(X_test)\n",
    "\n",
    "cm = metrics.confusion_matrix(y_test, predictions)\n",
    "print(cm)"
   ]
  },
  {
   "cell_type": "markdown",
   "metadata": {},
   "source": [
    "#### Com a biblioteca Seaborn"
   ]
  },
  {
   "cell_type": "markdown",
   "metadata": {},
   "source": [
    "Na célula abaixo, utiliza-se a biblioteca Seaborn para gerar uma matriz de confusão um pouco mais visual."
   ]
  },
  {
   "cell_type": "code",
   "execution_count": 20,
   "metadata": {},
   "outputs": [
    {
     "data": {
      "image/png": "[encoded data removed]",
      "text/plain": [
       "<Figure size 648x648 with 2 Axes>"
      ]
     },
     "metadata": {
      "needs_background": "light"
     },
     "output_type": "display_data"
    }
   ],
   "source": [
    "import seaborn as sns\n",
    "\n",
    "plt.figure(figsize=(9,9))\n",
    "sns.heatmap(cm, annot=True, fmt=\".3f\", linewidths=.5, square = True, cmap = 'Blues_r');\n",
    "plt.ylabel('Classe Real (0 = Comestível, 1 = Venenoso)');\n",
    "plt.xlabel('Classe Prevista pela Regressão (0 = Comestível, 1 = Venenoso)');\n",
    "all_sample_title = 'Accuracy Score: {0}'.format(score_treinamento)\n",
    "plt.title(all_sample_title, size = 10);"
   ]
  },
  {
   "cell_type": "markdown",
   "metadata": {},
   "source": [
    "A matriz de confusão permite concluir que não houve erros de previsão."
   ]
  },
  {
   "cell_type": "markdown",
   "metadata": {},
   "source": [
    "### Features Mais Importantes"
   ]
  },
  {
   "cell_type": "markdown",
   "metadata": {},
   "source": [
    "Na célula abaixo, serão determinadas as features mais relevantes para a classificação. Na regressão logística, quanto mais longe de 0 o coeficiente da variável estiver, mais relevante ela é para a classificação dos cogumelos."
   ]
  },
  {
   "cell_type": "code",
   "execution_count": 21,
   "metadata": {},
   "outputs": [
    {
     "data": {
      "text/html": [
       "<div>\n",
       "<style scoped>\n",
       "    .dataframe tbody tr th:only-of-type {\n",
       "        vertical-align: middle;\n",
       "    }\n",
       "\n",
       "    .dataframe tbody tr th {\n",
       "        vertical-align: top;\n",
       "    }\n",
       "\n",
       "    .dataframe thead th {\n",
       "        text-align: right;\n",
       "    }\n",
       "</style>\n",
       "<table border=\"1\" class=\"dataframe\">\n",
       "  <thead>\n",
       "    <tr style=\"text-align: right;\">\n",
       "      <th></th>\n",
       "      <th>nomes</th>\n",
       "      <th>coeficientes</th>\n",
       "    </tr>\n",
       "  </thead>\n",
       "  <tbody>\n",
       "    <tr>\n",
       "      <th>27</th>\n",
       "      <td>odor_nenhum</td>\n",
       "      <td>4.182368</td>\n",
       "    </tr>\n",
       "    <tr>\n",
       "      <th>100</th>\n",
       "      <td>cor-impressão-esporo_verde</td>\n",
       "      <td>3.660984</td>\n",
       "    </tr>\n",
       "    <tr>\n",
       "      <th>25</th>\n",
       "      <td>odor_anis</td>\n",
       "      <td>2.955707</td>\n",
       "    </tr>\n",
       "    <tr>\n",
       "      <th>22</th>\n",
       "      <td>odor_amêndoa</td>\n",
       "      <td>2.955707</td>\n",
       "    </tr>\n",
       "    <tr>\n",
       "      <th>23</th>\n",
       "      <td>odor_creosote</td>\n",
       "      <td>2.872201</td>\n",
       "    </tr>\n",
       "  </tbody>\n",
       "</table>\n",
       "</div>"
      ],
      "text/plain": [
       "                          nomes  coeficientes\n",
       "27                  odor_nenhum      4.182368\n",
       "100  cor-impressão-esporo_verde      3.660984\n",
       "25                    odor_anis      2.955707\n",
       "22                 odor_amêndoa      2.955707\n",
       "23                odor_creosote      2.872201"
      ]
     },
     "execution_count": 21,
     "metadata": {},
     "output_type": "execute_result"
    }
   ],
   "source": [
    "coef = pd.DataFrame(data={'nomes': X.columns, 'coeficientes': abs(clf.coef_[0])})\n",
    "ordem = coef.sort_values('coeficientes', ascending=False)\n",
    "ordem.head(5)"
   ]
  },
  {
   "cell_type": "markdown",
   "metadata": {},
   "source": [
    "Também vale dar uma olhada nas variáveis menos relevantes:"
   ]
  },
  {
   "cell_type": "code",
   "execution_count": null,
   "metadata": {},
   "outputs": [],
   "source": [
    "ordem.tail(5)"
   ]
  },
  {
   "cell_type": "markdown",
   "metadata": {},
   "source": [
    "## Regressão Logística com a Biblioteca \"Statsmodels\""
   ]
  },
  {
   "cell_type": "markdown",
   "metadata": {},
   "source": [
    "Tentou-se aplicar a Regressão Logística com a biblioteca Statsmodels, que é mais completa em termos estatísticos, permitindo avaliar teste de hipóteses com valor-p. No entanto, não se obtiveram bons resultados devido a um erro que não se soube resolver."
   ]
  },
  {
   "cell_type": "code",
   "execution_count": null,
   "metadata": {
    "scrolled": true
   },
   "outputs": [],
   "source": [
    "import statsmodels.api as sm\n",
    "logit = sm.Logit(y,X)\n",
    "result = logit.fit(method='bfgs')\n",
    "result.summary()"
   ]
  },
  {
   "cell_type": "markdown",
   "metadata": {},
   "source": [
    "## Conclusão"
   ]
  },
  {
   "cell_type": "markdown",
   "metadata": {},
   "source": [
    "Após uma análise exploratória, aplicação de três classificadores e aferição de suas perfomances, pode-se finalizar este projeto com algumas conclusões. Uma delas é a de que a previsão da classe de um cogumelo a partir da base de dados Mushrooms (utilizada neste projeto) apresenta alta performance, caso seja aplicado qualquer método de classificação entre os 3 utilizados neste projeto. Porém, isso não significa que se pode confiar plenamente nessa classificação, pois a base de dados representa apenas uma amostra da população. Mas apesar disso, os resultados desse projeto podem ser significativos para o ramo da epidemiologia, uma vez que permite classificar um cogumelo desconhecido com base em suas características morfológicas e ecológicas. \n",
    "\n",
    "É interessante dar atenção às características mais relevantes determinadas pelos classificadores. Pode-se perceber que a feature \"odor_nenhum\" foi classificada como a mais relevante nos três classificadores. Provavelmente essa é de fato uma boa característica para iniciar a classificação de um cogumelo desconhecido.\n",
    "\n",
    "Outro fenômeno notável foi o seguinte: certas features que apresentavam o problema da probabilidade 100% (conforme definido na Análise Exploratória) foram utilizadas pela Decision Tree, o que pode ser visualizado na árvore de decisão plotada no Notebook 2. No entanto, essas features foram utilizadas no final dos ramos, classificando a última sub-amostra.\n",
    "\n",
    "Por fim, sempre é válido promover uma reflexão acerca do que poderia ser melhorado no projeto. Um dos pontos com potencial de aperfeiçoamento é a utilização efetiva da regressão logística com a biblioteca StatsModels. Isso permitiria uma análise mais completa desse método de classificação, pois permitiria avaliar os resultados com maior arcabouço estatístico. Também, de modo a mitigar a possibilidade de o dataset utilizado ser limitado, poder-se-ia utilizar mais uma base de dados. E, um terceiro e final ponto interessante, seria fazer a aplicação de mais classificadores que utilizam métodos diferentes, o que expandiria a diversidade do projeto."
   ]
  },
  {
   "cell_type": "markdown",
   "metadata": {},
   "source": [
    "## Referências"
   ]
  },
  {
   "cell_type": "markdown",
   "metadata": {},
   "source": [
    "Esses artigos foram usados para a compreensão, e explicação do modelo de regressão, desde de teoria, até a aplicação no python:\n",
    "- https://levelup.gitconnected.com/an-introduction-to-logistic-regression-in-python-with-statsmodels-and-scikit-learn-1a1fb5ce1c13\n",
    "\n",
    "- https://towardsdatascience.com/building-a-logistic-regression-in-python-step-by-step-becd4d56c9c8\n",
    "\n",
    "Biblioteca SciKit Learn para aplicação do modelo de Regressão Logística\n",
    "- https://scikit-learn.org/stable/modules/generated/sklearn.linear_model.LogisticRegression.html\n",
    "\n",
    "Artigo que recomenda alguns métodos de análise de performance:\n",
    "- https://paulovasconcellos.com.br/como-saber-se-seu-modelo-de-machine-learning-est%C3%A1-funcionando-mesmo-a5892f6468b\n",
    "\n",
    "Artigo que ensina a gerar Matriz de Confusão:\n",
    "- https://towardsdatascience.com/logistic-regression-using-python-sklearn-numpy-mnist-handwriting-recognition-matplotlib-a6b31e2b166a\n",
    "\n",
    "Artigo que explica sobre Overfitting e Underfitting:\n",
    "- https://machinelearningmastery.com/overfitting-and-underfitting-with-machine-learning-algorithms/"
   ]
  }
 ],
 "metadata": {
  "kernelspec": {
   "display_name": "Python 3",
   "language": "python",
   "name": "python3"
  },
  "language_info": {
   "codemirror_mode": {
    "name": "ipython",
    "version": 3
   },
   "file_extension": ".py",
   "mimetype": "text/x-python",
   "name": "python",
   "nbconvert_exporter": "python",
   "pygments_lexer": "ipython3",
   "version": "3.8.3"
  }
 },
 "nbformat": 4,
 "nbformat_minor": 4
}
