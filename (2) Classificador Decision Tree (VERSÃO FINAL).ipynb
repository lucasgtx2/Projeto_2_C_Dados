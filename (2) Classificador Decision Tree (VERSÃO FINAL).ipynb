{
 "cells": [
  {
   "cell_type": "markdown",
   "metadata": {},
   "source": [
    "# Projeto 2 - Ciência dos Dados"
   ]
  },
  {
   "cell_type": "markdown",
   "metadata": {},
   "source": [
    "Grupo: Guilherme Ricchetti Carvalho, Keiya Nishio, Lucas Gabriel Mocellin Teixeira e Matheus Marques Venturi.\n",
    "\n",
    "\n",
    "Turma: C"
   ]
  },
  {
   "cell_type": "markdown",
   "metadata": {},
   "source": [
    "### Importando bibliotecas"
   ]
  },
  {
   "cell_type": "code",
   "execution_count": 16,
   "metadata": {},
   "outputs": [],
   "source": [
    "%matplotlib inline\n",
    "import pandas as pd\n",
    "import matplotlib.pyplot as plt\n",
    "import numpy as np\n",
    "import os"
   ]
  },
  {
   "cell_type": "markdown",
   "metadata": {},
   "source": [
    "# Proposta\n",
    "\n",
    "Classificar a comestibilidade (comestível ou venenoso) de um cogumelo com base em características morfológicas e ecológicas.\n",
    "\n",
    "Dataset disponível no seguinte link: https://www.kaggle.com/uciml/mushroom-classification\n",
    "\n",
    "**Obs**: este é o segundo notebook do projeto, e se propõe a explicar e aplicar o classificador Decision Tree."
   ]
  },
  {
   "cell_type": "markdown",
   "metadata": {},
   "source": [
    "# Carregando Dados"
   ]
  },
  {
   "cell_type": "code",
   "execution_count": 17,
   "metadata": {},
   "outputs": [
    {
     "name": "stdout",
     "output_type": "stream",
     "text": [
      "Encontrei o arquivo mushrooms.csv, tudo certo para prosseguir com o projeto!\n"
     ]
    }
   ],
   "source": [
    "import os\n",
    "\n",
    "filename = 'mushrooms.csv'\n",
    "if filename in os.listdir():\n",
    "    print(f'Encontrei o arquivo {filename}, tudo certo para prosseguir com o projeto!')\n",
    "else:\n",
    "    print(f'Não encontrei o arquivo {filename} aqui no diretório {os.getcwd()}, será que você não baixou o arquivo?')"
   ]
  },
  {
   "cell_type": "code",
   "execution_count": 18,
   "metadata": {
    "scrolled": true
   },
   "outputs": [
    {
     "data": {
      "text/html": [
       "<div>\n",
       "<style scoped>\n",
       "    .dataframe tbody tr th:only-of-type {\n",
       "        vertical-align: middle;\n",
       "    }\n",
       "\n",
       "    .dataframe tbody tr th {\n",
       "        vertical-align: top;\n",
       "    }\n",
       "\n",
       "    .dataframe thead th {\n",
       "        text-align: right;\n",
       "    }\n",
       "</style>\n",
       "<table border=\"1\" class=\"dataframe\">\n",
       "  <thead>\n",
       "    <tr style=\"text-align: right;\">\n",
       "      <th></th>\n",
       "      <th>class</th>\n",
       "      <th>cap-shape</th>\n",
       "      <th>cap-surface</th>\n",
       "      <th>cap-color</th>\n",
       "      <th>bruises</th>\n",
       "      <th>odor</th>\n",
       "      <th>gill-attachment</th>\n",
       "      <th>gill-spacing</th>\n",
       "      <th>gill-size</th>\n",
       "      <th>gill-color</th>\n",
       "      <th>...</th>\n",
       "      <th>stalk-surface-below-ring</th>\n",
       "      <th>stalk-color-above-ring</th>\n",
       "      <th>stalk-color-below-ring</th>\n",
       "      <th>veil-type</th>\n",
       "      <th>veil-color</th>\n",
       "      <th>ring-number</th>\n",
       "      <th>ring-type</th>\n",
       "      <th>spore-print-color</th>\n",
       "      <th>population</th>\n",
       "      <th>habitat</th>\n",
       "    </tr>\n",
       "  </thead>\n",
       "  <tbody>\n",
       "    <tr>\n",
       "      <th>0</th>\n",
       "      <td>p</td>\n",
       "      <td>x</td>\n",
       "      <td>s</td>\n",
       "      <td>n</td>\n",
       "      <td>t</td>\n",
       "      <td>p</td>\n",
       "      <td>f</td>\n",
       "      <td>c</td>\n",
       "      <td>n</td>\n",
       "      <td>k</td>\n",
       "      <td>...</td>\n",
       "      <td>s</td>\n",
       "      <td>w</td>\n",
       "      <td>w</td>\n",
       "      <td>p</td>\n",
       "      <td>w</td>\n",
       "      <td>o</td>\n",
       "      <td>p</td>\n",
       "      <td>k</td>\n",
       "      <td>s</td>\n",
       "      <td>u</td>\n",
       "    </tr>\n",
       "    <tr>\n",
       "      <th>1</th>\n",
       "      <td>e</td>\n",
       "      <td>x</td>\n",
       "      <td>s</td>\n",
       "      <td>y</td>\n",
       "      <td>t</td>\n",
       "      <td>a</td>\n",
       "      <td>f</td>\n",
       "      <td>c</td>\n",
       "      <td>b</td>\n",
       "      <td>k</td>\n",
       "      <td>...</td>\n",
       "      <td>s</td>\n",
       "      <td>w</td>\n",
       "      <td>w</td>\n",
       "      <td>p</td>\n",
       "      <td>w</td>\n",
       "      <td>o</td>\n",
       "      <td>p</td>\n",
       "      <td>n</td>\n",
       "      <td>n</td>\n",
       "      <td>g</td>\n",
       "    </tr>\n",
       "    <tr>\n",
       "      <th>2</th>\n",
       "      <td>e</td>\n",
       "      <td>b</td>\n",
       "      <td>s</td>\n",
       "      <td>w</td>\n",
       "      <td>t</td>\n",
       "      <td>l</td>\n",
       "      <td>f</td>\n",
       "      <td>c</td>\n",
       "      <td>b</td>\n",
       "      <td>n</td>\n",
       "      <td>...</td>\n",
       "      <td>s</td>\n",
       "      <td>w</td>\n",
       "      <td>w</td>\n",
       "      <td>p</td>\n",
       "      <td>w</td>\n",
       "      <td>o</td>\n",
       "      <td>p</td>\n",
       "      <td>n</td>\n",
       "      <td>n</td>\n",
       "      <td>m</td>\n",
       "    </tr>\n",
       "    <tr>\n",
       "      <th>3</th>\n",
       "      <td>p</td>\n",
       "      <td>x</td>\n",
       "      <td>y</td>\n",
       "      <td>w</td>\n",
       "      <td>t</td>\n",
       "      <td>p</td>\n",
       "      <td>f</td>\n",
       "      <td>c</td>\n",
       "      <td>n</td>\n",
       "      <td>n</td>\n",
       "      <td>...</td>\n",
       "      <td>s</td>\n",
       "      <td>w</td>\n",
       "      <td>w</td>\n",
       "      <td>p</td>\n",
       "      <td>w</td>\n",
       "      <td>o</td>\n",
       "      <td>p</td>\n",
       "      <td>k</td>\n",
       "      <td>s</td>\n",
       "      <td>u</td>\n",
       "    </tr>\n",
       "    <tr>\n",
       "      <th>4</th>\n",
       "      <td>e</td>\n",
       "      <td>x</td>\n",
       "      <td>s</td>\n",
       "      <td>g</td>\n",
       "      <td>f</td>\n",
       "      <td>n</td>\n",
       "      <td>f</td>\n",
       "      <td>w</td>\n",
       "      <td>b</td>\n",
       "      <td>k</td>\n",
       "      <td>...</td>\n",
       "      <td>s</td>\n",
       "      <td>w</td>\n",
       "      <td>w</td>\n",
       "      <td>p</td>\n",
       "      <td>w</td>\n",
       "      <td>o</td>\n",
       "      <td>e</td>\n",
       "      <td>n</td>\n",
       "      <td>a</td>\n",
       "      <td>g</td>\n",
       "    </tr>\n",
       "  </tbody>\n",
       "</table>\n",
       "<p>5 rows × 23 columns</p>\n",
       "</div>"
      ],
      "text/plain": [
       "  class cap-shape cap-surface cap-color bruises odor gill-attachment  \\\n",
       "0     p         x           s         n       t    p               f   \n",
       "1     e         x           s         y       t    a               f   \n",
       "2     e         b           s         w       t    l               f   \n",
       "3     p         x           y         w       t    p               f   \n",
       "4     e         x           s         g       f    n               f   \n",
       "\n",
       "  gill-spacing gill-size gill-color  ... stalk-surface-below-ring  \\\n",
       "0            c         n          k  ...                        s   \n",
       "1            c         b          k  ...                        s   \n",
       "2            c         b          n  ...                        s   \n",
       "3            c         n          n  ...                        s   \n",
       "4            w         b          k  ...                        s   \n",
       "\n",
       "  stalk-color-above-ring stalk-color-below-ring veil-type veil-color  \\\n",
       "0                      w                      w         p          w   \n",
       "1                      w                      w         p          w   \n",
       "2                      w                      w         p          w   \n",
       "3                      w                      w         p          w   \n",
       "4                      w                      w         p          w   \n",
       "\n",
       "  ring-number ring-type spore-print-color population habitat  \n",
       "0           o         p                 k          s       u  \n",
       "1           o         p                 n          n       g  \n",
       "2           o         p                 n          n       m  \n",
       "3           o         p                 k          s       u  \n",
       "4           o         e                 n          a       g  \n",
       "\n",
       "[5 rows x 23 columns]"
      ]
     },
     "execution_count": 18,
     "metadata": {},
     "output_type": "execute_result"
    }
   ],
   "source": [
    "dataset=pd.read_csv(filename)\n",
    "dataset.head(5)"
   ]
  },
  {
   "cell_type": "code",
   "execution_count": 19,
   "metadata": {},
   "outputs": [],
   "source": [
    "#dataset=dataset.dropna()  # Remover linhas com colunas vazias (NaN)  -- não precisou"
   ]
  },
  {
   "cell_type": "markdown",
   "metadata": {},
   "source": [
    "### Tradução do dataset para português"
   ]
  },
  {
   "cell_type": "markdown",
   "metadata": {},
   "source": [
    "Nas próximas duas células, foi feita uma adaptação do dataset para a língua portuguesa, de modo a permitir uma melhor interpretação dos dados."
   ]
  },
  {
   "cell_type": "code",
   "execution_count": 20,
   "metadata": {},
   "outputs": [],
   "source": [
    "dataset = dataset.rename(columns = \n",
    "                     {'class': 'classe',\n",
    "                      'cap-shape': 'formato-chapéu', \n",
    "                      'cap-surface': 'superfície-chapéu',\n",
    "                      'cap-color': 'cor-chapéu',\n",
    "                      'bruises': 'hematomas',\n",
    "                      'odor': 'odor',\n",
    "                      'gill-attachment': 'ligação-lamela',\n",
    "                      'gill-spacing': 'espaçamento-lamela',\n",
    "                      'gill-size': 'tamanho-lamela',\n",
    "                      'gill-color': 'cor-lamela',\n",
    "                      'stalk-shape': 'formato-estipe',\n",
    "                      'stalk-root': 'raiz-estipe',\n",
    "                      'stalk-surface-above-ring': 'superfície-estipe-sobre-anel',\n",
    "                      'stalk-surface-below-ring': 'superfície-estipe-sob-anel',\n",
    "                      'stalk-color-above-ring': 'cor-estipe-sobre-anel',\n",
    "                      'stalk-color-below-ring': 'cor-estipe-sob-anel',\n",
    "                      'veil-type': 'tipo-volva',\n",
    "                      'veil-color': 'cor-volva',\n",
    "                      'ring-number': 'quantidade-anéis',\n",
    "                      'ring-type': 'tipo-anel',\n",
    "                      'spore-print-color': 'cor-impressão-esporo',\n",
    "                      'population': 'população',\n",
    "                      'habitat': 'habitat'}, inplace = False)"
   ]
  },
  {
   "cell_type": "code",
   "execution_count": 21,
   "metadata": {},
   "outputs": [],
   "source": [
    "dataset['classe']=dataset['classe'].astype('category')\n",
    "dataset['classe'].cat.categories = ['comestível', 'venenoso']\n",
    "\n",
    "dataset['formato-chapéu']=dataset['formato-chapéu'].astype('category')\n",
    "dataset['formato-chapéu'].cat.categories = ['sino', 'cone', 'reto', 'nodoso', 'afundado', 'convexo']\n",
    "\n",
    "dataset['superfície-chapéu']=dataset['superfície-chapéu'].astype('category')\n",
    "dataset['superfície-chapéu'].cat.categories = ['fibroso', 'ranhuras', 'liso', 'escamoso']\n",
    " \n",
    "dataset['cor-chapéu']=dataset['cor-chapéu'].astype('category')\n",
    "dataset['cor-chapéu'].cat.categories = ['couro', 'canela', 'vermelho', 'cinza', 'marrom', 'rosa', 'verde', 'roxo', 'branco', 'amarelo']\n",
    "\n",
    "dataset['hematomas']=dataset['hematomas'].astype('category')\n",
    "dataset['hematomas'].cat.categories = ['não tem' , 'tem']\n",
    "\n",
    "dataset['odor']=dataset['odor'].astype('category')\n",
    "dataset['odor'].cat.categories = ['amêndoa', 'creosote', 'podre', 'anis', 'mofado', 'nenhum', 'pungente', 'picante', 'peixe']\n",
    "\n",
    "dataset['ligação-lamela']=dataset['ligação-lamela'].astype('category')\n",
    "dataset['ligação-lamela'].cat.categories = ['conectada', 'solta']\n",
    "\n",
    "dataset['espaçamento-lamela']=dataset['espaçamento-lamela'].astype('category')\n",
    "dataset['espaçamento-lamela'].cat.categories = ['perto', 'lotado']\n",
    "\n",
    "dataset['tamanho-lamela']=dataset['tamanho-lamela'].astype('category')\n",
    "dataset['tamanho-lamela'].cat.categories = ['ampla', 'estreita']\n",
    "\n",
    "dataset['cor-lamela']=dataset['cor-lamela'].astype('category')\n",
    "dataset['cor-lamela'].cat.categories = ['couro', 'vermelha', 'cinza', 'chocolate', 'preta', 'marrom', 'laranja', 'rosa', 'verde', 'roxa', 'branca', 'amarelo']\n",
    "\n",
    "dataset['formato-estipe']=dataset['formato-estipe'].astype('category')\n",
    "dataset['formato-estipe'].cat.categories = ['alargando', 'afunilando']\n",
    "    \n",
    "dataset['raiz-estipe']=dataset['raiz-estipe'].astype('category')\n",
    "dataset['raiz-estipe'].cat.categories = ['não tem', 'bulboso', 'clava', 'reto', 'enraizado']\n",
    "\n",
    "dataset['superfície-estipe-sobre-anel']=dataset['superfície-estipe-sobre-anel'].astype('category')\n",
    "dataset['superfície-estipe-sobre-anel'].cat.categories = ['fibroso', 'sedoso', 'liso', 'escamoso']\n",
    "\n",
    "dataset['superfície-estipe-sob-anel']=dataset['superfície-estipe-sob-anel'].astype('category')\n",
    "dataset['superfície-estipe-sob-anel'].cat.categories = ['fibroso', 'sedoso', 'liso', 'escamoso']\n",
    "\n",
    "dataset['cor-estipe-sobre-anel']=dataset['cor-estipe-sobre-anel'].astype('category')\n",
    "dataset['cor-estipe-sobre-anel'].cat.categories = ['couro', 'canela', 'vermelho', 'cinza', 'marrom', 'laranja', 'rosa', 'branco', 'amarelo']\n",
    "\n",
    "dataset['cor-estipe-sob-anel']=dataset['cor-estipe-sob-anel'].astype('category')\n",
    "dataset['cor-estipe-sob-anel']. cat.categories = ['couro', 'canela', 'vermelho', 'cinza', 'marrom', 'laranja', 'rosa', 'branco', 'amarelo']\n",
    "\n",
    "dataset['tipo-volva']=dataset['tipo-volva'].astype('category')\n",
    "dataset['tipo-volva'].cat.categories = ['parcial']\n",
    "\n",
    "dataset['cor-volva']=dataset['cor-volva'].astype('category')\n",
    "dataset['cor-volva'].cat.categories = ['marrom' , 'laranja', 'branco', 'amarelo']\n",
    "\n",
    "dataset['quantidade-anéis']=dataset['quantidade-anéis'].astype('category')\n",
    "dataset['quantidade-anéis'].cat.categories = ['nenhum' , 'um', 'dois']\n",
    "\n",
    "dataset['tipo-anel']=dataset['tipo-anel'].astype('category')\n",
    "dataset['tipo-anel'].cat.categories = ['evanescente', 'deslumbrante', 'grande', 'nenhum', 'pingente']\n",
    "\n",
    "dataset['cor-impressão-esporo']=dataset['cor-impressão-esporo'].astype('category')\n",
    "dataset['cor-impressão-esporo'].cat.categories = ['couro', 'chocolate', 'preto', 'marrom', 'laranja', 'verde', 'roxo', 'branco', 'amarelo']\n",
    "\n",
    "dataset['população']=dataset['população'].astype('category')\n",
    "dataset['população'].cat.categories=['abundante', 'aglomerado', 'numeroso', 'espalhado', 'diverso', 'solitário']\n",
    "\n",
    "dataset['habitat']=dataset['habitat'].astype('category')\n",
    "dataset['habitat'].cat.categories=['madeira', 'gramínea', 'folha', 'pradaria', 'trilha', 'urbano', 'lixo']"
   ]
  },
  {
   "cell_type": "markdown",
   "metadata": {},
   "source": [
    "Para poder aferir a performance do classificador, é necessário separar a base de dados em duas: treinamento e teste. Essa separação foi feita numa proporção de 3:1, ou seja, 25% Teste e 75% Treinamento.\n",
    "\n",
    "Obs.: o atributo random_state deve ser igualado a 1 para impedir que, a cada vez que o código é rodado, seja feita uma divisão entre Treinamento e Teste diferente. Isso garante que o classificador também seja sempre o mesmo."
   ]
  },
  {
   "cell_type": "code",
   "execution_count": 22,
   "metadata": {},
   "outputs": [],
   "source": [
    "from sklearn.model_selection import train_test_split\n",
    "\n",
    "train, test = train_test_split(dataset, test_size=0.25, random_state=1)  # separar dataset em treinamento e teste"
   ]
  },
  {
   "cell_type": "markdown",
   "metadata": {},
   "source": [
    "# Classificador Decision Tree\n"
   ]
  },
  {
   "cell_type": "markdown",
   "metadata": {},
   "source": [
    "Esta seção é destinada à aplicação do modelo de classificação Decision Tree. Esse modelo utiliza a base treinamento (separada a partir do dataset) para prever a classe de um dado cogumelo.\n",
    "\n",
    "**Motivação**: a Decision Tree foi escolhida como a primeira técnica de classificação dos cogumelos porque ela permite uma simples visualização do processo."
   ]
  },
  {
   "cell_type": "markdown",
   "metadata": {},
   "source": [
    "### Funcionamento do Classificador"
   ]
  },
  {
   "cell_type": "markdown",
   "metadata": {},
   "source": [
    "As decisions trees são um tipo de modelagem preditiva, usadas em estatística, que fazem o uso da mineração de dados e aprendizado de máquina. São utilizadas como uma ferramenta de suporte de decisão visual e analítica, como meio descritivo para calcular probabilidades condicionais, e quando não se tem um conhecimento completo sobre um assunto.\n",
    "\n",
    "Seu funcionamento se baseia em uma série de perguntas formuladas a partir de features. Assim, cada registro (nesse projeto: cogumelo) responde de forma binária a cada questão e segue um rumo próprio na árvore, chegando a um resultado de classificação, muito parecido com um fluxograma. \n",
    "\n",
    "A anatomia do classificador é uma árvore binária, cujos ramos possuem apenas duas respostas possíveis. O processo começa na raiz, que é a primeira pergunta (circulado em verde na imagem). A partir da resposta à raiz, o fluxo pode seguir para dois lados: esquerda (SIM) e direita (NÃO). E assim por diante, o \"cogumelo\" vai seguindo o caminho e se deparando com mais perguntas (chamadas de nós) que o direcionarão a um final. O lado em que o \"cogumelo cair\" determina sua classificação.\n",
    "   \n",
    "<img src=img/decision.png width=40%>\n",
    "   \n",
    "Para definir qual será a primeira pergunta (raiz) de decision tree, é utilizado o cálculo das Impurezas de Gini. Neste cálculo, o menor valor obtido será o escolhido. Este processo se repete para que gradativamente sejam escolhidas as próximas perguntas, a partir da raiz. No caso dos cogumelos, o menor valor de Impureza de Gini foi o de “Odor nenhum”, e portanto, foi escolhido como a primeira pergunta de nossa Decision Tree.\n",
    "\n",
    "**Vantagens**: \n",
    "   - É fácil de entender e interpretar;\n",
    "   - Pode ser utilizada mesmo com poucos dados concretos;\n",
    "   - Diante de diferentes cenários, consegue prever os melhores e os piores valores;\n",
    "   - Pode ser combinada com outras técnicas de decisão.\n",
    "  \n",
    "**Desvantagens**:\n",
    "   - São instáveis, ou seja, pequenas alterações na base de dados podem afetar fortemente os resultados;\n",
    "   - São consideravelmente imprecisas, se compararmos com outros modelos como: 'Random Forest';\n",
    "   - O ganho de informações em cada nível pode ser tendencioso;\n",
    "   - Os cálculos podem ser muito complexos."
   ]
  },
  {
   "cell_type": "markdown",
   "metadata": {},
   "source": [
    "### Aplicação do Classificador"
   ]
  },
  {
   "cell_type": "markdown",
   "metadata": {},
   "source": [
    "Nesta seção, será devidamente aplicado o classificador Decision Tree. Ao longo da aplicação, serão explicadas as razões por trás de cada código, bem como o funcionamento da biblioteca sklearn.tree, utilizada para fazer o modelo."
   ]
  },
  {
   "cell_type": "markdown",
   "metadata": {},
   "source": [
    "### Preparando os dados de treinamento:"
   ]
  },
  {
   "cell_type": "markdown",
   "metadata": {},
   "source": [
    "Antes de aplicar o classificador, é preciso ajeitar os dados de modo que eles estejam prontos para o classificador. O método Decision Tree da biblioteca do SciKit Learn utiliza variáveis binárias. Como as features do dataset dos cogumelos não está em formato binário, precisamos fazer essa transformação. Na linguagem do Pandas, essa transformação é chamada de dummy.\n",
    "\n",
    "O classificador será construído com base nos dados de treinamento, os quais já foram devidamente separados em um dataset \n",
    "único neste notebook. Portanto, resta transfomá-los em dummies.\n",
    "\n",
    "Além disso, o método Decision Tree do SciKit Learn também recebe dois principais argumentos: um dataframe com as features (aqui chamados de X), e outro com o target (aqui chamados de Y)."
   ]
  },
  {
   "cell_type": "markdown",
   "metadata": {},
   "source": [
    "As duas células a seguir fazem esse processo de transformar as variáveis features em dummies."
   ]
  },
  {
   "cell_type": "code",
   "execution_count": 23,
   "metadata": {},
   "outputs": [],
   "source": [
    "colunas_feature = list(train.columns)\n",
    "colunas_feature.remove('classe')  # removendo a target para ficar somente com as features"
   ]
  },
  {
   "cell_type": "code",
   "execution_count": 24,
   "metadata": {},
   "outputs": [
    {
     "data": {
      "text/html": [
       "<div>\n",
       "<style scoped>\n",
       "    .dataframe tbody tr th:only-of-type {\n",
       "        vertical-align: middle;\n",
       "    }\n",
       "\n",
       "    .dataframe tbody tr th {\n",
       "        vertical-align: top;\n",
       "    }\n",
       "\n",
       "    .dataframe thead th {\n",
       "        text-align: right;\n",
       "    }\n",
       "</style>\n",
       "<table border=\"1\" class=\"dataframe\">\n",
       "  <thead>\n",
       "    <tr style=\"text-align: right;\">\n",
       "      <th></th>\n",
       "      <th>formato-chapéu_sino</th>\n",
       "      <th>formato-chapéu_cone</th>\n",
       "      <th>formato-chapéu_reto</th>\n",
       "      <th>formato-chapéu_nodoso</th>\n",
       "      <th>formato-chapéu_afundado</th>\n",
       "      <th>formato-chapéu_convexo</th>\n",
       "      <th>superfície-chapéu_fibroso</th>\n",
       "      <th>superfície-chapéu_ranhuras</th>\n",
       "      <th>superfície-chapéu_liso</th>\n",
       "      <th>superfície-chapéu_escamoso</th>\n",
       "      <th>...</th>\n",
       "      <th>população_espalhado</th>\n",
       "      <th>população_diverso</th>\n",
       "      <th>população_solitário</th>\n",
       "      <th>habitat_madeira</th>\n",
       "      <th>habitat_gramínea</th>\n",
       "      <th>habitat_folha</th>\n",
       "      <th>habitat_pradaria</th>\n",
       "      <th>habitat_trilha</th>\n",
       "      <th>habitat_urbano</th>\n",
       "      <th>habitat_lixo</th>\n",
       "    </tr>\n",
       "  </thead>\n",
       "  <tbody>\n",
       "    <tr>\n",
       "      <th>6253</th>\n",
       "      <td>0</td>\n",
       "      <td>0</td>\n",
       "      <td>0</td>\n",
       "      <td>0</td>\n",
       "      <td>0</td>\n",
       "      <td>1</td>\n",
       "      <td>0</td>\n",
       "      <td>0</td>\n",
       "      <td>0</td>\n",
       "      <td>1</td>\n",
       "      <td>...</td>\n",
       "      <td>0</td>\n",
       "      <td>1</td>\n",
       "      <td>0</td>\n",
       "      <td>0</td>\n",
       "      <td>0</td>\n",
       "      <td>0</td>\n",
       "      <td>0</td>\n",
       "      <td>1</td>\n",
       "      <td>0</td>\n",
       "      <td>0</td>\n",
       "    </tr>\n",
       "    <tr>\n",
       "      <th>2739</th>\n",
       "      <td>0</td>\n",
       "      <td>0</td>\n",
       "      <td>0</td>\n",
       "      <td>0</td>\n",
       "      <td>0</td>\n",
       "      <td>1</td>\n",
       "      <td>0</td>\n",
       "      <td>0</td>\n",
       "      <td>0</td>\n",
       "      <td>1</td>\n",
       "      <td>...</td>\n",
       "      <td>0</td>\n",
       "      <td>0</td>\n",
       "      <td>1</td>\n",
       "      <td>1</td>\n",
       "      <td>0</td>\n",
       "      <td>0</td>\n",
       "      <td>0</td>\n",
       "      <td>0</td>\n",
       "      <td>0</td>\n",
       "      <td>0</td>\n",
       "    </tr>\n",
       "    <tr>\n",
       "      <th>7436</th>\n",
       "      <td>0</td>\n",
       "      <td>0</td>\n",
       "      <td>0</td>\n",
       "      <td>1</td>\n",
       "      <td>0</td>\n",
       "      <td>0</td>\n",
       "      <td>0</td>\n",
       "      <td>0</td>\n",
       "      <td>1</td>\n",
       "      <td>0</td>\n",
       "      <td>...</td>\n",
       "      <td>0</td>\n",
       "      <td>1</td>\n",
       "      <td>0</td>\n",
       "      <td>0</td>\n",
       "      <td>0</td>\n",
       "      <td>1</td>\n",
       "      <td>0</td>\n",
       "      <td>0</td>\n",
       "      <td>0</td>\n",
       "      <td>0</td>\n",
       "    </tr>\n",
       "  </tbody>\n",
       "</table>\n",
       "<p>3 rows × 117 columns</p>\n",
       "</div>"
      ],
      "text/plain": [
       "      formato-chapéu_sino  formato-chapéu_cone  formato-chapéu_reto  \\\n",
       "6253                    0                    0                    0   \n",
       "2739                    0                    0                    0   \n",
       "7436                    0                    0                    0   \n",
       "\n",
       "      formato-chapéu_nodoso  formato-chapéu_afundado  formato-chapéu_convexo  \\\n",
       "6253                      0                        0                       1   \n",
       "2739                      0                        0                       1   \n",
       "7436                      1                        0                       0   \n",
       "\n",
       "      superfície-chapéu_fibroso  superfície-chapéu_ranhuras  \\\n",
       "6253                          0                           0   \n",
       "2739                          0                           0   \n",
       "7436                          0                           0   \n",
       "\n",
       "      superfície-chapéu_liso  superfície-chapéu_escamoso  ...  \\\n",
       "6253                       0                           1  ...   \n",
       "2739                       0                           1  ...   \n",
       "7436                       1                           0  ...   \n",
       "\n",
       "      população_espalhado  população_diverso  população_solitário  \\\n",
       "6253                    0                  1                    0   \n",
       "2739                    0                  0                    1   \n",
       "7436                    0                  1                    0   \n",
       "\n",
       "      habitat_madeira  habitat_gramínea  habitat_folha  habitat_pradaria  \\\n",
       "6253                0                 0              0                 0   \n",
       "2739                1                 0              0                 0   \n",
       "7436                0                 0              1                 0   \n",
       "\n",
       "      habitat_trilha  habitat_urbano  habitat_lixo  \n",
       "6253               1               0             0  \n",
       "2739               0               0             0  \n",
       "7436               0               0             0  \n",
       "\n",
       "[3 rows x 117 columns]"
      ]
     },
     "execution_count": 24,
     "metadata": {},
     "output_type": "execute_result"
    }
   ],
   "source": [
    "X = train.loc[:, colunas_feature]\n",
    "X = pd.get_dummies(X)\n",
    "X.head(3)"
   ]
  },
  {
   "cell_type": "markdown",
   "metadata": {},
   "source": [
    "Nota-se que, no dataset acima, as 22 features foram convertidas em 117. Para explicar isso, vai um exemplo: antes de transformar as variáveis em dummies, tinha-se que a cor do chapéu do cogumelo poderia ser branca, rosa, vermelha, marrom, etc. Como as respostas para o modelo de árvore de decisão são binárias, não faria sentido se um nó da árvore perguntasse \"qual a cor do chapéu do cogumelo?\", porque seriam várias respostas. Logo, a pergunta certa a se fazer seria a seguinte: a cor do chapéu do cogumelo é branca? Para essa pergunta, há somente duas respostas: sim ou não. Assim, o processo de transformar as variáveis em dummies resulta em características binárias (sim ou não / tem ou não tem), que podem ser utilizadas pelo Decision Tree."
   ]
  },
  {
   "cell_type": "markdown",
   "metadata": {},
   "source": [
    "A célula a seguir transforma a coluna \"classe\" em valores binários. \"Venenoso\" foi substituído por 1, e \"comestível\", por 0."
   ]
  },
  {
   "cell_type": "code",
   "execution_count": 25,
   "metadata": {},
   "outputs": [
    {
     "name": "stderr",
     "output_type": "stream",
     "text": [
      "C:\\ProgramData\\Anaconda3\\lib\\site-packages\\pandas\\core\\indexing.py:845: SettingWithCopyWarning: \n",
      "A value is trying to be set on a copy of a slice from a DataFrame.\n",
      "Try using .loc[row_indexer,col_indexer] = value instead\n",
      "\n",
      "See the caveats in the documentation: https://pandas.pydata.org/pandas-docs/stable/user_guide/indexing.html#returning-a-view-versus-a-copy\n",
      "  self.obj[key] = _infer_fill_value(value)\n",
      "C:\\ProgramData\\Anaconda3\\lib\\site-packages\\pandas\\core\\indexing.py:966: SettingWithCopyWarning: \n",
      "A value is trying to be set on a copy of a slice from a DataFrame.\n",
      "Try using .loc[row_indexer,col_indexer] = value instead\n",
      "\n",
      "See the caveats in the documentation: https://pandas.pydata.org/pandas-docs/stable/user_guide/indexing.html#returning-a-view-versus-a-copy\n",
      "  self.obj[item] = s\n"
     ]
    },
    {
     "data": {
      "text/plain": [
       "6253    1.0\n",
       "2739    0.0\n",
       "7436    1.0\n",
       "Name: y, dtype: float64"
      ]
     },
     "execution_count": 25,
     "metadata": {},
     "output_type": "execute_result"
    }
   ],
   "source": [
    "train.loc[train['classe']=='venenoso', 'y'] = 1\n",
    "train.loc[train['classe']=='comestível', 'y'] = 0\n",
    "y=train.loc[:, 'y']\n",
    "y.head(3)"
   ]
  },
  {
   "cell_type": "markdown",
   "metadata": {},
   "source": [
    "### Criando o modelo:"
   ]
  },
  {
   "cell_type": "markdown",
   "metadata": {},
   "source": [
    "Com os dados devidamente preparados, é possível aplicar o classificador Decision Tree. Para isso, basta importar as bibliotecas do SciKit Learn necessárias e aplicar o código \"fit\" nas variáveis X (features) e y (target) preparadas no item anterior. \n",
    "\n",
    "Vale ressaltar que, para o atributo \"random_state\" do código abaixo, foi dado o valor 1 de modo a fazer com que o classificador utilize sempre a mesma árvore de decisão."
   ]
  },
  {
   "cell_type": "code",
   "execution_count": 26,
   "metadata": {},
   "outputs": [
    {
     "data": {
      "text/plain": [
       "DecisionTreeClassifier(random_state=1)"
      ]
     },
     "execution_count": 26,
     "metadata": {},
     "output_type": "execute_result"
    }
   ],
   "source": [
    "from sklearn.tree import DecisionTreeClassifier\n",
    "\n",
    "clf = DecisionTreeClassifier(random_state=1)\n",
    "clf.fit(X, y)"
   ]
  },
  {
   "cell_type": "markdown",
   "metadata": {},
   "source": [
    "### Visualização da Árvore"
   ]
  },
  {
   "cell_type": "markdown",
   "metadata": {},
   "source": [
    "Pode-se plotar a árvore de decisão construída pelo SciKit Learn. Nela, cada nó representa uma pergunta. Por exemplo: na raiz (primeiro nó), pergunta-se se o cogumelo não possui odor. Se a resposta for sim (cogumelo não possui odor), o \"cogumelo vai para a esquerda\", caso contrário, para a direita.\n",
    "\n",
    "Obs.: para dar um zoom na árvore de decisão, basta dar dois cliques nela. "
   ]
  },
  {
   "cell_type": "code",
   "execution_count": 27,
   "metadata": {},
   "outputs": [
    {
     "data": {
      "image/png": "[encoded data removed]",
      "text/plain": [
       "<Figure size 1800x1440 with 1 Axes>"
      ]
     },
     "metadata": {
      "needs_background": "light"
     },
     "output_type": "display_data"
    }
   ],
   "source": [
    "from sklearn import tree\n",
    "\n",
    "fig = plt.figure(figsize=(25,20))\n",
    "_ = tree.plot_tree(clf, impurity=False, filled = True, feature_names=X.columns, class_names=['comestível', 'venenoso'])"
   ]
  },
  {
   "cell_type": "markdown",
   "metadata": {},
   "source": [
    "## Testando a performance do modelo:"
   ]
  },
  {
   "cell_type": "markdown",
   "metadata": {},
   "source": [
    "Não basta apenas o classificador funcionando, é preciso avaliar sua acurácia. Para isso, existem diversos métodos, dos quais alguns serão utilizados nesta seção."
   ]
  },
  {
   "cell_type": "markdown",
   "metadata": {},
   "source": [
    "#### Teste de Underfitting"
   ]
  },
  {
   "cell_type": "markdown",
   "metadata": {},
   "source": [
    "O primeiro teste que pode ser feito é o do underfitting. Underfitting é quando o modelo não se aplica bem aos próprios dados de treinamento. Para avaliar isso, basta aplicar o código \"score\" aos próprios dados X e Y definidos antes:"
   ]
  },
  {
   "cell_type": "code",
   "execution_count": 28,
   "metadata": {},
   "outputs": [
    {
     "name": "stdout",
     "output_type": "stream",
     "text": [
      "O score do classificador quando aplicado à própria base de treinamento é de 100.0%. Logo, não há underfitting.\n"
     ]
    }
   ],
   "source": [
    "score_treinamento=clf.score(X, y)\n",
    "print('O score do classificador quando aplicado à própria base de treinamento é de {}%. Logo, não há underfitting.'.format(score_treinamento*100))"
   ]
  },
  {
   "cell_type": "markdown",
   "metadata": {},
   "source": [
    "#### Teste de Overfitting"
   ]
  },
  {
   "cell_type": "markdown",
   "metadata": {},
   "source": [
    "Overfitting é quando o modelo se aplica bem ao treinamento, mas não apresenta um bom score quando aplicado a uma base de teste.\n",
    "Para isso, será preciso preparar a base de testes da mesma forma que a base de treinamento, ou seja: transformar variáveis em dummies e separarar a base em X e Y."
   ]
  },
  {
   "cell_type": "code",
   "execution_count": 29,
   "metadata": {},
   "outputs": [
    {
     "data": {
      "text/html": [
       "<div>\n",
       "<style scoped>\n",
       "    .dataframe tbody tr th:only-of-type {\n",
       "        vertical-align: middle;\n",
       "    }\n",
       "\n",
       "    .dataframe tbody tr th {\n",
       "        vertical-align: top;\n",
       "    }\n",
       "\n",
       "    .dataframe thead th {\n",
       "        text-align: right;\n",
       "    }\n",
       "</style>\n",
       "<table border=\"1\" class=\"dataframe\">\n",
       "  <thead>\n",
       "    <tr style=\"text-align: right;\">\n",
       "      <th></th>\n",
       "      <th>formato-chapéu_sino</th>\n",
       "      <th>formato-chapéu_cone</th>\n",
       "      <th>formato-chapéu_reto</th>\n",
       "      <th>formato-chapéu_nodoso</th>\n",
       "      <th>formato-chapéu_afundado</th>\n",
       "      <th>formato-chapéu_convexo</th>\n",
       "      <th>superfície-chapéu_fibroso</th>\n",
       "      <th>superfície-chapéu_ranhuras</th>\n",
       "      <th>superfície-chapéu_liso</th>\n",
       "      <th>superfície-chapéu_escamoso</th>\n",
       "      <th>...</th>\n",
       "      <th>população_espalhado</th>\n",
       "      <th>população_diverso</th>\n",
       "      <th>população_solitário</th>\n",
       "      <th>habitat_madeira</th>\n",
       "      <th>habitat_gramínea</th>\n",
       "      <th>habitat_folha</th>\n",
       "      <th>habitat_pradaria</th>\n",
       "      <th>habitat_trilha</th>\n",
       "      <th>habitat_urbano</th>\n",
       "      <th>habitat_lixo</th>\n",
       "    </tr>\n",
       "  </thead>\n",
       "  <tbody>\n",
       "    <tr>\n",
       "      <th>1392</th>\n",
       "      <td>0</td>\n",
       "      <td>0</td>\n",
       "      <td>1</td>\n",
       "      <td>0</td>\n",
       "      <td>0</td>\n",
       "      <td>0</td>\n",
       "      <td>0</td>\n",
       "      <td>0</td>\n",
       "      <td>1</td>\n",
       "      <td>0</td>\n",
       "      <td>...</td>\n",
       "      <td>0</td>\n",
       "      <td>0</td>\n",
       "      <td>0</td>\n",
       "      <td>0</td>\n",
       "      <td>1</td>\n",
       "      <td>0</td>\n",
       "      <td>0</td>\n",
       "      <td>0</td>\n",
       "      <td>0</td>\n",
       "      <td>0</td>\n",
       "    </tr>\n",
       "    <tr>\n",
       "      <th>4051</th>\n",
       "      <td>0</td>\n",
       "      <td>0</td>\n",
       "      <td>0</td>\n",
       "      <td>0</td>\n",
       "      <td>0</td>\n",
       "      <td>1</td>\n",
       "      <td>1</td>\n",
       "      <td>0</td>\n",
       "      <td>0</td>\n",
       "      <td>0</td>\n",
       "      <td>...</td>\n",
       "      <td>0</td>\n",
       "      <td>1</td>\n",
       "      <td>0</td>\n",
       "      <td>1</td>\n",
       "      <td>0</td>\n",
       "      <td>0</td>\n",
       "      <td>0</td>\n",
       "      <td>0</td>\n",
       "      <td>0</td>\n",
       "      <td>0</td>\n",
       "    </tr>\n",
       "    <tr>\n",
       "      <th>3725</th>\n",
       "      <td>0</td>\n",
       "      <td>0</td>\n",
       "      <td>0</td>\n",
       "      <td>0</td>\n",
       "      <td>0</td>\n",
       "      <td>1</td>\n",
       "      <td>0</td>\n",
       "      <td>0</td>\n",
       "      <td>1</td>\n",
       "      <td>0</td>\n",
       "      <td>...</td>\n",
       "      <td>0</td>\n",
       "      <td>1</td>\n",
       "      <td>0</td>\n",
       "      <td>1</td>\n",
       "      <td>0</td>\n",
       "      <td>0</td>\n",
       "      <td>0</td>\n",
       "      <td>0</td>\n",
       "      <td>0</td>\n",
       "      <td>0</td>\n",
       "    </tr>\n",
       "  </tbody>\n",
       "</table>\n",
       "<p>3 rows × 117 columns</p>\n",
       "</div>"
      ],
      "text/plain": [
       "      formato-chapéu_sino  formato-chapéu_cone  formato-chapéu_reto  \\\n",
       "1392                    0                    0                    1   \n",
       "4051                    0                    0                    0   \n",
       "3725                    0                    0                    0   \n",
       "\n",
       "      formato-chapéu_nodoso  formato-chapéu_afundado  formato-chapéu_convexo  \\\n",
       "1392                      0                        0                       0   \n",
       "4051                      0                        0                       1   \n",
       "3725                      0                        0                       1   \n",
       "\n",
       "      superfície-chapéu_fibroso  superfície-chapéu_ranhuras  \\\n",
       "1392                          0                           0   \n",
       "4051                          1                           0   \n",
       "3725                          0                           0   \n",
       "\n",
       "      superfície-chapéu_liso  superfície-chapéu_escamoso  ...  \\\n",
       "1392                       1                           0  ...   \n",
       "4051                       0                           0  ...   \n",
       "3725                       1                           0  ...   \n",
       "\n",
       "      população_espalhado  população_diverso  população_solitário  \\\n",
       "1392                    0                  0                    0   \n",
       "4051                    0                  1                    0   \n",
       "3725                    0                  1                    0   \n",
       "\n",
       "      habitat_madeira  habitat_gramínea  habitat_folha  habitat_pradaria  \\\n",
       "1392                0                 1              0                 0   \n",
       "4051                1                 0              0                 0   \n",
       "3725                1                 0              0                 0   \n",
       "\n",
       "      habitat_trilha  habitat_urbano  habitat_lixo  \n",
       "1392               0               0             0  \n",
       "4051               0               0             0  \n",
       "3725               0               0             0  \n",
       "\n",
       "[3 rows x 117 columns]"
      ]
     },
     "execution_count": 29,
     "metadata": {},
     "output_type": "execute_result"
    }
   ],
   "source": [
    "X_test = test.loc[:, colunas_feature]\n",
    "X_test = pd.get_dummies(X_test)\n",
    "X_test.head(3)"
   ]
  },
  {
   "cell_type": "code",
   "execution_count": 30,
   "metadata": {},
   "outputs": [
    {
     "name": "stderr",
     "output_type": "stream",
     "text": [
      "C:\\ProgramData\\Anaconda3\\lib\\site-packages\\pandas\\core\\indexing.py:845: SettingWithCopyWarning: \n",
      "A value is trying to be set on a copy of a slice from a DataFrame.\n",
      "Try using .loc[row_indexer,col_indexer] = value instead\n",
      "\n",
      "See the caveats in the documentation: https://pandas.pydata.org/pandas-docs/stable/user_guide/indexing.html#returning-a-view-versus-a-copy\n",
      "  self.obj[key] = _infer_fill_value(value)\n",
      "C:\\ProgramData\\Anaconda3\\lib\\site-packages\\pandas\\core\\indexing.py:966: SettingWithCopyWarning: \n",
      "A value is trying to be set on a copy of a slice from a DataFrame.\n",
      "Try using .loc[row_indexer,col_indexer] = value instead\n",
      "\n",
      "See the caveats in the documentation: https://pandas.pydata.org/pandas-docs/stable/user_guide/indexing.html#returning-a-view-versus-a-copy\n",
      "  self.obj[item] = s\n"
     ]
    },
    {
     "data": {
      "text/plain": [
       "1392    0.0\n",
       "4051    1.0\n",
       "3725    1.0\n",
       "Name: y_test, dtype: float64"
      ]
     },
     "execution_count": 30,
     "metadata": {},
     "output_type": "execute_result"
    }
   ],
   "source": [
    "test.loc[test['classe']=='venenoso', 'y_test']=1\n",
    "test.loc[test['classe']=='comestível', 'y_test']=0\n",
    "y_test=test.loc[:, 'y_test']\n",
    "y_test.head(3)"
   ]
  },
  {
   "cell_type": "markdown",
   "metadata": {},
   "source": [
    "Na célula abaixo, obtém-se o score do modelo quando aplicado à base de testes:"
   ]
  },
  {
   "cell_type": "code",
   "execution_count": 31,
   "metadata": {},
   "outputs": [
    {
     "name": "stdout",
     "output_type": "stream",
     "text": [
      "O score do classificador quando aplicado à base de teste é de 100.0%. Logo, não há overfitting.\n"
     ]
    }
   ],
   "source": [
    "score_teste=clf.score(X_test, y_test)\n",
    "print('O score do classificador quando aplicado à base de teste é de {}%. Logo, não há overfitting.'.format(score_teste*100))"
   ]
  },
  {
   "cell_type": "markdown",
   "metadata": {},
   "source": [
    "#### Validação Cruzada"
   ]
  },
  {
   "cell_type": "markdown",
   "metadata": {},
   "source": [
    "Outra forma de testar a performance do classificador é a validação cruzada. Esse processo se baseia em dividir diversas vezes o dataset em treinamento e teste, construir o modelo com a base de treinamento e testar o score com a base de teste. Para isso, novamente é necessário transformar as features em dummies, mas agora é com o dataset inteiro."
   ]
  },
  {
   "cell_type": "code",
   "execution_count": 32,
   "metadata": {},
   "outputs": [
    {
     "name": "stdout",
     "output_type": "stream",
     "text": [
      "O score médio da validação cruzada é 96.83%. Pode-se afirmar que a performance do classificador é alta.\n"
     ]
    }
   ],
   "source": [
    "from sklearn.model_selection import cross_val_score  # função do SciKit Learn que faz a validação cruzada\n",
    "\n",
    "X_cross = dataset.loc[:, colunas_feature]\n",
    "X_cross = pd.get_dummies(X_cross)\n",
    "\n",
    "dataset.loc[dataset['classe']=='venenoso', 'y_cross'] = 1\n",
    "dataset.loc[dataset['classe']=='comestível', 'y_cross'] = 0\n",
    "y_cross=dataset.loc[:, 'y_cross']\n",
    "\n",
    "clf.fit(X_cross, y_cross)\n",
    "\n",
    "score_medio=cross_val_score(clf, X_cross, y_cross, cv=10).mean()  # rodando a validação cruzada 10 vezes (cv=10) e obtendo a média\n",
    "print('O score médio da validação cruzada é {}%. Pode-se afirmar que a performance do classificador é alta.'.format((score_medio*100).round(2)))"
   ]
  },
  {
   "cell_type": "markdown",
   "metadata": {},
   "source": [
    "## Features mais Relevantes"
   ]
  },
  {
   "cell_type": "markdown",
   "metadata": {},
   "source": [
    "Outra informação interessante que pode ser obtida por meio da biblioteca SciKit Learn são as importâncias de cada feature para o processo de classificação. A unidade de medida dessa importância é em porcentagem, indicando que se trata de um comparação entre features.\n",
    "\n",
    "O código abaixo serve para definir as features cuja importância é pelo menos 1.5 %."
   ]
  },
  {
   "cell_type": "code",
   "execution_count": 37,
   "metadata": {},
   "outputs": [],
   "source": [
    "importancias = clf.feature_importances_\n",
    "mais_imp = []\n",
    "imps=[]\n",
    "i=0\n",
    "for imp in importancias:\n",
    "    if imp>=0.02:\n",
    "        mais_imp.append(X.columns[i])\n",
    "        imps.append(imp)\n",
    "    i+=1"
   ]
  },
  {
   "cell_type": "markdown",
   "metadata": {},
   "source": [
    "Uma maneira legal de visualizar a importância das features é um gráfico de barras. Para isso, utilizou-se a biblioteca Seaborn."
   ]
  },
  {
   "cell_type": "code",
   "execution_count": 38,
   "metadata": {},
   "outputs": [
    {
     "name": "stderr",
     "output_type": "stream",
     "text": [
      "No handles with labels found to put in legend.\n"
     ]
    },
    {
     "data": {
      "image/png": "[encoded data removed]",
      "text/plain": [
       "<Figure size 432x288 with 1 Axes>"
      ]
     },
     "metadata": {
      "needs_background": "light"
     },
     "output_type": "display_data"
    }
   ],
   "source": [
    "import seaborn as sns\n",
    "\n",
    "sns.barplot(x=imps, y=mais_imp)\n",
    "\n",
    "plt.xlabel('Relevância')\n",
    "plt.ylabel('Variáveis')\n",
    "plt.title(\"Variáveis mais relevantes na análise\")\n",
    "plt.legend()\n",
    "plt.show()"
   ]
  },
  {
   "cell_type": "markdown",
   "metadata": {},
   "source": [
    "O gráfico acima mostra que a feature \"odor_nenhum\" é bastante relevante para a classificação. Talvez seja por isso que a raiz da árvore apresenta uma pergunta comessa feature."
   ]
  },
  {
   "cell_type": "markdown",
   "metadata": {},
   "source": [
    "## Comentários Finais"
   ]
  },
  {
   "cell_type": "markdown",
   "metadata": {},
   "source": [
    "Pode-se concluir que o modelo Decision Tree é bastante eficiente para classificar cogumelos. No entanto, isso não siginifica que o problema está resolvido, o projeto está pronto e funcionando perfeitamente. Como foi explicado anteriormente, o modelo de Decision Trees possui certas desvantagens, e por isso não se pode concluir que ele é um classificador perfeito somente porque seu score é alto.\n",
    "\n",
    "De modo a evitar falsas conclusões e aperfeiçoar a análise, será testado outro classificador: Random Forests. O notebook 3 contém a explicação e aplicação desse método."
   ]
  },
  {
   "cell_type": "markdown",
   "metadata": {},
   "source": [
    "# Referências \n",
    "\n",
    "\n",
    "- https://mljar.com/blog/visualize-decision-tree/ : Utilizado para explicar a teoria de Decision Tree\n",
    "- https://en.wikipedia.org/wiki/Decision_tree : Utilizado para complementar a teoria, explicas as utilizações, e também vantagens e desvantagens do modelo\n",
    "- https://medium.com/turing-talks/turing-talks-17-modelos-de-predi%C3%A7%C3%A3o-decision-tree-610aa484cb05 : Utilizado para complementar a explicação, e também onde foi retirada a imagem.\n",
    "- https://www.youtube.com/watch?v=7VeUPuFGJHk&t=4s&ab_channel=StatQuestwithJoshStarmer : explicação sobre impureza de Gini.\n",
    "- https://scikit-learn.org/stable/modules/generated/sklearn.tree.DecisionTreeClassifier.html : biblioteca do SciKit Learn para o classificador Decision Tree."
   ]
  }
 ],
 "metadata": {
  "kernelspec": {
   "display_name": "Python 3",
   "language": "python",
   "name": "python3"
  },
  "language_info": {
   "codemirror_mode": {
    "name": "ipython",
    "version": 3
   },
   "file_extension": ".py",
   "mimetype": "text/x-python",
   "name": "python",
   "nbconvert_exporter": "python",
   "pygments_lexer": "ipython3",
   "version": "3.8.3"
  }
 },
 "nbformat": 4,
 "nbformat_minor": 4
}
